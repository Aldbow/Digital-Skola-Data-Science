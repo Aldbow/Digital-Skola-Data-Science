{
  "nbformat": 4,
  "nbformat_minor": 0,
  "metadata": {
    "colab": {
      "name": "Homework Advance Dataframe.ipynb",
      "provenance": [],
      "collapsed_sections": [
        "hknGQ8Ef3Z7y"
      ]
    },
    "kernelspec": {
      "name": "python3",
      "display_name": "Python 3"
    },
    "language_info": {
      "name": "python"
    }
  },
  "cells": [
    {
      "cell_type": "markdown",
      "metadata": {
        "id": "hknGQ8Ef3Z7y"
      },
      "source": [
        "# **HOMEWORK ADVANCE DATAFRAME**\n",
        "---\n",
        "### Nama: Aldiva Wibowo\n",
        "### Kelas: Data Science B\n"
      ]
    },
    {
      "cell_type": "markdown",
      "metadata": {
        "id": "96kman1a3sp6"
      },
      "source": [
        "## **Pertanyaan 1**\n",
        "### Buat tiga object DataFrame, dengan nama object = matakuliah, mahasiswa, nilai."
      ]
    },
    {
      "cell_type": "code",
      "metadata": {
        "id": "srqkjN63vGxe"
      },
      "source": [
        "import pandas as pd"
      ],
      "execution_count": 2,
      "outputs": []
    },
    {
      "cell_type": "code",
      "metadata": {
        "id": "SAVNJt5PvVIB"
      },
      "source": [
        "matakuliah = pd.DataFrame({\n",
        "    'MKID': ['mk1', 'mk2', 'mk3', 'mk4'],\n",
        "    'NamaMatakuliah': ['Database', 'Programming', 'Web-based-Programming', 'Basic Calculus']\n",
        "})\n",
        "\n",
        "mahasiswa = pd.DataFrame({\n",
        "    'NIM': [101, 102, 103, 105],\n",
        "    'Nama': ['Jane', 'Mike', 'Dave', 'Bambang']\n",
        "})\n",
        "\n",
        "nilai = pd.DataFrame({\n",
        "    'NIM': [101, 101, 102, 103],\n",
        "    'MKID': ['mk1', 'mk3', 'mk2', 'mk2'],\n",
        "    'Nilai': [60, 80, 70, 95]\n",
        "})"
      ],
      "execution_count": 3,
      "outputs": []
    },
    {
      "cell_type": "code",
      "metadata": {
        "colab": {
          "base_uri": "https://localhost:8080/",
          "height": 170
        },
        "id": "N7Lf3oM_2RgZ",
        "outputId": "92179224-c783-469c-919a-227b79c6e5bd"
      },
      "source": [
        "matakuliah"
      ],
      "execution_count": null,
      "outputs": [
        {
          "output_type": "execute_result",
          "data": {
            "text/html": [
              "<div>\n",
              "<style scoped>\n",
              "    .dataframe tbody tr th:only-of-type {\n",
              "        vertical-align: middle;\n",
              "    }\n",
              "\n",
              "    .dataframe tbody tr th {\n",
              "        vertical-align: top;\n",
              "    }\n",
              "\n",
              "    .dataframe thead th {\n",
              "        text-align: right;\n",
              "    }\n",
              "</style>\n",
              "<table border=\"1\" class=\"dataframe\">\n",
              "  <thead>\n",
              "    <tr style=\"text-align: right;\">\n",
              "      <th></th>\n",
              "      <th>MKID</th>\n",
              "      <th>NamaMatakuliah</th>\n",
              "    </tr>\n",
              "  </thead>\n",
              "  <tbody>\n",
              "    <tr>\n",
              "      <th>0</th>\n",
              "      <td>mk1</td>\n",
              "      <td>Database</td>\n",
              "    </tr>\n",
              "    <tr>\n",
              "      <th>1</th>\n",
              "      <td>mk2</td>\n",
              "      <td>Programming</td>\n",
              "    </tr>\n",
              "    <tr>\n",
              "      <th>2</th>\n",
              "      <td>mk3</td>\n",
              "      <td>Web-based-Programming</td>\n",
              "    </tr>\n",
              "    <tr>\n",
              "      <th>3</th>\n",
              "      <td>mk4</td>\n",
              "      <td>Basic Calculus</td>\n",
              "    </tr>\n",
              "  </tbody>\n",
              "</table>\n",
              "</div>"
            ],
            "text/plain": [
              "  MKID         NamaMatakuliah\n",
              "0  mk1               Database\n",
              "1  mk2            Programming\n",
              "2  mk3  Web-based-Programming\n",
              "3  mk4         Basic Calculus"
            ]
          },
          "metadata": {},
          "execution_count": 35
        }
      ]
    },
    {
      "cell_type": "code",
      "metadata": {
        "colab": {
          "base_uri": "https://localhost:8080/",
          "height": 170
        },
        "id": "5dVZk9k42UV3",
        "outputId": "f27179d6-c1b2-47ad-a2d4-e685debd7597"
      },
      "source": [
        "mahasiswa"
      ],
      "execution_count": null,
      "outputs": [
        {
          "output_type": "execute_result",
          "data": {
            "text/html": [
              "<div>\n",
              "<style scoped>\n",
              "    .dataframe tbody tr th:only-of-type {\n",
              "        vertical-align: middle;\n",
              "    }\n",
              "\n",
              "    .dataframe tbody tr th {\n",
              "        vertical-align: top;\n",
              "    }\n",
              "\n",
              "    .dataframe thead th {\n",
              "        text-align: right;\n",
              "    }\n",
              "</style>\n",
              "<table border=\"1\" class=\"dataframe\">\n",
              "  <thead>\n",
              "    <tr style=\"text-align: right;\">\n",
              "      <th></th>\n",
              "      <th>NIM</th>\n",
              "      <th>Nama</th>\n",
              "    </tr>\n",
              "  </thead>\n",
              "  <tbody>\n",
              "    <tr>\n",
              "      <th>0</th>\n",
              "      <td>101</td>\n",
              "      <td>Jane</td>\n",
              "    </tr>\n",
              "    <tr>\n",
              "      <th>1</th>\n",
              "      <td>102</td>\n",
              "      <td>Mike</td>\n",
              "    </tr>\n",
              "    <tr>\n",
              "      <th>2</th>\n",
              "      <td>103</td>\n",
              "      <td>Dave</td>\n",
              "    </tr>\n",
              "    <tr>\n",
              "      <th>3</th>\n",
              "      <td>105</td>\n",
              "      <td>Bambang</td>\n",
              "    </tr>\n",
              "  </tbody>\n",
              "</table>\n",
              "</div>"
            ],
            "text/plain": [
              "   NIM     Nama\n",
              "0  101     Jane\n",
              "1  102     Mike\n",
              "2  103     Dave\n",
              "3  105  Bambang"
            ]
          },
          "metadata": {},
          "execution_count": 36
        }
      ]
    },
    {
      "cell_type": "code",
      "metadata": {
        "colab": {
          "base_uri": "https://localhost:8080/",
          "height": 170
        },
        "id": "x-cV3Cim2WGE",
        "outputId": "178bd442-d2a7-4ed2-ffbe-9a2ee27cf6bd"
      },
      "source": [
        "nilai"
      ],
      "execution_count": null,
      "outputs": [
        {
          "output_type": "execute_result",
          "data": {
            "text/html": [
              "<div>\n",
              "<style scoped>\n",
              "    .dataframe tbody tr th:only-of-type {\n",
              "        vertical-align: middle;\n",
              "    }\n",
              "\n",
              "    .dataframe tbody tr th {\n",
              "        vertical-align: top;\n",
              "    }\n",
              "\n",
              "    .dataframe thead th {\n",
              "        text-align: right;\n",
              "    }\n",
              "</style>\n",
              "<table border=\"1\" class=\"dataframe\">\n",
              "  <thead>\n",
              "    <tr style=\"text-align: right;\">\n",
              "      <th></th>\n",
              "      <th>NIM</th>\n",
              "      <th>MKID</th>\n",
              "      <th>Nilai</th>\n",
              "    </tr>\n",
              "  </thead>\n",
              "  <tbody>\n",
              "    <tr>\n",
              "      <th>0</th>\n",
              "      <td>101</td>\n",
              "      <td>mk1</td>\n",
              "      <td>60</td>\n",
              "    </tr>\n",
              "    <tr>\n",
              "      <th>1</th>\n",
              "      <td>101</td>\n",
              "      <td>mk3</td>\n",
              "      <td>80</td>\n",
              "    </tr>\n",
              "    <tr>\n",
              "      <th>2</th>\n",
              "      <td>102</td>\n",
              "      <td>mk2</td>\n",
              "      <td>70</td>\n",
              "    </tr>\n",
              "    <tr>\n",
              "      <th>3</th>\n",
              "      <td>103</td>\n",
              "      <td>mk3</td>\n",
              "      <td>95</td>\n",
              "    </tr>\n",
              "  </tbody>\n",
              "</table>\n",
              "</div>"
            ],
            "text/plain": [
              "   NIM MKID  Nilai\n",
              "0  101  mk1     60\n",
              "1  101  mk3     80\n",
              "2  102  mk2     70\n",
              "3  103  mk3     95"
            ]
          },
          "metadata": {},
          "execution_count": 37
        }
      ]
    },
    {
      "cell_type": "code",
      "metadata": {
        "colab": {
          "base_uri": "https://localhost:8080/",
          "height": 200
        },
        "id": "UGSjN8xb2WmC",
        "outputId": "a7af8bd8-da40-40d9-9834-87815514e5e0"
      },
      "source": [
        "gabung_nilai = pd.merge(pd.merge(mahasiswa, nilai, how='left', on='NIM'), matakuliah, how='left', on='MKID')\n",
        "gabung_nilai"
      ],
      "execution_count": 10,
      "outputs": [
        {
          "output_type": "execute_result",
          "data": {
            "text/html": [
              "<div>\n",
              "<style scoped>\n",
              "    .dataframe tbody tr th:only-of-type {\n",
              "        vertical-align: middle;\n",
              "    }\n",
              "\n",
              "    .dataframe tbody tr th {\n",
              "        vertical-align: top;\n",
              "    }\n",
              "\n",
              "    .dataframe thead th {\n",
              "        text-align: right;\n",
              "    }\n",
              "</style>\n",
              "<table border=\"1\" class=\"dataframe\">\n",
              "  <thead>\n",
              "    <tr style=\"text-align: right;\">\n",
              "      <th></th>\n",
              "      <th>NIM</th>\n",
              "      <th>Nama</th>\n",
              "      <th>MKID</th>\n",
              "      <th>Nilai</th>\n",
              "      <th>NamaMatakuliah</th>\n",
              "    </tr>\n",
              "  </thead>\n",
              "  <tbody>\n",
              "    <tr>\n",
              "      <th>0</th>\n",
              "      <td>101</td>\n",
              "      <td>Jane</td>\n",
              "      <td>mk1</td>\n",
              "      <td>60.0</td>\n",
              "      <td>Database</td>\n",
              "    </tr>\n",
              "    <tr>\n",
              "      <th>1</th>\n",
              "      <td>101</td>\n",
              "      <td>Jane</td>\n",
              "      <td>mk3</td>\n",
              "      <td>80.0</td>\n",
              "      <td>Web-based-Programming</td>\n",
              "    </tr>\n",
              "    <tr>\n",
              "      <th>2</th>\n",
              "      <td>102</td>\n",
              "      <td>Mike</td>\n",
              "      <td>mk2</td>\n",
              "      <td>70.0</td>\n",
              "      <td>Programming</td>\n",
              "    </tr>\n",
              "    <tr>\n",
              "      <th>3</th>\n",
              "      <td>103</td>\n",
              "      <td>Dave</td>\n",
              "      <td>mk2</td>\n",
              "      <td>95.0</td>\n",
              "      <td>Programming</td>\n",
              "    </tr>\n",
              "    <tr>\n",
              "      <th>4</th>\n",
              "      <td>105</td>\n",
              "      <td>Bambang</td>\n",
              "      <td>NaN</td>\n",
              "      <td>NaN</td>\n",
              "      <td>NaN</td>\n",
              "    </tr>\n",
              "  </tbody>\n",
              "</table>\n",
              "</div>"
            ],
            "text/plain": [
              "   NIM     Nama MKID  Nilai         NamaMatakuliah\n",
              "0  101     Jane  mk1   60.0               Database\n",
              "1  101     Jane  mk3   80.0  Web-based-Programming\n",
              "2  102     Mike  mk2   70.0            Programming\n",
              "3  103     Dave  mk2   95.0            Programming\n",
              "4  105  Bambang  NaN    NaN                    NaN"
            ]
          },
          "metadata": {},
          "execution_count": 10
        }
      ]
    },
    {
      "cell_type": "markdown",
      "metadata": {
        "id": "itLNsUzl4Cqp"
      },
      "source": [
        "## **Pertanyaan 2**\n",
        "### Buat object DataFrame, dengan nama object = matakuliah."
      ]
    },
    {
      "cell_type": "code",
      "metadata": {
        "colab": {
          "base_uri": "https://localhost:8080/",
          "height": 200
        },
        "id": "NF6XjoG54Scg",
        "outputId": "8b4eca90-9abe-4bfd-c1a6-e973cbe44fef"
      },
      "source": [
        "matakuliah = pd.DataFrame({\n",
        "    'Mhs ID': ['001', '001', '001', '002', '002'],\n",
        "    'Nama': ['Budi', 'Budi', 'Budi', 'Joko', 'Joko'],\n",
        "    'Matakuliah': ['Kalkulus', 'Fisika', 'Basis Data', 'Programming', 'Basis Data']\n",
        "})\n",
        "\n",
        "matakuliah"
      ],
      "execution_count": 15,
      "outputs": [
        {
          "output_type": "execute_result",
          "data": {
            "text/html": [
              "<div>\n",
              "<style scoped>\n",
              "    .dataframe tbody tr th:only-of-type {\n",
              "        vertical-align: middle;\n",
              "    }\n",
              "\n",
              "    .dataframe tbody tr th {\n",
              "        vertical-align: top;\n",
              "    }\n",
              "\n",
              "    .dataframe thead th {\n",
              "        text-align: right;\n",
              "    }\n",
              "</style>\n",
              "<table border=\"1\" class=\"dataframe\">\n",
              "  <thead>\n",
              "    <tr style=\"text-align: right;\">\n",
              "      <th></th>\n",
              "      <th>Mhs ID</th>\n",
              "      <th>Nama</th>\n",
              "      <th>Matakuliah</th>\n",
              "    </tr>\n",
              "  </thead>\n",
              "  <tbody>\n",
              "    <tr>\n",
              "      <th>0</th>\n",
              "      <td>001</td>\n",
              "      <td>Budi</td>\n",
              "      <td>Kalkulus</td>\n",
              "    </tr>\n",
              "    <tr>\n",
              "      <th>1</th>\n",
              "      <td>001</td>\n",
              "      <td>Budi</td>\n",
              "      <td>Fisika</td>\n",
              "    </tr>\n",
              "    <tr>\n",
              "      <th>2</th>\n",
              "      <td>001</td>\n",
              "      <td>Budi</td>\n",
              "      <td>Basis Data</td>\n",
              "    </tr>\n",
              "    <tr>\n",
              "      <th>3</th>\n",
              "      <td>002</td>\n",
              "      <td>Joko</td>\n",
              "      <td>Programming</td>\n",
              "    </tr>\n",
              "    <tr>\n",
              "      <th>4</th>\n",
              "      <td>002</td>\n",
              "      <td>Joko</td>\n",
              "      <td>Basis Data</td>\n",
              "    </tr>\n",
              "  </tbody>\n",
              "</table>\n",
              "</div>"
            ],
            "text/plain": [
              "  Mhs ID  Nama   Matakuliah\n",
              "0    001  Budi     Kalkulus\n",
              "1    001  Budi       Fisika\n",
              "2    001  Budi   Basis Data\n",
              "3    002  Joko  Programming\n",
              "4    002  Joko   Basis Data"
            ]
          },
          "metadata": {},
          "execution_count": 15
        }
      ]
    },
    {
      "cell_type": "code",
      "metadata": {
        "colab": {
          "base_uri": "https://localhost:8080/",
          "height": 200
        },
        "id": "p0opgT2v5EKs",
        "outputId": "25352a1e-2dc4-41de-de36-71852f7f3465"
      },
      "source": [
        "matakuliah['Dosen'] = matakuliah['Matakuliah'].apply(lambda x: 'Pak Agus' if x == 'Kalkulus' else\n",
        "                                                     ('Pak Dwi'if x == 'Fisika' else\n",
        "                                                      ('Bu Dian' if x == 'Basis Data' else 'Bu Susi')))\n",
        "\n",
        "matakuliah"
      ],
      "execution_count": 20,
      "outputs": [
        {
          "output_type": "execute_result",
          "data": {
            "text/html": [
              "<div>\n",
              "<style scoped>\n",
              "    .dataframe tbody tr th:only-of-type {\n",
              "        vertical-align: middle;\n",
              "    }\n",
              "\n",
              "    .dataframe tbody tr th {\n",
              "        vertical-align: top;\n",
              "    }\n",
              "\n",
              "    .dataframe thead th {\n",
              "        text-align: right;\n",
              "    }\n",
              "</style>\n",
              "<table border=\"1\" class=\"dataframe\">\n",
              "  <thead>\n",
              "    <tr style=\"text-align: right;\">\n",
              "      <th></th>\n",
              "      <th>Mhs ID</th>\n",
              "      <th>Nama</th>\n",
              "      <th>Matakuliah</th>\n",
              "      <th>Dosen</th>\n",
              "    </tr>\n",
              "  </thead>\n",
              "  <tbody>\n",
              "    <tr>\n",
              "      <th>0</th>\n",
              "      <td>001</td>\n",
              "      <td>Budi</td>\n",
              "      <td>Kalkulus</td>\n",
              "      <td>Pak Agus</td>\n",
              "    </tr>\n",
              "    <tr>\n",
              "      <th>1</th>\n",
              "      <td>001</td>\n",
              "      <td>Budi</td>\n",
              "      <td>Fisika</td>\n",
              "      <td>Pak Dwi</td>\n",
              "    </tr>\n",
              "    <tr>\n",
              "      <th>2</th>\n",
              "      <td>001</td>\n",
              "      <td>Budi</td>\n",
              "      <td>Basis Data</td>\n",
              "      <td>Bu Dian</td>\n",
              "    </tr>\n",
              "    <tr>\n",
              "      <th>3</th>\n",
              "      <td>002</td>\n",
              "      <td>Joko</td>\n",
              "      <td>Programming</td>\n",
              "      <td>Bu Susi</td>\n",
              "    </tr>\n",
              "    <tr>\n",
              "      <th>4</th>\n",
              "      <td>002</td>\n",
              "      <td>Joko</td>\n",
              "      <td>Basis Data</td>\n",
              "      <td>Bu Dian</td>\n",
              "    </tr>\n",
              "  </tbody>\n",
              "</table>\n",
              "</div>"
            ],
            "text/plain": [
              "  Mhs ID  Nama   Matakuliah     Dosen\n",
              "0    001  Budi     Kalkulus  Pak Agus\n",
              "1    001  Budi       Fisika   Pak Dwi\n",
              "2    001  Budi   Basis Data   Bu Dian\n",
              "3    002  Joko  Programming   Bu Susi\n",
              "4    002  Joko   Basis Data   Bu Dian"
            ]
          },
          "metadata": {},
          "execution_count": 20
        }
      ]
    }
  ]
}