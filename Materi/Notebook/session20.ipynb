{
  "nbformat": 4,
  "nbformat_minor": 0,
  "metadata": {
    "colab": {
      "name": "session20.ipynb",
      "provenance": [],
      "collapsed_sections": [],
      "toc_visible": true
    },
    "kernelspec": {
      "name": "python3",
      "display_name": "Python 3"
    },
    "language_info": {
      "name": "python"
    }
  },
  "cells": [
    {
      "cell_type": "markdown",
      "metadata": {
        "id": "2U3adKsBueLW"
      },
      "source": [
        "# Advanced dataframe"
      ]
    },
    {
      "cell_type": "markdown",
      "metadata": {
        "id": "bPJwDD7MuinK"
      },
      "source": [
        "## merging "
      ]
    },
    {
      "cell_type": "code",
      "metadata": {
        "colab": {
          "base_uri": "https://localhost:8080/"
        },
        "id": "gbR0f1O9ugvq",
        "outputId": "1d52af2a-19da-456a-8635-73f4c0dd63b2"
      },
      "source": [
        "import pandas as pd\n",
        "\n",
        "kiri = pd.DataFrame({\n",
        "    'Id': [1,2,3],\n",
        "    'Nama': ['Budi', 'Joko', 'Maya'],\n",
        "    'Alamat' : ['Jakarta', 'Surabay', 'Medan']\n",
        "})\n",
        "\n",
        "kanan = kiri = pd.DataFrame({\n",
        "    'Id': [1,2,3],\n",
        "    'Nama': ['Jane', 'mike', 'dave'],\n",
        "    'Alamat' : ['Semarang', 'Yogya', 'Solo']\n",
        "})\n",
        "\n",
        "print(kiri)\n",
        "print(kanan)"
      ],
      "execution_count": null,
      "outputs": [
        {
          "output_type": "stream",
          "name": "stdout",
          "text": [
            "   Id  Nama    Alamat\n",
            "0   1  Jane  Semarang\n",
            "1   2  mike     Yogya\n",
            "2   3  dave      Solo\n",
            "   Id  Nama    Alamat\n",
            "0   1  Jane  Semarang\n",
            "1   2  mike     Yogya\n",
            "2   3  dave      Solo\n"
          ]
        }
      ]
    },
    {
      "cell_type": "code",
      "metadata": {
        "colab": {
          "base_uri": "https://localhost:8080/",
          "height": 143
        },
        "id": "WmpgAlZavRyj",
        "outputId": "939a66c1-58dc-456a-e5df-f65cf5a35edd"
      },
      "source": [
        "gabung = pd.merge(kiri, kanan, on='Id')\n",
        "gabung"
      ],
      "execution_count": null,
      "outputs": [
        {
          "output_type": "execute_result",
          "data": {
            "text/html": [
              "<div>\n",
              "<style scoped>\n",
              "    .dataframe tbody tr th:only-of-type {\n",
              "        vertical-align: middle;\n",
              "    }\n",
              "\n",
              "    .dataframe tbody tr th {\n",
              "        vertical-align: top;\n",
              "    }\n",
              "\n",
              "    .dataframe thead th {\n",
              "        text-align: right;\n",
              "    }\n",
              "</style>\n",
              "<table border=\"1\" class=\"dataframe\">\n",
              "  <thead>\n",
              "    <tr style=\"text-align: right;\">\n",
              "      <th></th>\n",
              "      <th>Id</th>\n",
              "      <th>Nama_x</th>\n",
              "      <th>Alamat_x</th>\n",
              "      <th>Nama_y</th>\n",
              "      <th>Alamat_y</th>\n",
              "    </tr>\n",
              "  </thead>\n",
              "  <tbody>\n",
              "    <tr>\n",
              "      <th>0</th>\n",
              "      <td>1</td>\n",
              "      <td>Jane</td>\n",
              "      <td>Semarang</td>\n",
              "      <td>Jane</td>\n",
              "      <td>Semarang</td>\n",
              "    </tr>\n",
              "    <tr>\n",
              "      <th>1</th>\n",
              "      <td>2</td>\n",
              "      <td>mike</td>\n",
              "      <td>Yogya</td>\n",
              "      <td>mike</td>\n",
              "      <td>Yogya</td>\n",
              "    </tr>\n",
              "    <tr>\n",
              "      <th>2</th>\n",
              "      <td>3</td>\n",
              "      <td>dave</td>\n",
              "      <td>Solo</td>\n",
              "      <td>dave</td>\n",
              "      <td>Solo</td>\n",
              "    </tr>\n",
              "  </tbody>\n",
              "</table>\n",
              "</div>"
            ],
            "text/plain": [
              "   Id Nama_x  Alamat_x Nama_y  Alamat_y\n",
              "0   1   Jane  Semarang   Jane  Semarang\n",
              "1   2   mike     Yogya   mike     Yogya\n",
              "2   3   dave      Solo   dave      Solo"
            ]
          },
          "metadata": {},
          "execution_count": 92
        }
      ]
    },
    {
      "cell_type": "code",
      "metadata": {
        "colab": {
          "base_uri": "https://localhost:8080/"
        },
        "id": "ic4L37xgwEXY",
        "outputId": "3140d236-ef22-4676-a2b5-90f49c953194"
      },
      "source": [
        "import pandas as pd\n",
        "karyawan = pd.DataFrame({\n",
        "    'Nama': ['Budi', 'Joko', 'Maya'],\n",
        "    'Alamat': ['Jakarta', 'Surabaya', 'Medan'],\n",
        "    'Id Pekerjaan' : [1,7,2]\n",
        "})\n",
        "\n",
        "pekerjaan = pd.DataFrame({\n",
        "    'Id Pekerjaan': [2,1,4,3],\n",
        "    'Nama': ['Programmer', 'Data Engineer', 'Manager', 'Web Developer'],\n",
        "    'Gaji' : [5000, 4000, 3000, 6000]\n",
        "})\n",
        "\n",
        "print(karyawan)\n",
        "print(pekerjaan)\n"
      ],
      "execution_count": null,
      "outputs": [
        {
          "output_type": "stream",
          "name": "stdout",
          "text": [
            "   Nama    Alamat  Id Pekerjaan\n",
            "0  Budi   Jakarta             1\n",
            "1  Joko  Surabaya             7\n",
            "2  Maya     Medan             2\n",
            "   Id Pekerjaan           Nama  Gaji\n",
            "0             2     Programmer  5000\n",
            "1             1  Data Engineer  4000\n",
            "2             4        Manager  3000\n",
            "3             3  Web Developer  6000\n"
          ]
        }
      ]
    },
    {
      "cell_type": "code",
      "metadata": {
        "colab": {
          "base_uri": "https://localhost:8080/",
          "height": 143
        },
        "id": "OWk26Jo3w3oE",
        "outputId": "90b6b13a-fae2-425b-fe97-2762f7b06ab9"
      },
      "source": [
        "gabung_merge = pd.merge(karyawan, pekerjaan, on='Id Pekerjaan',\n",
        "                        how='left', sort=True)\n",
        "gabung_merge"
      ],
      "execution_count": null,
      "outputs": [
        {
          "output_type": "execute_result",
          "data": {
            "text/html": [
              "<div>\n",
              "<style scoped>\n",
              "    .dataframe tbody tr th:only-of-type {\n",
              "        vertical-align: middle;\n",
              "    }\n",
              "\n",
              "    .dataframe tbody tr th {\n",
              "        vertical-align: top;\n",
              "    }\n",
              "\n",
              "    .dataframe thead th {\n",
              "        text-align: right;\n",
              "    }\n",
              "</style>\n",
              "<table border=\"1\" class=\"dataframe\">\n",
              "  <thead>\n",
              "    <tr style=\"text-align: right;\">\n",
              "      <th></th>\n",
              "      <th>Nama_x</th>\n",
              "      <th>Alamat</th>\n",
              "      <th>Id Pekerjaan</th>\n",
              "      <th>Nama_y</th>\n",
              "      <th>Gaji</th>\n",
              "    </tr>\n",
              "  </thead>\n",
              "  <tbody>\n",
              "    <tr>\n",
              "      <th>0</th>\n",
              "      <td>Budi</td>\n",
              "      <td>Jakarta</td>\n",
              "      <td>1</td>\n",
              "      <td>Data Engineer</td>\n",
              "      <td>4000.0</td>\n",
              "    </tr>\n",
              "    <tr>\n",
              "      <th>1</th>\n",
              "      <td>Maya</td>\n",
              "      <td>Medan</td>\n",
              "      <td>2</td>\n",
              "      <td>Programmer</td>\n",
              "      <td>5000.0</td>\n",
              "    </tr>\n",
              "    <tr>\n",
              "      <th>2</th>\n",
              "      <td>Joko</td>\n",
              "      <td>Surabaya</td>\n",
              "      <td>7</td>\n",
              "      <td>NaN</td>\n",
              "      <td>NaN</td>\n",
              "    </tr>\n",
              "  </tbody>\n",
              "</table>\n",
              "</div>"
            ],
            "text/plain": [
              "  Nama_x    Alamat  Id Pekerjaan         Nama_y    Gaji\n",
              "0   Budi   Jakarta             1  Data Engineer  4000.0\n",
              "1   Maya     Medan             2     Programmer  5000.0\n",
              "2   Joko  Surabaya             7            NaN     NaN"
            ]
          },
          "metadata": {},
          "execution_count": 175
        }
      ]
    },
    {
      "cell_type": "code",
      "metadata": {
        "colab": {
          "base_uri": "https://localhost:8080/",
          "height": 143
        },
        "id": "sgLI4DOuyX38",
        "outputId": "58637c5c-bf95-437f-8268-3f6761c2295a"
      },
      "source": [
        "#menggunakan suffixes\n",
        "gabung_merge = pd.merge(karyawan, pekerjaan, on='Id Pekerjaan', \n",
        "                        how='left', sort=True, suffixes=('_pegawai', '_pekerjaan'))\n",
        "gabung_merge"
      ],
      "execution_count": null,
      "outputs": [
        {
          "output_type": "execute_result",
          "data": {
            "text/html": [
              "<div>\n",
              "<style scoped>\n",
              "    .dataframe tbody tr th:only-of-type {\n",
              "        vertical-align: middle;\n",
              "    }\n",
              "\n",
              "    .dataframe tbody tr th {\n",
              "        vertical-align: top;\n",
              "    }\n",
              "\n",
              "    .dataframe thead th {\n",
              "        text-align: right;\n",
              "    }\n",
              "</style>\n",
              "<table border=\"1\" class=\"dataframe\">\n",
              "  <thead>\n",
              "    <tr style=\"text-align: right;\">\n",
              "      <th></th>\n",
              "      <th>Nama_pegawai</th>\n",
              "      <th>Alamat</th>\n",
              "      <th>Id Pekerjaan</th>\n",
              "      <th>Nama_pekerjaan</th>\n",
              "      <th>Gaji</th>\n",
              "    </tr>\n",
              "  </thead>\n",
              "  <tbody>\n",
              "    <tr>\n",
              "      <th>0</th>\n",
              "      <td>Budi</td>\n",
              "      <td>Jakarta</td>\n",
              "      <td>1</td>\n",
              "      <td>Data Engineer</td>\n",
              "      <td>4000.0</td>\n",
              "    </tr>\n",
              "    <tr>\n",
              "      <th>1</th>\n",
              "      <td>Maya</td>\n",
              "      <td>Medan</td>\n",
              "      <td>2</td>\n",
              "      <td>Programmer</td>\n",
              "      <td>5000.0</td>\n",
              "    </tr>\n",
              "    <tr>\n",
              "      <th>2</th>\n",
              "      <td>Joko</td>\n",
              "      <td>Surabaya</td>\n",
              "      <td>7</td>\n",
              "      <td>NaN</td>\n",
              "      <td>NaN</td>\n",
              "    </tr>\n",
              "  </tbody>\n",
              "</table>\n",
              "</div>"
            ],
            "text/plain": [
              "  Nama_pegawai    Alamat  Id Pekerjaan Nama_pekerjaan    Gaji\n",
              "0         Budi   Jakarta             1  Data Engineer  4000.0\n",
              "1         Maya     Medan             2     Programmer  5000.0\n",
              "2         Joko  Surabaya             7            NaN     NaN"
            ]
          },
          "metadata": {},
          "execution_count": 176
        }
      ]
    },
    {
      "cell_type": "markdown",
      "metadata": {
        "id": "n4ID3N9b0Yjw"
      },
      "source": [
        "## join"
      ]
    },
    {
      "cell_type": "code",
      "metadata": {
        "colab": {
          "base_uri": "https://localhost:8080/"
        },
        "id": "cWuPalbw0b8N",
        "outputId": "d3bff77b-f820-4afc-961e-dc8af37bb8fe"
      },
      "source": [
        "import pandas as pd\n",
        "karyawan = pd.DataFrame({\n",
        "    'Nama': ['Budi', 'Joko', 'Maya'],\n",
        "    'Alamat': ['Jakarta', 'Surabaya', 'Medan'],\n",
        "    'Id' : [1,7,2]\n",
        "})\n",
        "pekerjaan = pd.DataFrame({\n",
        "    'Id': [2,1,4,3],\n",
        "    'Nama': ['Programmer', 'Data Engineer', \n",
        "             'Manager', 'Web Developer'],\n",
        "    'Gaji' : [5000, 4000, 3000, 6000]\n",
        "})\n",
        "print(karyawan)\n",
        "print(pekerjaan)"
      ],
      "execution_count": null,
      "outputs": [
        {
          "output_type": "stream",
          "name": "stdout",
          "text": [
            "   Nama    Alamat  Id\n",
            "0  Budi   Jakarta   1\n",
            "1  Joko  Surabaya   7\n",
            "2  Maya     Medan   2\n",
            "   Id           Nama  Gaji\n",
            "0   2     Programmer  5000\n",
            "1   1  Data Engineer  4000\n",
            "2   4        Manager  3000\n",
            "3   3  Web Developer  6000\n"
          ]
        }
      ]
    },
    {
      "cell_type": "code",
      "metadata": {
        "colab": {
          "base_uri": "https://localhost:8080/",
          "height": 143
        },
        "id": "a_KTI8AP0kV3",
        "outputId": "e19fb401-196b-4620-f0ce-c2b70a2adfca"
      },
      "source": [
        "#versi 1. hasil tidak sama dengan merge()\n",
        "gabung_join = karyawan.join(pekerjaan, how='left', rsuffix='_pekerjaan')\n",
        "gabung_join"
      ],
      "execution_count": null,
      "outputs": [
        {
          "output_type": "execute_result",
          "data": {
            "text/html": [
              "<div>\n",
              "<style scoped>\n",
              "    .dataframe tbody tr th:only-of-type {\n",
              "        vertical-align: middle;\n",
              "    }\n",
              "\n",
              "    .dataframe tbody tr th {\n",
              "        vertical-align: top;\n",
              "    }\n",
              "\n",
              "    .dataframe thead th {\n",
              "        text-align: right;\n",
              "    }\n",
              "</style>\n",
              "<table border=\"1\" class=\"dataframe\">\n",
              "  <thead>\n",
              "    <tr style=\"text-align: right;\">\n",
              "      <th></th>\n",
              "      <th>Nama</th>\n",
              "      <th>Alamat</th>\n",
              "      <th>Id</th>\n",
              "      <th>Id_pekerjaan</th>\n",
              "      <th>Nama_pekerjaan</th>\n",
              "      <th>Gaji</th>\n",
              "    </tr>\n",
              "  </thead>\n",
              "  <tbody>\n",
              "    <tr>\n",
              "      <th>0</th>\n",
              "      <td>Budi</td>\n",
              "      <td>Jakarta</td>\n",
              "      <td>1</td>\n",
              "      <td>2</td>\n",
              "      <td>Programmer</td>\n",
              "      <td>5000</td>\n",
              "    </tr>\n",
              "    <tr>\n",
              "      <th>1</th>\n",
              "      <td>Joko</td>\n",
              "      <td>Surabaya</td>\n",
              "      <td>7</td>\n",
              "      <td>1</td>\n",
              "      <td>Data Engineer</td>\n",
              "      <td>4000</td>\n",
              "    </tr>\n",
              "    <tr>\n",
              "      <th>2</th>\n",
              "      <td>Maya</td>\n",
              "      <td>Medan</td>\n",
              "      <td>2</td>\n",
              "      <td>4</td>\n",
              "      <td>Manager</td>\n",
              "      <td>3000</td>\n",
              "    </tr>\n",
              "  </tbody>\n",
              "</table>\n",
              "</div>"
            ],
            "text/plain": [
              "   Nama    Alamat  Id  Id_pekerjaan Nama_pekerjaan  Gaji\n",
              "0  Budi   Jakarta   1             2     Programmer  5000\n",
              "1  Joko  Surabaya   7             1  Data Engineer  4000\n",
              "2  Maya     Medan   2             4        Manager  3000"
            ]
          },
          "metadata": {},
          "execution_count": 183
        }
      ]
    },
    {
      "cell_type": "code",
      "metadata": {
        "colab": {
          "base_uri": "https://localhost:8080/",
          "height": 174
        },
        "id": "VCL9kFO2NetH",
        "outputId": "94cafc13-d895-4444-963e-a964f6781765"
      },
      "source": [
        "#versi 2.hasil sama dengan merge()\n",
        "gabung_join2 = karyawan.set_index('Id').join(pekerjaan.set_index('Id'), sort=True,\n",
        "                                             how='left', rsuffix='_pekerjaan')\n",
        "gabung_join2"
      ],
      "execution_count": null,
      "outputs": [
        {
          "output_type": "execute_result",
          "data": {
            "text/html": [
              "<div>\n",
              "<style scoped>\n",
              "    .dataframe tbody tr th:only-of-type {\n",
              "        vertical-align: middle;\n",
              "    }\n",
              "\n",
              "    .dataframe tbody tr th {\n",
              "        vertical-align: top;\n",
              "    }\n",
              "\n",
              "    .dataframe thead th {\n",
              "        text-align: right;\n",
              "    }\n",
              "</style>\n",
              "<table border=\"1\" class=\"dataframe\">\n",
              "  <thead>\n",
              "    <tr style=\"text-align: right;\">\n",
              "      <th></th>\n",
              "      <th>Nama</th>\n",
              "      <th>Alamat</th>\n",
              "      <th>Nama_pekerjaan</th>\n",
              "      <th>Gaji</th>\n",
              "    </tr>\n",
              "    <tr>\n",
              "      <th>Id</th>\n",
              "      <th></th>\n",
              "      <th></th>\n",
              "      <th></th>\n",
              "      <th></th>\n",
              "    </tr>\n",
              "  </thead>\n",
              "  <tbody>\n",
              "    <tr>\n",
              "      <th>1</th>\n",
              "      <td>Budi</td>\n",
              "      <td>Jakarta</td>\n",
              "      <td>Data Engineer</td>\n",
              "      <td>4000.0</td>\n",
              "    </tr>\n",
              "    <tr>\n",
              "      <th>2</th>\n",
              "      <td>Maya</td>\n",
              "      <td>Medan</td>\n",
              "      <td>Programmer</td>\n",
              "      <td>5000.0</td>\n",
              "    </tr>\n",
              "    <tr>\n",
              "      <th>7</th>\n",
              "      <td>Joko</td>\n",
              "      <td>Surabaya</td>\n",
              "      <td>NaN</td>\n",
              "      <td>NaN</td>\n",
              "    </tr>\n",
              "  </tbody>\n",
              "</table>\n",
              "</div>"
            ],
            "text/plain": [
              "    Nama    Alamat Nama_pekerjaan    Gaji\n",
              "Id                                       \n",
              "1   Budi   Jakarta  Data Engineer  4000.0\n",
              "2   Maya     Medan     Programmer  5000.0\n",
              "7   Joko  Surabaya            NaN     NaN"
            ]
          },
          "metadata": {},
          "execution_count": 184
        }
      ]
    },
    {
      "cell_type": "markdown",
      "metadata": {
        "id": "j-NSMiKz3nmD"
      },
      "source": [
        "## concat"
      ]
    },
    {
      "cell_type": "code",
      "metadata": {
        "colab": {
          "base_uri": "https://localhost:8080/",
          "height": 238
        },
        "id": "YDabqjWD3pA6",
        "outputId": "b5018698-93ad-4870-b816-5da58ec99612"
      },
      "source": [
        "# menjadi baris baru. axis=0\n",
        "kiri = pd.DataFrame({\n",
        "    'Nama': ['Budi', 'Joko', 'Maya'],\n",
        "    'Alamat' : ['Jakarta', 'Surabay', 'Medan']\n",
        "})\n",
        "\n",
        "kanan = kiri = pd.DataFrame({\n",
        "    'Nama': ['Jane', 'mike', 'dave'],\n",
        "    'Alamat' : ['Semarang', 'Yogya', 'Solo']\n",
        "})\n",
        "\n",
        "gabung_concat = pd.concat([kiri, kanan], axis=0, ignore_index=True)\n",
        "gabung_concat"
      ],
      "execution_count": null,
      "outputs": [
        {
          "output_type": "execute_result",
          "data": {
            "text/html": [
              "<div>\n",
              "<style scoped>\n",
              "    .dataframe tbody tr th:only-of-type {\n",
              "        vertical-align: middle;\n",
              "    }\n",
              "\n",
              "    .dataframe tbody tr th {\n",
              "        vertical-align: top;\n",
              "    }\n",
              "\n",
              "    .dataframe thead th {\n",
              "        text-align: right;\n",
              "    }\n",
              "</style>\n",
              "<table border=\"1\" class=\"dataframe\">\n",
              "  <thead>\n",
              "    <tr style=\"text-align: right;\">\n",
              "      <th></th>\n",
              "      <th>Nama</th>\n",
              "      <th>Alamat</th>\n",
              "    </tr>\n",
              "  </thead>\n",
              "  <tbody>\n",
              "    <tr>\n",
              "      <th>0</th>\n",
              "      <td>Jane</td>\n",
              "      <td>Semarang</td>\n",
              "    </tr>\n",
              "    <tr>\n",
              "      <th>1</th>\n",
              "      <td>mike</td>\n",
              "      <td>Yogya</td>\n",
              "    </tr>\n",
              "    <tr>\n",
              "      <th>2</th>\n",
              "      <td>dave</td>\n",
              "      <td>Solo</td>\n",
              "    </tr>\n",
              "    <tr>\n",
              "      <th>3</th>\n",
              "      <td>Jane</td>\n",
              "      <td>Semarang</td>\n",
              "    </tr>\n",
              "    <tr>\n",
              "      <th>4</th>\n",
              "      <td>mike</td>\n",
              "      <td>Yogya</td>\n",
              "    </tr>\n",
              "    <tr>\n",
              "      <th>5</th>\n",
              "      <td>dave</td>\n",
              "      <td>Solo</td>\n",
              "    </tr>\n",
              "  </tbody>\n",
              "</table>\n",
              "</div>"
            ],
            "text/plain": [
              "   Nama    Alamat\n",
              "0  Jane  Semarang\n",
              "1  mike     Yogya\n",
              "2  dave      Solo\n",
              "3  Jane  Semarang\n",
              "4  mike     Yogya\n",
              "5  dave      Solo"
            ]
          },
          "metadata": {},
          "execution_count": 191
        }
      ]
    },
    {
      "cell_type": "code",
      "metadata": {
        "colab": {
          "base_uri": "https://localhost:8080/",
          "height": 238
        },
        "id": "kTtR6cyH4VKt",
        "outputId": "c5735678-5089-42a4-cfc3-d5c536882626"
      },
      "source": [
        "# menjadi baris baru. axis=0\n",
        "kiri = pd.DataFrame({\n",
        "    'Nama': ['Budi', 'Joko', 'Maya'],\n",
        "    'Alamat' : ['Jakarta', 'Surabay', 'Medan']\n",
        "})\n",
        "\n",
        "kanan = pd.DataFrame({\n",
        "    'Nama': ['Jane', 'mike', 'dave'],\n",
        "    'Gaji' : [5000, 4000, 3000]\n",
        "})\n",
        "\n",
        "gabung_concat = pd.concat([kiri, kanan], axis=0, ignore_index=True, join='outer')\n",
        "gabung_concat"
      ],
      "execution_count": null,
      "outputs": [
        {
          "output_type": "execute_result",
          "data": {
            "text/html": [
              "<div>\n",
              "<style scoped>\n",
              "    .dataframe tbody tr th:only-of-type {\n",
              "        vertical-align: middle;\n",
              "    }\n",
              "\n",
              "    .dataframe tbody tr th {\n",
              "        vertical-align: top;\n",
              "    }\n",
              "\n",
              "    .dataframe thead th {\n",
              "        text-align: right;\n",
              "    }\n",
              "</style>\n",
              "<table border=\"1\" class=\"dataframe\">\n",
              "  <thead>\n",
              "    <tr style=\"text-align: right;\">\n",
              "      <th></th>\n",
              "      <th>Nama</th>\n",
              "      <th>Alamat</th>\n",
              "      <th>Gaji</th>\n",
              "    </tr>\n",
              "  </thead>\n",
              "  <tbody>\n",
              "    <tr>\n",
              "      <th>0</th>\n",
              "      <td>Budi</td>\n",
              "      <td>Jakarta</td>\n",
              "      <td>NaN</td>\n",
              "    </tr>\n",
              "    <tr>\n",
              "      <th>1</th>\n",
              "      <td>Joko</td>\n",
              "      <td>Surabay</td>\n",
              "      <td>NaN</td>\n",
              "    </tr>\n",
              "    <tr>\n",
              "      <th>2</th>\n",
              "      <td>Maya</td>\n",
              "      <td>Medan</td>\n",
              "      <td>NaN</td>\n",
              "    </tr>\n",
              "    <tr>\n",
              "      <th>3</th>\n",
              "      <td>Jane</td>\n",
              "      <td>NaN</td>\n",
              "      <td>5000.0</td>\n",
              "    </tr>\n",
              "    <tr>\n",
              "      <th>4</th>\n",
              "      <td>mike</td>\n",
              "      <td>NaN</td>\n",
              "      <td>4000.0</td>\n",
              "    </tr>\n",
              "    <tr>\n",
              "      <th>5</th>\n",
              "      <td>dave</td>\n",
              "      <td>NaN</td>\n",
              "      <td>3000.0</td>\n",
              "    </tr>\n",
              "  </tbody>\n",
              "</table>\n",
              "</div>"
            ],
            "text/plain": [
              "   Nama   Alamat    Gaji\n",
              "0  Budi  Jakarta     NaN\n",
              "1  Joko  Surabay     NaN\n",
              "2  Maya    Medan     NaN\n",
              "3  Jane      NaN  5000.0\n",
              "4  mike      NaN  4000.0\n",
              "5  dave      NaN  3000.0"
            ]
          },
          "metadata": {},
          "execution_count": 192
        }
      ]
    },
    {
      "cell_type": "code",
      "metadata": {
        "colab": {
          "base_uri": "https://localhost:8080/",
          "height": 174
        },
        "id": "mEYA5OOl5cOQ",
        "outputId": "f1b9c2ae-1cbe-4fe5-b9db-ce2dd85c9727"
      },
      "source": [
        "#gabung menjadi kolom baru. axis =1\n",
        "kiri = pd.DataFrame({\n",
        "    'Nama': ['Budi', 'Joko', 'Maya'],\n",
        "    'Alamat' : ['Jakarta', 'Surabay', 'Medan']\n",
        "})\n",
        "\n",
        "kanan = pd.DataFrame({\n",
        "    'Pekerjaan': ['Programmer', 'Data Engineer', 'Manager', 'Web Developer'],\n",
        "    'Gaji' : [5000, 4000, 3000, 6000]\n",
        "})\n",
        "\n",
        "gabung_concat = pd.concat([kiri, kanan], axis=1, join='outer')\n",
        "gabung_concat"
      ],
      "execution_count": null,
      "outputs": [
        {
          "output_type": "execute_result",
          "data": {
            "text/html": [
              "<div>\n",
              "<style scoped>\n",
              "    .dataframe tbody tr th:only-of-type {\n",
              "        vertical-align: middle;\n",
              "    }\n",
              "\n",
              "    .dataframe tbody tr th {\n",
              "        vertical-align: top;\n",
              "    }\n",
              "\n",
              "    .dataframe thead th {\n",
              "        text-align: right;\n",
              "    }\n",
              "</style>\n",
              "<table border=\"1\" class=\"dataframe\">\n",
              "  <thead>\n",
              "    <tr style=\"text-align: right;\">\n",
              "      <th></th>\n",
              "      <th>Nama</th>\n",
              "      <th>Alamat</th>\n",
              "      <th>Pekerjaan</th>\n",
              "      <th>Gaji</th>\n",
              "    </tr>\n",
              "  </thead>\n",
              "  <tbody>\n",
              "    <tr>\n",
              "      <th>0</th>\n",
              "      <td>Budi</td>\n",
              "      <td>Jakarta</td>\n",
              "      <td>Programmer</td>\n",
              "      <td>5000</td>\n",
              "    </tr>\n",
              "    <tr>\n",
              "      <th>1</th>\n",
              "      <td>Joko</td>\n",
              "      <td>Surabay</td>\n",
              "      <td>Data Engineer</td>\n",
              "      <td>4000</td>\n",
              "    </tr>\n",
              "    <tr>\n",
              "      <th>2</th>\n",
              "      <td>Maya</td>\n",
              "      <td>Medan</td>\n",
              "      <td>Manager</td>\n",
              "      <td>3000</td>\n",
              "    </tr>\n",
              "    <tr>\n",
              "      <th>3</th>\n",
              "      <td>NaN</td>\n",
              "      <td>NaN</td>\n",
              "      <td>Web Developer</td>\n",
              "      <td>6000</td>\n",
              "    </tr>\n",
              "  </tbody>\n",
              "</table>\n",
              "</div>"
            ],
            "text/plain": [
              "   Nama   Alamat      Pekerjaan  Gaji\n",
              "0  Budi  Jakarta     Programmer  5000\n",
              "1  Joko  Surabay  Data Engineer  4000\n",
              "2  Maya    Medan        Manager  3000\n",
              "3   NaN      NaN  Web Developer  6000"
            ]
          },
          "metadata": {},
          "execution_count": 193
        }
      ]
    },
    {
      "cell_type": "markdown",
      "metadata": {
        "id": "PlnMPKow6N_6"
      },
      "source": [
        "## append"
      ]
    },
    {
      "cell_type": "code",
      "metadata": {
        "colab": {
          "base_uri": "https://localhost:8080/",
          "height": 238
        },
        "id": "lC7XT6Wn6RA8",
        "outputId": "27f1c66e-7d84-42df-a80b-68133520b5df"
      },
      "source": [
        "kiri = pd.DataFrame({\n",
        "    'Nama': ['Budi', 'Joko', 'Maya'],\n",
        "    'Alamat' : ['Jakarta', 'Surabay', 'Medan']\n",
        "})\n",
        "\n",
        "kanan = pd.DataFrame({\n",
        "    'Nama': ['Jane', 'mike', 'dave'],\n",
        "    'Alamat' : ['Semarang', 'Yogya', 'Solo']\n",
        "})\n",
        "\n",
        "gabung_append = kiri.append(kanan, ignore_index=True)\n",
        "gabung_append"
      ],
      "execution_count": null,
      "outputs": [
        {
          "output_type": "execute_result",
          "data": {
            "text/html": [
              "<div>\n",
              "<style scoped>\n",
              "    .dataframe tbody tr th:only-of-type {\n",
              "        vertical-align: middle;\n",
              "    }\n",
              "\n",
              "    .dataframe tbody tr th {\n",
              "        vertical-align: top;\n",
              "    }\n",
              "\n",
              "    .dataframe thead th {\n",
              "        text-align: right;\n",
              "    }\n",
              "</style>\n",
              "<table border=\"1\" class=\"dataframe\">\n",
              "  <thead>\n",
              "    <tr style=\"text-align: right;\">\n",
              "      <th></th>\n",
              "      <th>Nama</th>\n",
              "      <th>Alamat</th>\n",
              "    </tr>\n",
              "  </thead>\n",
              "  <tbody>\n",
              "    <tr>\n",
              "      <th>0</th>\n",
              "      <td>Budi</td>\n",
              "      <td>Jakarta</td>\n",
              "    </tr>\n",
              "    <tr>\n",
              "      <th>1</th>\n",
              "      <td>Joko</td>\n",
              "      <td>Surabay</td>\n",
              "    </tr>\n",
              "    <tr>\n",
              "      <th>2</th>\n",
              "      <td>Maya</td>\n",
              "      <td>Medan</td>\n",
              "    </tr>\n",
              "    <tr>\n",
              "      <th>3</th>\n",
              "      <td>Jane</td>\n",
              "      <td>Semarang</td>\n",
              "    </tr>\n",
              "    <tr>\n",
              "      <th>4</th>\n",
              "      <td>mike</td>\n",
              "      <td>Yogya</td>\n",
              "    </tr>\n",
              "    <tr>\n",
              "      <th>5</th>\n",
              "      <td>dave</td>\n",
              "      <td>Solo</td>\n",
              "    </tr>\n",
              "  </tbody>\n",
              "</table>\n",
              "</div>"
            ],
            "text/plain": [
              "   Nama    Alamat\n",
              "0  Budi   Jakarta\n",
              "1  Joko   Surabay\n",
              "2  Maya     Medan\n",
              "3  Jane  Semarang\n",
              "4  mike     Yogya\n",
              "5  dave      Solo"
            ]
          },
          "metadata": {},
          "execution_count": 194
        }
      ]
    },
    {
      "cell_type": "code",
      "metadata": {
        "colab": {
          "base_uri": "https://localhost:8080/"
        },
        "id": "jsCJIXb56sz0",
        "outputId": "25617be9-99aa-4d9d-83ed-487b4bdad774"
      },
      "source": [
        "#contoh perbedaan variable, index, parameter, argument, value\n",
        "var1 = 'Hello world'\n",
        "list1 = [1, 3, 5]\n",
        "\n",
        "print(list1[2])\n",
        "\n",
        "def jumlah(a, b):\n",
        "  return a+b\n",
        "\n",
        "print(jumlah(3,4))"
      ],
      "execution_count": null,
      "outputs": [
        {
          "output_type": "stream",
          "name": "stdout",
          "text": [
            "5\n",
            "7\n"
          ]
        }
      ]
    },
    {
      "cell_type": "markdown",
      "metadata": {
        "id": "0lpkplC58GvL"
      },
      "source": [
        "## reset index"
      ]
    },
    {
      "cell_type": "code",
      "metadata": {
        "colab": {
          "base_uri": "https://localhost:8080/",
          "height": 238
        },
        "id": "sAOzRQ6M8H3H",
        "outputId": "671fbd6c-82ac-47f2-8447-4b9879673fda"
      },
      "source": [
        "kiri = pd.DataFrame({\n",
        "    'Nama': ['Budi', 'Joko', 'Maya'],\n",
        "    'Alamat' : ['Jakarta', 'Surabay', 'Medan']\n",
        "})\n",
        "\n",
        "kanan = pd.DataFrame({\n",
        "    'Nama': ['Jane', 'mike', 'dave'],\n",
        "    'Alamat' : ['Semarang', 'Yogya', 'Solo']\n",
        "})\n",
        "\n",
        "gabung_append = kiri.append(kanan)\n",
        "gabung_append\n"
      ],
      "execution_count": null,
      "outputs": [
        {
          "output_type": "execute_result",
          "data": {
            "text/html": [
              "<div>\n",
              "<style scoped>\n",
              "    .dataframe tbody tr th:only-of-type {\n",
              "        vertical-align: middle;\n",
              "    }\n",
              "\n",
              "    .dataframe tbody tr th {\n",
              "        vertical-align: top;\n",
              "    }\n",
              "\n",
              "    .dataframe thead th {\n",
              "        text-align: right;\n",
              "    }\n",
              "</style>\n",
              "<table border=\"1\" class=\"dataframe\">\n",
              "  <thead>\n",
              "    <tr style=\"text-align: right;\">\n",
              "      <th></th>\n",
              "      <th>Nama</th>\n",
              "      <th>Alamat</th>\n",
              "    </tr>\n",
              "  </thead>\n",
              "  <tbody>\n",
              "    <tr>\n",
              "      <th>0</th>\n",
              "      <td>Budi</td>\n",
              "      <td>Jakarta</td>\n",
              "    </tr>\n",
              "    <tr>\n",
              "      <th>1</th>\n",
              "      <td>Joko</td>\n",
              "      <td>Surabay</td>\n",
              "    </tr>\n",
              "    <tr>\n",
              "      <th>2</th>\n",
              "      <td>Maya</td>\n",
              "      <td>Medan</td>\n",
              "    </tr>\n",
              "    <tr>\n",
              "      <th>0</th>\n",
              "      <td>Jane</td>\n",
              "      <td>Semarang</td>\n",
              "    </tr>\n",
              "    <tr>\n",
              "      <th>1</th>\n",
              "      <td>mike</td>\n",
              "      <td>Yogya</td>\n",
              "    </tr>\n",
              "    <tr>\n",
              "      <th>2</th>\n",
              "      <td>dave</td>\n",
              "      <td>Solo</td>\n",
              "    </tr>\n",
              "  </tbody>\n",
              "</table>\n",
              "</div>"
            ],
            "text/plain": [
              "   Nama    Alamat\n",
              "0  Budi   Jakarta\n",
              "1  Joko   Surabay\n",
              "2  Maya     Medan\n",
              "0  Jane  Semarang\n",
              "1  mike     Yogya\n",
              "2  dave      Solo"
            ]
          },
          "metadata": {},
          "execution_count": 197
        }
      ]
    },
    {
      "cell_type": "code",
      "metadata": {
        "colab": {
          "base_uri": "https://localhost:8080/",
          "height": 238
        },
        "id": "Qs18i2qV8dBD",
        "outputId": "57877f12-4cce-4595-a15a-94b1dbd3f77f"
      },
      "source": [
        "new = gabung_append.reset_index(drop=True)\n",
        "new"
      ],
      "execution_count": null,
      "outputs": [
        {
          "output_type": "execute_result",
          "data": {
            "text/html": [
              "<div>\n",
              "<style scoped>\n",
              "    .dataframe tbody tr th:only-of-type {\n",
              "        vertical-align: middle;\n",
              "    }\n",
              "\n",
              "    .dataframe tbody tr th {\n",
              "        vertical-align: top;\n",
              "    }\n",
              "\n",
              "    .dataframe thead th {\n",
              "        text-align: right;\n",
              "    }\n",
              "</style>\n",
              "<table border=\"1\" class=\"dataframe\">\n",
              "  <thead>\n",
              "    <tr style=\"text-align: right;\">\n",
              "      <th></th>\n",
              "      <th>Nama</th>\n",
              "      <th>Alamat</th>\n",
              "    </tr>\n",
              "  </thead>\n",
              "  <tbody>\n",
              "    <tr>\n",
              "      <th>0</th>\n",
              "      <td>Budi</td>\n",
              "      <td>Jakarta</td>\n",
              "    </tr>\n",
              "    <tr>\n",
              "      <th>1</th>\n",
              "      <td>Joko</td>\n",
              "      <td>Surabay</td>\n",
              "    </tr>\n",
              "    <tr>\n",
              "      <th>2</th>\n",
              "      <td>Maya</td>\n",
              "      <td>Medan</td>\n",
              "    </tr>\n",
              "    <tr>\n",
              "      <th>3</th>\n",
              "      <td>Jane</td>\n",
              "      <td>Semarang</td>\n",
              "    </tr>\n",
              "    <tr>\n",
              "      <th>4</th>\n",
              "      <td>mike</td>\n",
              "      <td>Yogya</td>\n",
              "    </tr>\n",
              "    <tr>\n",
              "      <th>5</th>\n",
              "      <td>dave</td>\n",
              "      <td>Solo</td>\n",
              "    </tr>\n",
              "  </tbody>\n",
              "</table>\n",
              "</div>"
            ],
            "text/plain": [
              "   Nama    Alamat\n",
              "0  Budi   Jakarta\n",
              "1  Joko   Surabay\n",
              "2  Maya     Medan\n",
              "3  Jane  Semarang\n",
              "4  mike     Yogya\n",
              "5  dave      Solo"
            ]
          },
          "metadata": {},
          "execution_count": 198
        }
      ]
    },
    {
      "cell_type": "markdown",
      "metadata": {
        "id": "WphLYk8b94oo"
      },
      "source": [
        "## set_index"
      ]
    },
    {
      "cell_type": "code",
      "metadata": {
        "colab": {
          "base_uri": "https://localhost:8080/"
        },
        "id": "SMuAYsZU98_c",
        "outputId": "04565f67-5866-4dda-e751-d0354da75052"
      },
      "source": [
        "kiri = pd.DataFrame({\n",
        "    'ID' : ['001', '002', '003'],\n",
        "    'Nama': ['Budi', 'Joko', 'Maya'],\n",
        "    'Alamat' : ['Jakarta', 'Surabay', 'Medan']\n",
        "})\n",
        "\n",
        "print(kiri)\n"
      ],
      "execution_count": null,
      "outputs": [
        {
          "output_type": "stream",
          "name": "stdout",
          "text": [
            "    ID  Nama   Alamat\n",
            "0  001  Budi  Jakarta\n",
            "1  002  Joko  Surabay\n",
            "2  003  Maya    Medan\n"
          ]
        }
      ]
    },
    {
      "cell_type": "code",
      "metadata": {
        "colab": {
          "base_uri": "https://localhost:8080/"
        },
        "id": "ELCrSm4D-vez",
        "outputId": "31cf7d7b-c10b-4f2c-8981-b0d666adc172"
      },
      "source": [
        "kiri.iloc[2]"
      ],
      "execution_count": null,
      "outputs": [
        {
          "output_type": "execute_result",
          "data": {
            "text/plain": [
              "ID          003\n",
              "Nama       Maya\n",
              "Alamat    Medan\n",
              "Name: 2, dtype: object"
            ]
          },
          "metadata": {},
          "execution_count": 203
        }
      ]
    },
    {
      "cell_type": "code",
      "metadata": {
        "colab": {
          "base_uri": "https://localhost:8080/",
          "height": 174
        },
        "id": "ZDsVLoSO-Kz7",
        "outputId": "10401038-13ef-438e-91f4-031acbcf8f31"
      },
      "source": [
        "kiri.set_index('ID', inplace=True)\n",
        "kiri"
      ],
      "execution_count": null,
      "outputs": [
        {
          "output_type": "execute_result",
          "data": {
            "text/html": [
              "<div>\n",
              "<style scoped>\n",
              "    .dataframe tbody tr th:only-of-type {\n",
              "        vertical-align: middle;\n",
              "    }\n",
              "\n",
              "    .dataframe tbody tr th {\n",
              "        vertical-align: top;\n",
              "    }\n",
              "\n",
              "    .dataframe thead th {\n",
              "        text-align: right;\n",
              "    }\n",
              "</style>\n",
              "<table border=\"1\" class=\"dataframe\">\n",
              "  <thead>\n",
              "    <tr style=\"text-align: right;\">\n",
              "      <th></th>\n",
              "      <th>Nama</th>\n",
              "      <th>Alamat</th>\n",
              "    </tr>\n",
              "    <tr>\n",
              "      <th>ID</th>\n",
              "      <th></th>\n",
              "      <th></th>\n",
              "    </tr>\n",
              "  </thead>\n",
              "  <tbody>\n",
              "    <tr>\n",
              "      <th>001</th>\n",
              "      <td>Budi</td>\n",
              "      <td>Jakarta</td>\n",
              "    </tr>\n",
              "    <tr>\n",
              "      <th>002</th>\n",
              "      <td>Joko</td>\n",
              "      <td>Surabay</td>\n",
              "    </tr>\n",
              "    <tr>\n",
              "      <th>003</th>\n",
              "      <td>Maya</td>\n",
              "      <td>Medan</td>\n",
              "    </tr>\n",
              "  </tbody>\n",
              "</table>\n",
              "</div>"
            ],
            "text/plain": [
              "     Nama   Alamat\n",
              "ID                \n",
              "001  Budi  Jakarta\n",
              "002  Joko  Surabay\n",
              "003  Maya    Medan"
            ]
          },
          "metadata": {},
          "execution_count": 204
        }
      ]
    },
    {
      "cell_type": "code",
      "metadata": {
        "colab": {
          "base_uri": "https://localhost:8080/"
        },
        "id": "Fqnt7faY-nGM",
        "outputId": "e7fd92ac-2ac5-4698-ea13-83d752914481"
      },
      "source": [
        "kiri.loc['003']"
      ],
      "execution_count": null,
      "outputs": [
        {
          "output_type": "execute_result",
          "data": {
            "text/plain": [
              "Nama       Maya\n",
              "Alamat    Medan\n",
              "Name: 003, dtype: object"
            ]
          },
          "metadata": {},
          "execution_count": 205
        }
      ]
    },
    {
      "cell_type": "markdown",
      "metadata": {
        "id": "0Q-MnZwT__Ka"
      },
      "source": [
        "## pivot table "
      ]
    },
    {
      "cell_type": "code",
      "metadata": {
        "colab": {
          "base_uri": "https://localhost:8080/",
          "height": 238
        },
        "id": "RcwOXUjLAERO",
        "outputId": "6c0848c2-a414-41d3-e2f0-ea25c2978dad"
      },
      "source": [
        "import pandas as pd\n",
        "\n",
        "karyawan = pd.DataFrame({\n",
        "   'Emp_id' : ['001','002','003','004','005','006'],\n",
        "   'Nama': ['Budi', 'Joko', 'Maya', 'Andi', 'Dewi', 'Dian'],\n",
        "   'Gender':['Pria', 'Pria', 'Perempuan', 'Pria', 'Perempuan', 'Perempuan'],\n",
        "   'Pekerjaan': ['Programmer', 'Data Engineer', 'Programmer', 'Manager',\n",
        "                      'Manager', 'Manager'],\n",
        "   'Gaji':[5000, 4000, 5000, 6000, 8000, 6000]})\n",
        "karyawan"
      ],
      "execution_count": null,
      "outputs": [
        {
          "output_type": "execute_result",
          "data": {
            "text/html": [
              "<div>\n",
              "<style scoped>\n",
              "    .dataframe tbody tr th:only-of-type {\n",
              "        vertical-align: middle;\n",
              "    }\n",
              "\n",
              "    .dataframe tbody tr th {\n",
              "        vertical-align: top;\n",
              "    }\n",
              "\n",
              "    .dataframe thead th {\n",
              "        text-align: right;\n",
              "    }\n",
              "</style>\n",
              "<table border=\"1\" class=\"dataframe\">\n",
              "  <thead>\n",
              "    <tr style=\"text-align: right;\">\n",
              "      <th></th>\n",
              "      <th>Emp_id</th>\n",
              "      <th>Nama</th>\n",
              "      <th>Gender</th>\n",
              "      <th>Pekerjaan</th>\n",
              "      <th>Gaji</th>\n",
              "    </tr>\n",
              "  </thead>\n",
              "  <tbody>\n",
              "    <tr>\n",
              "      <th>0</th>\n",
              "      <td>001</td>\n",
              "      <td>Budi</td>\n",
              "      <td>Pria</td>\n",
              "      <td>Programmer</td>\n",
              "      <td>5000</td>\n",
              "    </tr>\n",
              "    <tr>\n",
              "      <th>1</th>\n",
              "      <td>002</td>\n",
              "      <td>Joko</td>\n",
              "      <td>Pria</td>\n",
              "      <td>Data Engineer</td>\n",
              "      <td>4000</td>\n",
              "    </tr>\n",
              "    <tr>\n",
              "      <th>2</th>\n",
              "      <td>003</td>\n",
              "      <td>Maya</td>\n",
              "      <td>Perempuan</td>\n",
              "      <td>Programmer</td>\n",
              "      <td>5000</td>\n",
              "    </tr>\n",
              "    <tr>\n",
              "      <th>3</th>\n",
              "      <td>004</td>\n",
              "      <td>Andi</td>\n",
              "      <td>Pria</td>\n",
              "      <td>Manager</td>\n",
              "      <td>6000</td>\n",
              "    </tr>\n",
              "    <tr>\n",
              "      <th>4</th>\n",
              "      <td>005</td>\n",
              "      <td>Dewi</td>\n",
              "      <td>Perempuan</td>\n",
              "      <td>Manager</td>\n",
              "      <td>8000</td>\n",
              "    </tr>\n",
              "    <tr>\n",
              "      <th>5</th>\n",
              "      <td>006</td>\n",
              "      <td>Dian</td>\n",
              "      <td>Perempuan</td>\n",
              "      <td>Manager</td>\n",
              "      <td>6000</td>\n",
              "    </tr>\n",
              "  </tbody>\n",
              "</table>\n",
              "</div>"
            ],
            "text/plain": [
              "  Emp_id  Nama     Gender      Pekerjaan  Gaji\n",
              "0    001  Budi       Pria     Programmer  5000\n",
              "1    002  Joko       Pria  Data Engineer  4000\n",
              "2    003  Maya  Perempuan     Programmer  5000\n",
              "3    004  Andi       Pria        Manager  6000\n",
              "4    005  Dewi  Perempuan        Manager  8000\n",
              "5    006  Dian  Perempuan        Manager  6000"
            ]
          },
          "metadata": {},
          "execution_count": 206
        }
      ]
    },
    {
      "cell_type": "code",
      "metadata": {
        "colab": {
          "base_uri": "https://localhost:8080/",
          "height": 143
        },
        "id": "9yYUIPh-YPj8",
        "outputId": "8501656a-b8aa-4848-c3b5-b9a9452305f0"
      },
      "source": [
        "pivot_table = pd.pivot_table(karyawan, columns=['Gender', 'Pekerjaan'], aggfunc={'Gaji':'sum', 'Pekerjaan':'count'})\n",
        "pivot_table"
      ],
      "execution_count": null,
      "outputs": [
        {
          "output_type": "execute_result",
          "data": {
            "text/html": [
              "<div>\n",
              "<style scoped>\n",
              "    .dataframe tbody tr th:only-of-type {\n",
              "        vertical-align: middle;\n",
              "    }\n",
              "\n",
              "    .dataframe tbody tr th {\n",
              "        vertical-align: top;\n",
              "    }\n",
              "\n",
              "    .dataframe thead tr th {\n",
              "        text-align: left;\n",
              "    }\n",
              "</style>\n",
              "<table border=\"1\" class=\"dataframe\">\n",
              "  <thead>\n",
              "    <tr>\n",
              "      <th>Gender</th>\n",
              "      <th colspan=\"2\" halign=\"left\">Perempuan</th>\n",
              "      <th colspan=\"3\" halign=\"left\">Pria</th>\n",
              "    </tr>\n",
              "    <tr>\n",
              "      <th>Pekerjaan</th>\n",
              "      <th>Manager</th>\n",
              "      <th>Programmer</th>\n",
              "      <th>Data Engineer</th>\n",
              "      <th>Manager</th>\n",
              "      <th>Programmer</th>\n",
              "    </tr>\n",
              "  </thead>\n",
              "  <tbody>\n",
              "    <tr>\n",
              "      <th>Gaji</th>\n",
              "      <td>14000</td>\n",
              "      <td>5000</td>\n",
              "      <td>4000</td>\n",
              "      <td>6000</td>\n",
              "      <td>5000</td>\n",
              "    </tr>\n",
              "    <tr>\n",
              "      <th>Pekerjaan</th>\n",
              "      <td>2</td>\n",
              "      <td>1</td>\n",
              "      <td>1</td>\n",
              "      <td>1</td>\n",
              "      <td>1</td>\n",
              "    </tr>\n",
              "  </tbody>\n",
              "</table>\n",
              "</div>"
            ],
            "text/plain": [
              "Gender    Perempuan                     Pria                   \n",
              "Pekerjaan   Manager Programmer Data Engineer Manager Programmer\n",
              "Gaji          14000       5000          4000    6000       5000\n",
              "Pekerjaan         2          1             1       1          1"
            ]
          },
          "metadata": {},
          "execution_count": 209
        }
      ]
    },
    {
      "cell_type": "code",
      "metadata": {
        "colab": {
          "base_uri": "https://localhost:8080/",
          "height": 143
        },
        "id": "Rj0AMRrHANBQ",
        "outputId": "fa36ca93-4ec6-4d01-c3a5-2af70eed7a2e"
      },
      "source": [
        "#cara kedua pakai numpy untuk menghitung sum, mean, dan lain lain\n",
        "import numpy as np\n",
        "pivot_table = pd.pivot_table(karyawan, columns=['Gender', 'Pekerjaan'], aggfunc={'Gaji': np.sum, 'Pekerjaan':'count'})\n",
        "pivot_table"
      ],
      "execution_count": null,
      "outputs": [
        {
          "output_type": "execute_result",
          "data": {
            "text/html": [
              "<div>\n",
              "<style scoped>\n",
              "    .dataframe tbody tr th:only-of-type {\n",
              "        vertical-align: middle;\n",
              "    }\n",
              "\n",
              "    .dataframe tbody tr th {\n",
              "        vertical-align: top;\n",
              "    }\n",
              "\n",
              "    .dataframe thead tr th {\n",
              "        text-align: left;\n",
              "    }\n",
              "</style>\n",
              "<table border=\"1\" class=\"dataframe\">\n",
              "  <thead>\n",
              "    <tr>\n",
              "      <th>Gender</th>\n",
              "      <th colspan=\"2\" halign=\"left\">Perempuan</th>\n",
              "      <th colspan=\"3\" halign=\"left\">Pria</th>\n",
              "    </tr>\n",
              "    <tr>\n",
              "      <th>Pekerjaan</th>\n",
              "      <th>Manager</th>\n",
              "      <th>Programmer</th>\n",
              "      <th>Data Engineer</th>\n",
              "      <th>Manager</th>\n",
              "      <th>Programmer</th>\n",
              "    </tr>\n",
              "  </thead>\n",
              "  <tbody>\n",
              "    <tr>\n",
              "      <th>Gaji</th>\n",
              "      <td>14000</td>\n",
              "      <td>5000</td>\n",
              "      <td>4000</td>\n",
              "      <td>6000</td>\n",
              "      <td>5000</td>\n",
              "    </tr>\n",
              "    <tr>\n",
              "      <th>Pekerjaan</th>\n",
              "      <td>2</td>\n",
              "      <td>1</td>\n",
              "      <td>1</td>\n",
              "      <td>1</td>\n",
              "      <td>1</td>\n",
              "    </tr>\n",
              "  </tbody>\n",
              "</table>\n",
              "</div>"
            ],
            "text/plain": [
              "Gender    Perempuan                     Pria                   \n",
              "Pekerjaan   Manager Programmer Data Engineer Manager Programmer\n",
              "Gaji          14000       5000          4000    6000       5000\n",
              "Pekerjaan         2          1             1       1          1"
            ]
          },
          "metadata": {},
          "execution_count": 208
        }
      ]
    },
    {
      "cell_type": "markdown",
      "metadata": {
        "id": "LPW7wiH6CyLQ"
      },
      "source": [
        "## melt"
      ]
    },
    {
      "cell_type": "code",
      "metadata": {
        "colab": {
          "base_uri": "https://localhost:8080/",
          "height": 143
        },
        "id": "NZQb3mDgCzMk",
        "outputId": "75a02ec2-bdf9-49e6-af27-8552f030d5cb"
      },
      "source": [
        "import pandas as pd\n",
        "mahasiswa = pd.DataFrame({\n",
        "   'Mhs_id' : ['001','002','003'],\n",
        "   'Nama': ['Budi', 'Joko', 'Maya'],\n",
        "   'Bhs Inggris':[100, 90, 98],\n",
        "   'Matematika': [90, 87, 72],\n",
        "   'Ekonomi':[90, 80, 78]})\n",
        "mahasiswa"
      ],
      "execution_count": null,
      "outputs": [
        {
          "output_type": "execute_result",
          "data": {
            "text/html": [
              "<div>\n",
              "<style scoped>\n",
              "    .dataframe tbody tr th:only-of-type {\n",
              "        vertical-align: middle;\n",
              "    }\n",
              "\n",
              "    .dataframe tbody tr th {\n",
              "        vertical-align: top;\n",
              "    }\n",
              "\n",
              "    .dataframe thead th {\n",
              "        text-align: right;\n",
              "    }\n",
              "</style>\n",
              "<table border=\"1\" class=\"dataframe\">\n",
              "  <thead>\n",
              "    <tr style=\"text-align: right;\">\n",
              "      <th></th>\n",
              "      <th>Mhs_id</th>\n",
              "      <th>Nama</th>\n",
              "      <th>Bhs Inggris</th>\n",
              "      <th>Matematika</th>\n",
              "      <th>Ekonomi</th>\n",
              "    </tr>\n",
              "  </thead>\n",
              "  <tbody>\n",
              "    <tr>\n",
              "      <th>0</th>\n",
              "      <td>001</td>\n",
              "      <td>Budi</td>\n",
              "      <td>100</td>\n",
              "      <td>90</td>\n",
              "      <td>90</td>\n",
              "    </tr>\n",
              "    <tr>\n",
              "      <th>1</th>\n",
              "      <td>002</td>\n",
              "      <td>Joko</td>\n",
              "      <td>90</td>\n",
              "      <td>87</td>\n",
              "      <td>80</td>\n",
              "    </tr>\n",
              "    <tr>\n",
              "      <th>2</th>\n",
              "      <td>003</td>\n",
              "      <td>Maya</td>\n",
              "      <td>98</td>\n",
              "      <td>72</td>\n",
              "      <td>78</td>\n",
              "    </tr>\n",
              "  </tbody>\n",
              "</table>\n",
              "</div>"
            ],
            "text/plain": [
              "  Mhs_id  Nama  Bhs Inggris  Matematika  Ekonomi\n",
              "0    001  Budi          100          90       90\n",
              "1    002  Joko           90          87       80\n",
              "2    003  Maya           98          72       78"
            ]
          },
          "metadata": {},
          "execution_count": 210
        }
      ]
    },
    {
      "cell_type": "code",
      "metadata": {
        "colab": {
          "base_uri": "https://localhost:8080/",
          "height": 331
        },
        "id": "6M658oy3C5Wo",
        "outputId": "49f64923-d637-4a0d-88dd-bb66f05e98f8"
      },
      "source": [
        "melt_table = pd.melt(mahasiswa, id_vars=['Mhs_id', 'Nama'], value_vars=['Bhs Inggris', 'Matematika', 'Ekonomi'])\n",
        "melt_table"
      ],
      "execution_count": null,
      "outputs": [
        {
          "output_type": "execute_result",
          "data": {
            "text/html": [
              "<div>\n",
              "<style scoped>\n",
              "    .dataframe tbody tr th:only-of-type {\n",
              "        vertical-align: middle;\n",
              "    }\n",
              "\n",
              "    .dataframe tbody tr th {\n",
              "        vertical-align: top;\n",
              "    }\n",
              "\n",
              "    .dataframe thead th {\n",
              "        text-align: right;\n",
              "    }\n",
              "</style>\n",
              "<table border=\"1\" class=\"dataframe\">\n",
              "  <thead>\n",
              "    <tr style=\"text-align: right;\">\n",
              "      <th></th>\n",
              "      <th>Mhs_id</th>\n",
              "      <th>Nama</th>\n",
              "      <th>variable</th>\n",
              "      <th>value</th>\n",
              "    </tr>\n",
              "  </thead>\n",
              "  <tbody>\n",
              "    <tr>\n",
              "      <th>0</th>\n",
              "      <td>001</td>\n",
              "      <td>Budi</td>\n",
              "      <td>Bhs Inggris</td>\n",
              "      <td>100</td>\n",
              "    </tr>\n",
              "    <tr>\n",
              "      <th>1</th>\n",
              "      <td>002</td>\n",
              "      <td>Joko</td>\n",
              "      <td>Bhs Inggris</td>\n",
              "      <td>90</td>\n",
              "    </tr>\n",
              "    <tr>\n",
              "      <th>2</th>\n",
              "      <td>003</td>\n",
              "      <td>Maya</td>\n",
              "      <td>Bhs Inggris</td>\n",
              "      <td>98</td>\n",
              "    </tr>\n",
              "    <tr>\n",
              "      <th>3</th>\n",
              "      <td>001</td>\n",
              "      <td>Budi</td>\n",
              "      <td>Matematika</td>\n",
              "      <td>90</td>\n",
              "    </tr>\n",
              "    <tr>\n",
              "      <th>4</th>\n",
              "      <td>002</td>\n",
              "      <td>Joko</td>\n",
              "      <td>Matematika</td>\n",
              "      <td>87</td>\n",
              "    </tr>\n",
              "    <tr>\n",
              "      <th>5</th>\n",
              "      <td>003</td>\n",
              "      <td>Maya</td>\n",
              "      <td>Matematika</td>\n",
              "      <td>72</td>\n",
              "    </tr>\n",
              "    <tr>\n",
              "      <th>6</th>\n",
              "      <td>001</td>\n",
              "      <td>Budi</td>\n",
              "      <td>Ekonomi</td>\n",
              "      <td>90</td>\n",
              "    </tr>\n",
              "    <tr>\n",
              "      <th>7</th>\n",
              "      <td>002</td>\n",
              "      <td>Joko</td>\n",
              "      <td>Ekonomi</td>\n",
              "      <td>80</td>\n",
              "    </tr>\n",
              "    <tr>\n",
              "      <th>8</th>\n",
              "      <td>003</td>\n",
              "      <td>Maya</td>\n",
              "      <td>Ekonomi</td>\n",
              "      <td>78</td>\n",
              "    </tr>\n",
              "  </tbody>\n",
              "</table>\n",
              "</div>"
            ],
            "text/plain": [
              "  Mhs_id  Nama     variable  value\n",
              "0    001  Budi  Bhs Inggris    100\n",
              "1    002  Joko  Bhs Inggris     90\n",
              "2    003  Maya  Bhs Inggris     98\n",
              "3    001  Budi   Matematika     90\n",
              "4    002  Joko   Matematika     87\n",
              "5    003  Maya   Matematika     72\n",
              "6    001  Budi      Ekonomi     90\n",
              "7    002  Joko      Ekonomi     80\n",
              "8    003  Maya      Ekonomi     78"
            ]
          },
          "metadata": {},
          "execution_count": 211
        }
      ]
    },
    {
      "cell_type": "markdown",
      "metadata": {
        "id": "tFZVt2_1EmkK"
      },
      "source": [
        "## lambda function"
      ]
    },
    {
      "cell_type": "code",
      "metadata": {
        "colab": {
          "base_uri": "https://localhost:8080/"
        },
        "id": "y_HiUo0cEocN",
        "outputId": "6eeb1e28-2fe7-45e5-c962-2d208d1f4d7c"
      },
      "source": [
        "x = lambda var1, var2 : var1 + var2\n",
        "hasil = x(10, 12)\n",
        "hasil"
      ],
      "execution_count": null,
      "outputs": [
        {
          "output_type": "execute_result",
          "data": {
            "text/plain": [
              "22"
            ]
          },
          "metadata": {},
          "execution_count": 212
        }
      ]
    },
    {
      "cell_type": "code",
      "metadata": {
        "colab": {
          "base_uri": "https://localhost:8080/"
        },
        "id": "KdBQwSyYFEro",
        "outputId": "b4916d3a-b9fb-414f-f820-b0e129eac10e"
      },
      "source": [
        "test = lambda var1 : var1 * 2\n",
        "hasil = test(5)\n",
        "hasil"
      ],
      "execution_count": null,
      "outputs": [
        {
          "output_type": "execute_result",
          "data": {
            "text/plain": [
              "10"
            ]
          },
          "metadata": {},
          "execution_count": 213
        }
      ]
    },
    {
      "cell_type": "code",
      "metadata": {
        "colab": {
          "base_uri": "https://localhost:8080/",
          "height": 143
        },
        "id": "s5n-fgErGXCO",
        "outputId": "c31c3bab-5824-4d0c-da83-9dc1784e142a"
      },
      "source": [
        "import pandas as pd\n",
        "mahasiswa = pd.DataFrame({\n",
        "   'Mhs_id' : ['001','002','003'],\n",
        "   'Nama': ['Budi', 'Joko', 'Maya'],\n",
        "   'Matematika': [90, 47, 72]})\n",
        "mahasiswa"
      ],
      "execution_count": null,
      "outputs": [
        {
          "output_type": "execute_result",
          "data": {
            "text/html": [
              "<div>\n",
              "<style scoped>\n",
              "    .dataframe tbody tr th:only-of-type {\n",
              "        vertical-align: middle;\n",
              "    }\n",
              "\n",
              "    .dataframe tbody tr th {\n",
              "        vertical-align: top;\n",
              "    }\n",
              "\n",
              "    .dataframe thead th {\n",
              "        text-align: right;\n",
              "    }\n",
              "</style>\n",
              "<table border=\"1\" class=\"dataframe\">\n",
              "  <thead>\n",
              "    <tr style=\"text-align: right;\">\n",
              "      <th></th>\n",
              "      <th>Mhs_id</th>\n",
              "      <th>Nama</th>\n",
              "      <th>Matematika</th>\n",
              "    </tr>\n",
              "  </thead>\n",
              "  <tbody>\n",
              "    <tr>\n",
              "      <th>0</th>\n",
              "      <td>001</td>\n",
              "      <td>Budi</td>\n",
              "      <td>90</td>\n",
              "    </tr>\n",
              "    <tr>\n",
              "      <th>1</th>\n",
              "      <td>002</td>\n",
              "      <td>Joko</td>\n",
              "      <td>47</td>\n",
              "    </tr>\n",
              "    <tr>\n",
              "      <th>2</th>\n",
              "      <td>003</td>\n",
              "      <td>Maya</td>\n",
              "      <td>72</td>\n",
              "    </tr>\n",
              "  </tbody>\n",
              "</table>\n",
              "</div>"
            ],
            "text/plain": [
              "  Mhs_id  Nama  Matematika\n",
              "0    001  Budi          90\n",
              "1    002  Joko          47\n",
              "2    003  Maya          72"
            ]
          },
          "metadata": {},
          "execution_count": 214
        }
      ]
    },
    {
      "cell_type": "code",
      "metadata": {
        "colab": {
          "base_uri": "https://localhost:8080/",
          "height": 143
        },
        "id": "1zpqim1WGm_j",
        "outputId": "0fda7bb3-57ea-4e06-eecd-fa28c2d4c6f5"
      },
      "source": [
        "mahasiswa['Grade'] = mahasiswa['Matematika'].apply(lambda nilai : \n",
        "                                                   'A' if nilai >=90 else('B' if nilai >=70 and nilai <90 else ('C')))\n",
        "mahasiswa"
      ],
      "execution_count": null,
      "outputs": [
        {
          "output_type": "execute_result",
          "data": {
            "text/html": [
              "<div>\n",
              "<style scoped>\n",
              "    .dataframe tbody tr th:only-of-type {\n",
              "        vertical-align: middle;\n",
              "    }\n",
              "\n",
              "    .dataframe tbody tr th {\n",
              "        vertical-align: top;\n",
              "    }\n",
              "\n",
              "    .dataframe thead th {\n",
              "        text-align: right;\n",
              "    }\n",
              "</style>\n",
              "<table border=\"1\" class=\"dataframe\">\n",
              "  <thead>\n",
              "    <tr style=\"text-align: right;\">\n",
              "      <th></th>\n",
              "      <th>Mhs_id</th>\n",
              "      <th>Nama</th>\n",
              "      <th>Matematika</th>\n",
              "      <th>Grade</th>\n",
              "    </tr>\n",
              "  </thead>\n",
              "  <tbody>\n",
              "    <tr>\n",
              "      <th>0</th>\n",
              "      <td>001</td>\n",
              "      <td>Budi</td>\n",
              "      <td>90</td>\n",
              "      <td>A</td>\n",
              "    </tr>\n",
              "    <tr>\n",
              "      <th>1</th>\n",
              "      <td>002</td>\n",
              "      <td>Joko</td>\n",
              "      <td>47</td>\n",
              "      <td>C</td>\n",
              "    </tr>\n",
              "    <tr>\n",
              "      <th>2</th>\n",
              "      <td>003</td>\n",
              "      <td>Maya</td>\n",
              "      <td>72</td>\n",
              "      <td>B</td>\n",
              "    </tr>\n",
              "  </tbody>\n",
              "</table>\n",
              "</div>"
            ],
            "text/plain": [
              "  Mhs_id  Nama  Matematika Grade\n",
              "0    001  Budi          90     A\n",
              "1    002  Joko          47     C\n",
              "2    003  Maya          72     B"
            ]
          },
          "metadata": {},
          "execution_count": 215
        }
      ]
    },
    {
      "cell_type": "code",
      "metadata": {
        "id": "qctmcvEojUYh"
      },
      "source": [
        "# Ternary\n",
        "if nilai >= 90:\n",
        "  print('A')\n",
        "elif nilai"
      ],
      "execution_count": null,
      "outputs": []
    }
  ]
}