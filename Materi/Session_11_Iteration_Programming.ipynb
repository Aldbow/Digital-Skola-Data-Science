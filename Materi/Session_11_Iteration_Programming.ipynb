{
  "nbformat": 4,
  "nbformat_minor": 0,
  "metadata": {
    "kernelspec": {
      "display_name": "Python 3",
      "language": "python",
      "name": "python3"
    },
    "language_info": {
      "codemirror_mode": {
        "name": "ipython",
        "version": 3
      },
      "file_extension": ".py",
      "mimetype": "text/x-python",
      "name": "python",
      "nbconvert_exporter": "python",
      "pygments_lexer": "ipython3",
      "version": "3.7.6"
    },
    "colab": {
      "name": "Session 11_Iteration Programming.ipynb",
      "provenance": [],
      "include_colab_link": true
    }
  },
  "cells": [
    {
      "cell_type": "markdown",
      "metadata": {
        "id": "view-in-github",
        "colab_type": "text"
      },
      "source": [
        "<a href=\"https://colab.research.google.com/github/Aldbow/kmb_aldiva/blob/main/Session_11_Iteration_Programming.ipynb\" target=\"_parent\"><img src=\"https://colab.research.google.com/assets/colab-badge.svg\" alt=\"Open In Colab\"/></a>"
      ]
    },
    {
      "cell_type": "code",
      "metadata": {
        "id": "U6LfwQnOhE_l"
      },
      "source": [
        "def pypart(n):\n",
        "    myList = []\n",
        "    for i in range(1,n+1):\n",
        "        myList.append(\"*\"*i)\n",
        "    print(\"\\n\".join(myList))"
      ],
      "execution_count": null,
      "outputs": []
    },
    {
      "cell_type": "code",
      "metadata": {
        "id": "09QzkG0EhE_s",
        "outputId": "c87e59e8-d353-4cff-e06c-740594bb52da"
      },
      "source": [
        "pypart(5)"
      ],
      "execution_count": null,
      "outputs": [
        {
          "name": "stdout",
          "output_type": "stream",
          "text": [
            "*\n",
            "**\n",
            "***\n",
            "****\n",
            "*****\n"
          ]
        }
      ]
    },
    {
      "cell_type": "code",
      "metadata": {
        "id": "zOzhkNgxhE_u",
        "outputId": "998848c5-8900-42a9-8121-0513b3dc7652"
      },
      "source": [
        "row = 5\n",
        "for i in range(1, row + 1, 1):\n",
        "    # Run inner loop i+1 times\n",
        "    for j in range(1, i + 1):\n",
        "        print(j, end=' ')\n",
        "    # empty line after each row\n",
        "    print(\"\")"
      ],
      "execution_count": null,
      "outputs": [
        {
          "name": "stdout",
          "output_type": "stream",
          "text": [
            "1 \n",
            "1 2 \n",
            "1 2 3 \n",
            "1 2 3 4 \n",
            "1 2 3 4 5 \n"
          ]
        }
      ]
    },
    {
      "cell_type": "code",
      "metadata": {
        "id": "FZxQWPo2hE_v",
        "outputId": "f50399c8-f581-4df9-aefd-8aa7596ac349"
      },
      "source": [
        "n = 3\n",
        "for i in range(1, 11, 1):\n",
        "    # 2 *i (current number)\n",
        "    product = n * i\n",
        "    print(product)"
      ],
      "execution_count": null,
      "outputs": [
        {
          "name": "stdout",
          "output_type": "stream",
          "text": [
            "3\n",
            "6\n",
            "9\n",
            "12\n",
            "15\n",
            "18\n",
            "21\n",
            "24\n",
            "27\n",
            "30\n"
          ]
        }
      ]
    },
    {
      "cell_type": "code",
      "metadata": {
        "id": "Veg8J1YHhE_x",
        "outputId": "07682e4f-4495-4f1d-bc79-1280201f2d9f"
      },
      "source": [
        "# Count of Digits\n",
        "num = 2011\n",
        "count = 0\n",
        "while num != 0:\n",
        "    # floor division\n",
        "    # to reduce the last digit from number\n",
        "    num = num // 10\n",
        "\n",
        "    # increment counter by 1\n",
        "    count = count + 1\n",
        "print(\"Total digits are:\", count)"
      ],
      "execution_count": null,
      "outputs": [
        {
          "name": "stdout",
          "output_type": "stream",
          "text": [
            "Total digits are: 4\n"
          ]
        }
      ]
    },
    {
      "cell_type": "markdown",
      "metadata": {
        "id": "-4mIuW7jhE_y"
      },
      "source": [
        "Write a program to display only those numbers from a list that satisfy the following conditions\n",
        "\n",
        "The number must be divisible by five If the number is greater than 150, then skip it and move to the next number If the number is greater than 500, then stop the loop"
      ]
    },
    {
      "cell_type": "code",
      "metadata": {
        "id": "i3IeVSVFhE_0"
      },
      "source": [
        "numbers = [12, 75, 150, 180, 145, 525, 50]"
      ],
      "execution_count": null,
      "outputs": []
    },
    {
      "cell_type": "code",
      "metadata": {
        "id": "XP0lisHPhE_1",
        "outputId": "e6af1ae2-cb51-4a76-cb6e-3fd56a81994f"
      },
      "source": [
        "numbers = [12, 75, 150, 180, 145, 525, 50]\n",
        "# iterate each item of a list\n",
        "for item in numbers:\n",
        "    if item > 500:\n",
        "        break\n",
        "    elif item > 150:\n",
        "        continue\n",
        "    # check if number is divisible by 5\n",
        "    elif item % 5 == 0:\n",
        "        print(item)"
      ],
      "execution_count": null,
      "outputs": [
        {
          "name": "stdout",
          "output_type": "stream",
          "text": [
            "75\n",
            "150\n",
            "145\n"
          ]
        }
      ]
    },
    {
      "cell_type": "code",
      "metadata": {
        "id": "JV-R1CHrhE_2"
      },
      "source": [
        ""
      ],
      "execution_count": null,
      "outputs": []
    }
  ]
}
