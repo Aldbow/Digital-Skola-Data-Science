{
  "nbformat": 4,
  "nbformat_minor": 0,
  "metadata": {
    "colab": {
      "name": "SIB_B_Sesi_15_Introduction_to_Numpy.ipynb",
      "provenance": [],
      "collapsed_sections": [],
      "include_colab_link": true
    },
    "kernelspec": {
      "name": "python3",
      "display_name": "Python 3"
    },
    "language_info": {
      "name": "python"
    }
  },
  "cells": [
    {
      "cell_type": "markdown",
      "metadata": {
        "id": "view-in-github",
        "colab_type": "text"
      },
      "source": [
        "<a href=\"https://colab.research.google.com/github/Aldbow/kmb_aldiva/blob/main/SIB_B_Sesi_15_Introduction_to_Numpy.ipynb\" target=\"_parent\"><img src=\"https://colab.research.google.com/assets/colab-badge.svg\" alt=\"Open In Colab\"/></a>"
      ]
    },
    {
      "cell_type": "markdown",
      "metadata": {
        "id": "KrkAnfiHY2Oe"
      },
      "source": [
        "# Introduction to Numpy"
      ]
    },
    {
      "cell_type": "markdown",
      "metadata": {
        "id": "4Ez2EQ53al2j"
      },
      "source": [
        "# Using Numpy"
      ]
    },
    {
      "cell_type": "code",
      "metadata": {
        "id": "g5Ed1dyCY-1e",
        "colab": {
          "base_uri": "https://localhost:8080/"
        },
        "outputId": "f1ad1851-493a-4fce-f1a9-b33396cc91f5"
      },
      "source": [
        "!pip install numpy"
      ],
      "execution_count": null,
      "outputs": [
        {
          "output_type": "stream",
          "name": "stdout",
          "text": [
            "Requirement already satisfied: numpy in /usr/local/lib/python3.7/dist-packages (1.19.5)\n"
          ]
        }
      ]
    },
    {
      "cell_type": "code",
      "metadata": {
        "id": "AfMLtOvwZrWg"
      },
      "source": [
        "import numpy as np"
      ],
      "execution_count": null,
      "outputs": []
    },
    {
      "cell_type": "code",
      "metadata": {
        "colab": {
          "base_uri": "https://localhost:8080/"
        },
        "id": "HuYWbJRraW2V",
        "outputId": "daa1a55e-ec3e-4456-8747-5339e0d5e5b0"
      },
      "source": [
        "# Check if working\n",
        "test_array = np.array([1,2,3])\n",
        "print(test_array)\n",
        "print(type(test_array))"
      ],
      "execution_count": null,
      "outputs": [
        {
          "output_type": "stream",
          "name": "stdout",
          "text": [
            "[1 2 3]\n",
            "<class 'numpy.ndarray'>\n"
          ]
        }
      ]
    },
    {
      "cell_type": "markdown",
      "metadata": {
        "id": "nnJ9kU5haan2"
      },
      "source": [
        "# Creating Array/Matrix in Numpy"
      ]
    },
    {
      "cell_type": "markdown",
      "metadata": {
        "id": "9uoFqUAsbNEz"
      },
      "source": [
        "Matrix 1D"
      ]
    },
    {
      "cell_type": "code",
      "metadata": {
        "colab": {
          "base_uri": "https://localhost:8080/"
        },
        "id": "srkI80obTQi3",
        "outputId": "437ff344-b586-4690-ad52-9e046fd80ee8"
      },
      "source": [
        "my_list = [1,2,3,4]\n",
        "print(type(my_list))\n",
        "print(my_list)"
      ],
      "execution_count": null,
      "outputs": [
        {
          "output_type": "stream",
          "name": "stdout",
          "text": [
            "<class 'list'>\n",
            "[1, 2, 3, 4]\n"
          ]
        }
      ]
    },
    {
      "cell_type": "code",
      "metadata": {
        "colab": {
          "base_uri": "https://localhost:8080/"
        },
        "id": "iymOzXNiTgBv",
        "outputId": "67e73ebd-fa10-4fac-a8b3-c906f9371386"
      },
      "source": [
        "my_array = np.array(my_list)\n",
        "print(type(my_array))\n",
        "print(my_array)"
      ],
      "execution_count": null,
      "outputs": [
        {
          "output_type": "stream",
          "name": "stdout",
          "text": [
            "<class 'numpy.ndarray'>\n",
            "[[1 2 3]\n",
            " [4 5 6]\n",
            " [7 8 9]]\n"
          ]
        }
      ]
    },
    {
      "cell_type": "code",
      "metadata": {
        "colab": {
          "base_uri": "https://localhost:8080/"
        },
        "id": "I-s_0zHSoyev",
        "outputId": "5c0b50af-e718-42a8-a96b-b3b2e2cee85a"
      },
      "source": [
        "my_array = numpy.array(my_list)\n",
        "print(type(my_array))\n",
        "print(my_array)"
      ],
      "execution_count": null,
      "outputs": [
        {
          "output_type": "stream",
          "name": "stdout",
          "text": [
            "<class 'numpy.ndarray'>\n",
            "[[1 2 3]\n",
            " [4 5 6]\n",
            " [7 8 9]]\n"
          ]
        }
      ]
    },
    {
      "cell_type": "code",
      "metadata": {
        "colab": {
          "base_uri": "https://localhost:8080/"
        },
        "id": "yJ-IWJK-o2hN",
        "outputId": "fc3ac0b9-cf8a-4b65-ccc1-3302ccdc5491"
      },
      "source": [
        "my_array = ab.array(my_list)\n",
        "print(type(my_array))\n",
        "print(my_array)"
      ],
      "execution_count": null,
      "outputs": [
        {
          "output_type": "stream",
          "name": "stdout",
          "text": [
            "<class 'numpy.ndarray'>\n",
            "[[1 2 3]\n",
            " [4 5 6]\n",
            " [7 8 9]]\n"
          ]
        }
      ]
    },
    {
      "cell_type": "code",
      "metadata": {
        "colab": {
          "base_uri": "https://localhost:8080/"
        },
        "id": "YbpNcXdfmbRL",
        "outputId": "7c628153-0ac5-4657-c554-5dc02cea3c49"
      },
      "source": [
        "a= np.array([3,6,9,12,15])\n",
        "print(a)\n",
        "print(type(a))"
      ],
      "execution_count": null,
      "outputs": [
        {
          "output_type": "stream",
          "name": "stdout",
          "text": [
            "[ 3  6  9 12 15]\n",
            "<class 'numpy.ndarray'>\n"
          ]
        }
      ]
    },
    {
      "cell_type": "code",
      "metadata": {
        "colab": {
          "base_uri": "https://localhost:8080/"
        },
        "id": "rqwnC5L6hK4S",
        "outputId": "25599a70-ae03-4066-bec1-ca62abf27ca5"
      },
      "source": [
        "my_array.shape"
      ],
      "execution_count": null,
      "outputs": [
        {
          "output_type": "execute_result",
          "data": {
            "text/plain": [
              "(4,)"
            ]
          },
          "metadata": {},
          "execution_count": 6
        }
      ]
    },
    {
      "cell_type": "code",
      "metadata": {
        "colab": {
          "base_uri": "https://localhost:8080/"
        },
        "id": "FUIscPwgm1rP",
        "outputId": "a8b59b38-f994-4d20-e304-99a5f803ec0d"
      },
      "source": [
        "a.shape"
      ],
      "execution_count": null,
      "outputs": [
        {
          "output_type": "execute_result",
          "data": {
            "text/plain": [
              "(5,)"
            ]
          },
          "metadata": {},
          "execution_count": 3
        }
      ]
    },
    {
      "cell_type": "markdown",
      "metadata": {
        "id": "E_T9sLmqbYq8"
      },
      "source": [
        "Matrix 2D"
      ]
    },
    {
      "cell_type": "markdown",
      "metadata": {
        "id": "OuJux63vbrZt"
      },
      "source": [
        "![image.png](data:image/png;base64,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)"
      ]
    },
    {
      "cell_type": "code",
      "metadata": {
        "colab": {
          "base_uri": "https://localhost:8080/"
        },
        "id": "ao2_OV8LTWnl",
        "outputId": "b06fe541-de4b-47ea-af99-dec059257b38"
      },
      "source": [
        "my_list = [ [1, 2, 3], [4, 5, 6], [7, 8, 9] ]\n",
        "print(my_list)\n",
        "type(my_list)"
      ],
      "execution_count": null,
      "outputs": [
        {
          "output_type": "stream",
          "name": "stdout",
          "text": [
            "[[1, 2, 3], [4, 5, 6], [7, 8, 9]]\n"
          ]
        },
        {
          "output_type": "execute_result",
          "data": {
            "text/plain": [
              "list"
            ]
          },
          "metadata": {},
          "execution_count": 4
        }
      ]
    },
    {
      "cell_type": "code",
      "metadata": {
        "colab": {
          "base_uri": "https://localhost:8080/"
        },
        "id": "34G4X9U-TYHs",
        "outputId": "3a72474c-f5cb-431c-8cd4-10f441a1217b"
      },
      "source": [
        "my_array = np.array(my_list)\n",
        "print(my_array)\n",
        "type(my_array)"
      ],
      "execution_count": null,
      "outputs": [
        {
          "output_type": "stream",
          "name": "stdout",
          "text": [
            "[[1 2 3]\n",
            " [4 5 6]\n",
            " [7 8 9]]\n"
          ]
        },
        {
          "output_type": "execute_result",
          "data": {
            "text/plain": [
              "numpy.ndarray"
            ]
          },
          "metadata": {},
          "execution_count": 5
        }
      ]
    },
    {
      "cell_type": "code",
      "metadata": {
        "colab": {
          "base_uri": "https://localhost:8080/"
        },
        "id": "Y2NG5OSKncUN",
        "outputId": "b1f21e07-92da-41a7-de73-272546b7fda9"
      },
      "source": [
        "my_array"
      ],
      "execution_count": null,
      "outputs": [
        {
          "output_type": "execute_result",
          "data": {
            "text/plain": [
              "array([[1, 2, 3],\n",
              "       [4, 5, 6],\n",
              "       [7, 8, 9]])"
            ]
          },
          "metadata": {},
          "execution_count": 6
        }
      ]
    },
    {
      "cell_type": "code",
      "metadata": {
        "colab": {
          "base_uri": "https://localhost:8080/"
        },
        "id": "wpxnHKilTC91",
        "outputId": "0921971d-6e43-42d9-a71e-311a45e378c5"
      },
      "source": [
        "my_array.shape"
      ],
      "execution_count": null,
      "outputs": [
        {
          "output_type": "execute_result",
          "data": {
            "text/plain": [
              "(3, 3)"
            ]
          },
          "metadata": {},
          "execution_count": 9
        }
      ]
    },
    {
      "cell_type": "code",
      "metadata": {
        "colab": {
          "base_uri": "https://localhost:8080/"
        },
        "id": "NM50-5GJn9sb",
        "outputId": "e3c6bdf6-16e4-4ddb-dc68-148d6fde1d1c"
      },
      "source": [
        "b = np.array([ [1,2,3,4], \n",
        "               [5,6,7,8], \n",
        "               [9,10,11,12] ])\n",
        "print(b)\n",
        "b.shape"
      ],
      "execution_count": null,
      "outputs": [
        {
          "output_type": "stream",
          "name": "stdout",
          "text": [
            "[[ 1  2  3  4]\n",
            " [ 5  6  7  8]\n",
            " [ 9 10 11 12]]\n"
          ]
        },
        {
          "output_type": "execute_result",
          "data": {
            "text/plain": [
              "(3, 4)"
            ]
          },
          "metadata": {},
          "execution_count": 7
        }
      ]
    },
    {
      "cell_type": "code",
      "metadata": {
        "colab": {
          "base_uri": "https://localhost:8080/"
        },
        "id": "Fl69pIZEx9Si",
        "outputId": "2ff0930d-a1b0-437a-aa9a-08aba25b29c1"
      },
      "source": [
        "arr_str = np.array([ ['a','b','c','d'], \n",
        "                     ['e','f','g','h'] ])\n",
        "print(arr_str)"
      ],
      "execution_count": null,
      "outputs": [
        {
          "output_type": "stream",
          "name": "stdout",
          "text": [
            "[['a' 'b' 'c' 'd']\n",
            " ['e' 'f' 'g' 'h']]\n"
          ]
        }
      ]
    },
    {
      "cell_type": "markdown",
      "metadata": {
        "id": "kcc1Gp7mcxiV"
      },
      "source": [
        "Matrix 3D"
      ]
    },
    {
      "cell_type": "markdown",
      "metadata": {
        "id": "f48e-qO0UC_L"
      },
      "source": [
        "![image.png](data:image/png;base64,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)"
      ]
    },
    {
      "cell_type": "code",
      "metadata": {
        "id": "ccb6xXzLC4vq",
        "colab": {
          "base_uri": "https://localhost:8080/"
        },
        "outputId": "5f6a620f-5724-4732-a712-5005f8ad6f2f"
      },
      "source": [
        "my_array = np.array([ [ [1, 2], [3, 4] ], \n",
        "                     [ [5, 6], [7, 8] ] ])\n",
        "my_array"
      ],
      "execution_count": null,
      "outputs": [
        {
          "output_type": "execute_result",
          "data": {
            "text/plain": [
              "array([[[1, 2],\n",
              "        [3, 4]],\n",
              "\n",
              "       [[5, 6],\n",
              "        [7, 8]]])"
            ]
          },
          "metadata": {},
          "execution_count": 14
        }
      ]
    },
    {
      "cell_type": "code",
      "metadata": {
        "colab": {
          "base_uri": "https://localhost:8080/"
        },
        "id": "GtQz0QPLpnCZ",
        "outputId": "b6d422d8-5ba6-45d4-f600-c18b72e8093d"
      },
      "source": [
        "print(my_array)"
      ],
      "execution_count": null,
      "outputs": [
        {
          "output_type": "stream",
          "name": "stdout",
          "text": [
            "[[[1 2]\n",
            "  [3 4]]\n",
            "\n",
            " [[5 6]\n",
            "  [7 8]]]\n"
          ]
        }
      ]
    },
    {
      "cell_type": "code",
      "metadata": {
        "colab": {
          "base_uri": "https://localhost:8080/"
        },
        "id": "xIHo4ldhTrny",
        "outputId": "53f495a5-c1d9-4375-a30d-4eafa134ac1b"
      },
      "source": [
        "my_array.shape"
      ],
      "execution_count": null,
      "outputs": [
        {
          "output_type": "execute_result",
          "data": {
            "text/plain": [
              "(2, 2, 2)"
            ]
          },
          "metadata": {},
          "execution_count": 11
        }
      ]
    },
    {
      "cell_type": "code",
      "metadata": {
        "colab": {
          "base_uri": "https://localhost:8080/"
        },
        "id": "ThLiisoLp6Fi",
        "outputId": "9733e375-2196-484c-c6f9-1dd9dcfea405"
      },
      "source": [
        "c = np.array([ [ [1, 2], [3, 4] ], \n",
        "              [ [5, 6], [7, 8] ],\n",
        "              [ [9, 10], [11, 12] ] ])\n",
        "print(c)\n",
        "c.shape"
      ],
      "execution_count": null,
      "outputs": [
        {
          "output_type": "stream",
          "name": "stdout",
          "text": [
            "[[[ 1  2]\n",
            "  [ 3  4]]\n",
            "\n",
            " [[ 5  6]\n",
            "  [ 7  8]]\n",
            "\n",
            " [[ 9 10]\n",
            "  [11 12]]]\n"
          ]
        },
        {
          "output_type": "execute_result",
          "data": {
            "text/plain": [
              "(3, 2, 2)"
            ]
          },
          "metadata": {},
          "execution_count": 16
        }
      ]
    },
    {
      "cell_type": "code",
      "metadata": {
        "colab": {
          "base_uri": "https://localhost:8080/"
        },
        "id": "AjUaui0GqSLM",
        "outputId": "79e9f5c5-0c77-4bb3-d5df-3795dab362d6"
      },
      "source": [
        "d = np.array([ [ [1, 2, 10], [3, 4, 10] ], \n",
        "              [ [5, 6, 10], [7, 8, 10] ],\n",
        "              [ [9, 10, 10], [11, 12, 10] ] ])\n",
        "print(d)\n",
        "d.shape"
      ],
      "execution_count": null,
      "outputs": [
        {
          "output_type": "stream",
          "name": "stdout",
          "text": [
            "[[[ 1  2 10]\n",
            "  [ 3  4 10]]\n",
            "\n",
            " [[ 5  6 10]\n",
            "  [ 7  8 10]]\n",
            "\n",
            " [[ 9 10 10]\n",
            "  [11 12 10]]]\n"
          ]
        },
        {
          "output_type": "execute_result",
          "data": {
            "text/plain": [
              "(3, 2, 3)"
            ]
          },
          "metadata": {},
          "execution_count": 17
        }
      ]
    },
    {
      "cell_type": "code",
      "metadata": {
        "colab": {
          "base_uri": "https://localhost:8080/"
        },
        "id": "FX9HUX2YqpWw",
        "outputId": "25c92993-68cc-4fad-c539-d0017070b410"
      },
      "source": [
        "arr_str = np.array([ [ ['a','b','c','d'] ], [['e','f','g','h']] ])\n",
        "print(arr_str)\n",
        "arr_str.shape"
      ],
      "execution_count": null,
      "outputs": [
        {
          "output_type": "stream",
          "name": "stdout",
          "text": [
            "[[['a' 'b' 'c' 'd']]\n",
            "\n",
            " [['e' 'f' 'g' 'h']]]\n"
          ]
        },
        {
          "output_type": "execute_result",
          "data": {
            "text/plain": [
              "(2, 1, 4)"
            ]
          },
          "metadata": {},
          "execution_count": 37
        }
      ]
    },
    {
      "cell_type": "markdown",
      "metadata": {
        "id": "jMWBNPPhUN3N"
      },
      "source": [
        "# Array Indexing"
      ]
    },
    {
      "cell_type": "markdown",
      "metadata": {
        "id": "a5p_IQa3Uawg"
      },
      "source": [
        "1D"
      ]
    },
    {
      "cell_type": "markdown",
      "metadata": {
        "id": "dp2hUDwFWoCE"
      },
      "source": [
        "![image.png](data:image/png;base64,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)"
      ]
    },
    {
      "cell_type": "code",
      "metadata": {
        "colab": {
          "base_uri": "https://localhost:8080/"
        },
        "id": "_D89x72QTvkp",
        "outputId": "7b13ae08-31f9-493d-d6ca-18631854702e"
      },
      "source": [
        "arr_1d = np.array([10,20,30,40,50,60,70,80])\n",
        "print(arr_1d)\n",
        "arr_1d.shape"
      ],
      "execution_count": null,
      "outputs": [
        {
          "output_type": "stream",
          "name": "stdout",
          "text": [
            "[10 20 30 40 50 60 70 80]\n"
          ]
        },
        {
          "output_type": "execute_result",
          "data": {
            "text/plain": [
              "(8,)"
            ]
          },
          "metadata": {},
          "execution_count": 19
        }
      ]
    },
    {
      "cell_type": "code",
      "metadata": {
        "colab": {
          "base_uri": "https://localhost:8080/"
        },
        "id": "r9lYVvQiUSn2",
        "outputId": "290f1b82-1a4d-4900-b4e3-a9dd81e93e7b"
      },
      "source": [
        "arr_1d[2]"
      ],
      "execution_count": null,
      "outputs": [
        {
          "output_type": "execute_result",
          "data": {
            "text/plain": [
              "30"
            ]
          },
          "metadata": {},
          "execution_count": 13
        }
      ]
    },
    {
      "cell_type": "code",
      "metadata": {
        "colab": {
          "base_uri": "https://localhost:8080/"
        },
        "id": "X_lY3OlVZLnh",
        "outputId": "6f7d7bcc-1819-4f6b-8a8e-bde11f9d37bd"
      },
      "source": [
        "arr_1d[0] = 999\n",
        "print(arr_1d)"
      ],
      "execution_count": null,
      "outputs": [
        {
          "output_type": "stream",
          "name": "stdout",
          "text": [
            "[999  20  30  40  50  60  70  80]\n"
          ]
        }
      ]
    },
    {
      "cell_type": "code",
      "metadata": {
        "colab": {
          "base_uri": "https://localhost:8080/"
        },
        "id": "r-MoID10Um2z",
        "outputId": "05fe185f-9a11-4f0d-9687-3b9a9cbe833b"
      },
      "source": [
        "# Slicing\n",
        "# array[mulai:akhir]\n",
        "print(arr_1d[1:5])"
      ],
      "execution_count": null,
      "outputs": [
        {
          "output_type": "stream",
          "name": "stdout",
          "text": [
            "[20 30 40 50]\n"
          ]
        }
      ]
    },
    {
      "cell_type": "code",
      "metadata": {
        "colab": {
          "base_uri": "https://localhost:8080/"
        },
        "id": "M94npt0MzQoa",
        "outputId": "8a7a894d-663e-4133-e798-b67d4254413a"
      },
      "source": [
        "# Multiple index\n",
        "f = arr_1d[ [1,3,5] ]\n",
        "print(f)"
      ],
      "execution_count": null,
      "outputs": [
        {
          "output_type": "stream",
          "name": "stdout",
          "text": [
            "[20 40 60]\n"
          ]
        }
      ]
    },
    {
      "cell_type": "code",
      "metadata": {
        "colab": {
          "base_uri": "https://localhost:8080/"
        },
        "id": "wxd886eAWUWB",
        "outputId": "63bd8f9f-5e3b-44c1-8796-1e3cd858c7ad"
      },
      "source": [
        "# Negative Index\n",
        "arr_1d[-1]"
      ],
      "execution_count": null,
      "outputs": [
        {
          "output_type": "execute_result",
          "data": {
            "text/plain": [
              "80"
            ]
          },
          "metadata": {},
          "execution_count": 17
        }
      ]
    },
    {
      "cell_type": "code",
      "metadata": {
        "colab": {
          "base_uri": "https://localhost:8080/"
        },
        "id": "mmpl2cmZYLfz",
        "outputId": "b2e2c4b0-fc91-4448-b8f8-a43a7388237e"
      },
      "source": [
        "# Step\n",
        "# arr_id[start:stop:step]\n",
        "g = arr_1d[0:5:2]\n",
        "print(g)"
      ],
      "execution_count": null,
      "outputs": [
        {
          "output_type": "stream",
          "name": "stdout",
          "text": [
            "[999  30  50]\n"
          ]
        }
      ]
    },
    {
      "cell_type": "code",
      "metadata": {
        "colab": {
          "base_uri": "https://localhost:8080/"
        },
        "id": "C5rNexwCjj0x",
        "outputId": "af45540e-7983-4bac-9636-2a61614d77db"
      },
      "source": [
        "# membuat list dengan function range [start,stop,step]\n",
        "h = list(range(10, 81, 10))\n",
        "print(h)"
      ],
      "execution_count": null,
      "outputs": [
        {
          "output_type": "stream",
          "name": "stdout",
          "text": [
            "[10, 20, 30, 40, 50, 60, 70, 80]\n"
          ]
        }
      ]
    },
    {
      "cell_type": "code",
      "metadata": {
        "colab": {
          "base_uri": "https://localhost:8080/"
        },
        "id": "I5hPWMnnYuQb",
        "outputId": "aeb889c2-219e-410e-b0e9-b8ea06613dac"
      },
      "source": [
        "# Arange\n",
        "# np.arange(start, stop, step)\n",
        "print(np.arange(10, 81, 10))"
      ],
      "execution_count": null,
      "outputs": [
        {
          "output_type": "stream",
          "name": "stdout",
          "text": [
            "[10 20 30 40 50 60 70 80]\n"
          ]
        }
      ]
    },
    {
      "cell_type": "code",
      "metadata": {
        "colab": {
          "base_uri": "https://localhost:8080/"
        },
        "id": "Vp3ksMeGvRlC",
        "outputId": "fa1dda3c-943d-4353-9bee-3b412ae3e067"
      },
      "source": [
        "print(np.arange(5,26,2.5))"
      ],
      "execution_count": null,
      "outputs": [
        {
          "output_type": "stream",
          "name": "stdout",
          "text": [
            "[ 5.   7.5 10.  12.5 15.  17.5 20.  22.5 25. ]\n"
          ]
        }
      ]
    },
    {
      "cell_type": "markdown",
      "metadata": {
        "id": "BcO_zQpAUqKq"
      },
      "source": [
        "2D"
      ]
    },
    {
      "cell_type": "markdown",
      "metadata": {
        "id": "pSJwlig3XL8y"
      },
      "source": [
        "![image.png](data:image/png;base64,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)"
      ]
    },
    {
      "cell_type": "code",
      "metadata": {
        "id": "WRGTaiBfkH3R",
        "colab": {
          "base_uri": "https://localhost:8080/"
        },
        "outputId": "4994fab7-ed21-40ce-87ab-80050c9f1b7c"
      },
      "source": [
        "list_2d = [[0,1,2],\n",
        "           [10,11,12],\n",
        "           [20,21,22]]\n",
        "\n",
        "print(list_2d)"
      ],
      "execution_count": null,
      "outputs": [
        {
          "output_type": "stream",
          "name": "stdout",
          "text": [
            "[[0, 1, 2], [10, 11, 12], [20, 21, 22]]\n"
          ]
        }
      ]
    },
    {
      "cell_type": "code",
      "metadata": {
        "colab": {
          "base_uri": "https://localhost:8080/"
        },
        "id": "jFhQKrZAkI7x",
        "outputId": "b2046563-07e0-4b3e-cc52-5f39d65e2b0a"
      },
      "source": [
        "list_2d[0][0]"
      ],
      "execution_count": null,
      "outputs": [
        {
          "output_type": "execute_result",
          "data": {
            "text/plain": [
              "0"
            ]
          },
          "metadata": {},
          "execution_count": 29
        }
      ]
    },
    {
      "cell_type": "code",
      "metadata": {
        "colab": {
          "base_uri": "https://localhost:8080/"
        },
        "id": "-H5Hm09gv2bT",
        "outputId": "ba5abc55-7860-4900-aead-0f460073fa4a"
      },
      "source": [
        "list_2d[0][1]"
      ],
      "execution_count": null,
      "outputs": [
        {
          "output_type": "execute_result",
          "data": {
            "text/plain": [
              "1"
            ]
          },
          "metadata": {},
          "execution_count": 30
        }
      ]
    },
    {
      "cell_type": "code",
      "metadata": {
        "colab": {
          "base_uri": "https://localhost:8080/"
        },
        "id": "bZ2RtaKCUpIE",
        "outputId": "e8ad537c-3e1f-4f51-b659-b81d9d599e00"
      },
      "source": [
        "arr_2d = np.array([[0,1,2],\n",
        "                   [10,11,12],\n",
        "                   [20,21,22]])\n",
        "print(arr_2d)\n",
        "arr_2d.shape"
      ],
      "execution_count": null,
      "outputs": [
        {
          "output_type": "stream",
          "name": "stdout",
          "text": [
            "[[ 0  1  2]\n",
            " [10 11 12]\n",
            " [20 21 22]]\n"
          ]
        },
        {
          "output_type": "execute_result",
          "data": {
            "text/plain": [
              "(3, 3)"
            ]
          },
          "metadata": {},
          "execution_count": 32
        }
      ]
    },
    {
      "cell_type": "code",
      "metadata": {
        "colab": {
          "base_uri": "https://localhost:8080/"
        },
        "id": "6OrtUdiNwHYq",
        "outputId": "bb918914-bddd-4f0e-8e05-784fd8d6d201"
      },
      "source": [
        "arr_2d[0,0]"
      ],
      "execution_count": null,
      "outputs": [
        {
          "output_type": "execute_result",
          "data": {
            "text/plain": [
              "0"
            ]
          },
          "metadata": {},
          "execution_count": 33
        }
      ]
    },
    {
      "cell_type": "code",
      "metadata": {
        "colab": {
          "base_uri": "https://localhost:8080/"
        },
        "id": "zmnqDXkFwRqw",
        "outputId": "14f3d0ab-36a3-4e36-d9d0-1efc44edc669"
      },
      "source": [
        "arr_2d[0,1]"
      ],
      "execution_count": null,
      "outputs": [
        {
          "output_type": "execute_result",
          "data": {
            "text/plain": [
              "1"
            ]
          },
          "metadata": {},
          "execution_count": 34
        }
      ]
    },
    {
      "cell_type": "code",
      "metadata": {
        "colab": {
          "base_uri": "https://localhost:8080/"
        },
        "id": "znxXbbj4KCPx",
        "outputId": "877e23ef-ac03-4e2c-8143-aadd17acee36"
      },
      "source": [
        "# baris 0 & kolom 2\n",
        "arr_2d[0,2]"
      ],
      "execution_count": null,
      "outputs": [
        {
          "output_type": "execute_result",
          "data": {
            "text/plain": [
              "2"
            ]
          },
          "metadata": {},
          "execution_count": 24
        }
      ]
    },
    {
      "cell_type": "code",
      "metadata": {
        "colab": {
          "base_uri": "https://localhost:8080/"
        },
        "id": "jaSadBeJU5pC",
        "outputId": "6f6923da-d616-43dd-a26b-d58212880902"
      },
      "source": [
        "# baris 2 & kolom 1\n",
        "arr_2d[2,1]"
      ],
      "execution_count": null,
      "outputs": [
        {
          "output_type": "execute_result",
          "data": {
            "text/plain": [
              "21"
            ]
          },
          "metadata": {},
          "execution_count": 25
        }
      ]
    },
    {
      "cell_type": "code",
      "metadata": {
        "colab": {
          "base_uri": "https://localhost:8080/"
        },
        "id": "ncHjoK-9U8Pu",
        "outputId": "081b0bac-fb31-4b4e-aa29-53cef19199d8"
      },
      "source": [
        "# baris 0, 2 & kolom 0, 2\n",
        "print(arr_2d[0:2, 0:2])\n",
        "# baris 0 kolom 0, baris 0 kolom 1\n",
        "# baris 1 kolom 0, baris 1 kolom 1"
      ],
      "execution_count": null,
      "outputs": [
        {
          "output_type": "stream",
          "name": "stdout",
          "text": [
            "[[ 0  1]\n",
            " [10 11]]\n"
          ]
        }
      ]
    },
    {
      "cell_type": "code",
      "metadata": {
        "colab": {
          "base_uri": "https://localhost:8080/"
        },
        "id": "JCOpnnbWkv0w",
        "outputId": "e39d994c-02b3-44b2-95a5-8882167c533f"
      },
      "source": [
        "# kolom 0,1 & baris 1, 2\n",
        "arr_2d[1:, 0:2]"
      ],
      "execution_count": null,
      "outputs": [
        {
          "output_type": "execute_result",
          "data": {
            "text/plain": [
              "array([[10, 11],\n",
              "       [20, 21]])"
            ]
          },
          "metadata": {},
          "execution_count": 27
        }
      ]
    },
    {
      "cell_type": "code",
      "metadata": {
        "colab": {
          "base_uri": "https://localhost:8080/"
        },
        "id": "epVPkSSxlRsv",
        "outputId": "06a53791-399a-4c98-e501-a8744c123fe4"
      },
      "source": [
        "# baris 0, 2 & semua kolom\n",
        "arr_2d[[0, 2], :]"
      ],
      "execution_count": null,
      "outputs": [
        {
          "output_type": "execute_result",
          "data": {
            "text/plain": [
              "array([[ 0,  1,  2],\n",
              "       [20, 21, 22]])"
            ]
          },
          "metadata": {},
          "execution_count": 28
        }
      ]
    },
    {
      "cell_type": "code",
      "metadata": {
        "colab": {
          "base_uri": "https://localhost:8080/"
        },
        "id": "X-3cYBBmysN4",
        "outputId": "e28b8d67-4b3d-4d4f-9f8d-11e7e6ffa7c0"
      },
      "source": [
        "# mau ambil 0,0 & 2,1\n",
        "print(arr_2d[0, :2])"
      ],
      "execution_count": null,
      "outputs": [
        {
          "output_type": "stream",
          "name": "stdout",
          "text": [
            "[0 1]\n"
          ]
        }
      ]
    },
    {
      "cell_type": "markdown",
      "metadata": {
        "id": "4n0uCGytVW8Y"
      },
      "source": [
        "3D"
      ]
    },
    {
      "cell_type": "markdown",
      "metadata": {
        "id": "tiP9O2uPkS6C"
      },
      "source": [
        ""
      ]
    },
    {
      "cell_type": "code",
      "metadata": {
        "colab": {
          "base_uri": "https://localhost:8080/"
        },
        "id": "8VLTqIYxVHdt",
        "outputId": "77d1595f-c5a2-4b13-afa1-1dca47a10973"
      },
      "source": [
        "arr_3d = np.array([[[0, 1, 1], \n",
        "                    [1, 0, 1], \n",
        "                    [1, 1, 0]]])\n",
        "print(arr_3d)\n",
        "arr_3d.shape"
      ],
      "execution_count": null,
      "outputs": [
        {
          "output_type": "stream",
          "name": "stdout",
          "text": [
            "[[[0 1 1]\n",
            "  [1 0 1]\n",
            "  [1 1 0]]]\n"
          ]
        },
        {
          "output_type": "execute_result",
          "data": {
            "text/plain": [
              "(1, 3, 3)"
            ]
          },
          "metadata": {},
          "execution_count": 41
        }
      ]
    },
    {
      "cell_type": "code",
      "metadata": {
        "id": "Va_P6FQWz7xq"
      },
      "source": [
        "# slicing 3d -> [layer,kolom,baris]"
      ],
      "execution_count": null,
      "outputs": []
    },
    {
      "cell_type": "code",
      "metadata": {
        "colab": {
          "base_uri": "https://localhost:8080/"
        },
        "id": "4cZkJ54WVgjX",
        "outputId": "978c82ca-a9eb-4e71-a283-e83fd41105a6"
      },
      "source": [
        "arr_3d[0]"
      ],
      "execution_count": null,
      "outputs": [
        {
          "output_type": "execute_result",
          "data": {
            "text/plain": [
              "array([[0, 1, 1],\n",
              "       [1, 0, 1],\n",
              "       [1, 1, 0]])"
            ]
          },
          "metadata": {},
          "execution_count": 47
        }
      ]
    },
    {
      "cell_type": "code",
      "metadata": {
        "colab": {
          "base_uri": "https://localhost:8080/"
        },
        "id": "IgMtQcJbVkYi",
        "outputId": "aa9db3cb-35eb-4013-d5d3-69431a9758b7"
      },
      "source": [
        "arr_3d[0,1]"
      ],
      "execution_count": null,
      "outputs": [
        {
          "output_type": "execute_result",
          "data": {
            "text/plain": [
              "array([1, 0, 1])"
            ]
          },
          "metadata": {},
          "execution_count": 48
        }
      ]
    },
    {
      "cell_type": "code",
      "metadata": {
        "colab": {
          "base_uri": "https://localhost:8080/"
        },
        "id": "-4iiHw2kViqu",
        "outputId": "476f8f26-7ad1-41f6-826f-d9687dae253d"
      },
      "source": [
        "arr_3d[0,1,2]"
      ],
      "execution_count": null,
      "outputs": [
        {
          "output_type": "execute_result",
          "data": {
            "text/plain": [
              "1"
            ]
          },
          "metadata": {},
          "execution_count": 49
        }
      ]
    },
    {
      "cell_type": "code",
      "metadata": {
        "colab": {
          "base_uri": "https://localhost:8080/"
        },
        "id": "wxT329D50Q8O",
        "outputId": "d4b1df9c-0a48-4b0f-cd83-db84bce33fe9"
      },
      "source": [
        "c = np.array([ [ [1, 2], [3, 4] ], \n",
        "              [ [5, 6], [7, 8] ],\n",
        "              [ [9, 10], [11, 12] ] ])\n",
        "print(c)\n",
        "c.shape"
      ],
      "execution_count": null,
      "outputs": [
        {
          "output_type": "stream",
          "name": "stdout",
          "text": [
            "[[[ 1  2]\n",
            "  [ 3  4]]\n",
            "\n",
            " [[ 5  6]\n",
            "  [ 7  8]]\n",
            "\n",
            " [[ 9 10]\n",
            "  [11 12]]]\n"
          ]
        },
        {
          "output_type": "execute_result",
          "data": {
            "text/plain": [
              "(3, 2, 2)"
            ]
          },
          "metadata": {},
          "execution_count": 42
        }
      ]
    },
    {
      "cell_type": "code",
      "metadata": {
        "colab": {
          "base_uri": "https://localhost:8080/"
        },
        "id": "m-X4ul6h0T8N",
        "outputId": "c83999fd-11ba-4439-c211-8064dd202701"
      },
      "source": [
        "print(c[0])"
      ],
      "execution_count": null,
      "outputs": [
        {
          "output_type": "stream",
          "name": "stdout",
          "text": [
            "[[1 2]\n",
            " [3 4]]\n"
          ]
        }
      ]
    },
    {
      "cell_type": "code",
      "metadata": {
        "colab": {
          "base_uri": "https://localhost:8080/"
        },
        "id": "bCM8mDkN0ZeP",
        "outputId": "6f4822c8-50d7-41b5-be58-f5ef1e0de4dc"
      },
      "source": [
        "print(c[1])"
      ],
      "execution_count": null,
      "outputs": [
        {
          "output_type": "stream",
          "name": "stdout",
          "text": [
            "[[5 6]\n",
            " [7 8]]\n"
          ]
        }
      ]
    },
    {
      "cell_type": "code",
      "metadata": {
        "colab": {
          "base_uri": "https://localhost:8080/"
        },
        "id": "p4rL5fdy0cks",
        "outputId": "5fab5208-7140-419e-ebf7-47135aed0873"
      },
      "source": [
        "print(c[0,1])"
      ],
      "execution_count": null,
      "outputs": [
        {
          "output_type": "stream",
          "name": "stdout",
          "text": [
            "[3 4]\n"
          ]
        }
      ]
    },
    {
      "cell_type": "code",
      "metadata": {
        "colab": {
          "base_uri": "https://localhost:8080/"
        },
        "id": "gecKO8Uy0iXw",
        "outputId": "a741695c-2329-43bb-ed9d-05c89e3b3f3e"
      },
      "source": [
        "print(c[0,1,1])"
      ],
      "execution_count": null,
      "outputs": [
        {
          "output_type": "stream",
          "name": "stdout",
          "text": [
            "4\n"
          ]
        }
      ]
    },
    {
      "cell_type": "code",
      "metadata": {
        "colab": {
          "base_uri": "https://localhost:8080/"
        },
        "id": "sZG9Zt7U0lrV",
        "outputId": "7a1a8e97-3f0f-43a2-d171-2286b7a3e878"
      },
      "source": [
        "print(c[1,:,0])"
      ],
      "execution_count": null,
      "outputs": [
        {
          "output_type": "stream",
          "name": "stdout",
          "text": [
            "[5 7]\n"
          ]
        }
      ]
    },
    {
      "cell_type": "markdown",
      "metadata": {
        "id": "_rXzfqkaVpTJ"
      },
      "source": [
        "#Array Reshaping"
      ]
    },
    {
      "cell_type": "markdown",
      "metadata": {
        "id": "SGKUIMHEjWGd"
      },
      "source": [
        "![image.png](data:image/png;base64,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)"
      ]
    },
    {
      "cell_type": "markdown",
      "metadata": {
        "id": "S5N28CaTgzCO"
      },
      "source": [
        "1D to 2D"
      ]
    },
    {
      "cell_type": "code",
      "metadata": {
        "colab": {
          "base_uri": "https://localhost:8080/"
        },
        "id": "RRRP6HAiVmMZ",
        "outputId": "0aa23dd6-582e-48f7-fade-da523a71a1be"
      },
      "source": [
        "arr = np.arange(9)\n",
        "print(arr)\n",
        "print(arr.shape)"
      ],
      "execution_count": null,
      "outputs": [
        {
          "output_type": "stream",
          "name": "stdout",
          "text": [
            "[0 1 2 3 4 5 6 7 8]\n",
            "(9,)\n"
          ]
        }
      ]
    },
    {
      "cell_type": "code",
      "metadata": {
        "colab": {
          "base_uri": "https://localhost:8080/",
          "height": 183
        },
        "id": "e6wYdTR_nvDB",
        "outputId": "3f6e2278-2712-4dc4-81a2-a9b12a0c522a"
      },
      "source": [
        "# Jumlah elemen harus sesuai dengan shape tujuan\n",
        "arr.reshape(2,4)"
      ],
      "execution_count": null,
      "outputs": [
        {
          "output_type": "error",
          "ename": "ValueError",
          "evalue": "ignored",
          "traceback": [
            "\u001b[0;31m---------------------------------------------------------------------------\u001b[0m",
            "\u001b[0;31mValueError\u001b[0m                                Traceback (most recent call last)",
            "\u001b[0;32m<ipython-input-51-bda2968c002e>\u001b[0m in \u001b[0;36m<module>\u001b[0;34m()\u001b[0m\n\u001b[1;32m      1\u001b[0m \u001b[0;31m# Jumlah elemen harus sesuai dengan shape tujuan\u001b[0m\u001b[0;34m\u001b[0m\u001b[0;34m\u001b[0m\u001b[0;34m\u001b[0m\u001b[0m\n\u001b[0;32m----> 2\u001b[0;31m \u001b[0marr\u001b[0m\u001b[0;34m.\u001b[0m\u001b[0mreshape\u001b[0m\u001b[0;34m(\u001b[0m\u001b[0;36m2\u001b[0m\u001b[0;34m,\u001b[0m\u001b[0;36m4\u001b[0m\u001b[0;34m)\u001b[0m\u001b[0;34m\u001b[0m\u001b[0;34m\u001b[0m\u001b[0m\n\u001b[0m",
            "\u001b[0;31mValueError\u001b[0m: cannot reshape array of size 9 into shape (2,4)"
          ]
        }
      ]
    },
    {
      "cell_type": "code",
      "metadata": {
        "colab": {
          "base_uri": "https://localhost:8080/"
        },
        "id": "vcEDhLOgfK20",
        "outputId": "d8885cba-ab84-4391-8f0e-467a0b356304"
      },
      "source": [
        "arr_3x3 = arr.reshape(3,3)\n",
        "print(arr_3x3)\n",
        "print(arr_3x3.shape)"
      ],
      "execution_count": null,
      "outputs": [
        {
          "output_type": "stream",
          "name": "stdout",
          "text": [
            "[[0 1 2]\n",
            " [3 4 5]\n",
            " [6 7 8]]\n",
            "(3, 3)\n"
          ]
        }
      ]
    },
    {
      "cell_type": "code",
      "metadata": {
        "colab": {
          "base_uri": "https://localhost:8080/"
        },
        "id": "M20tF_SK11JR",
        "outputId": "50f80871-2cdd-402d-f6e3-61f4ac2f2db8"
      },
      "source": [
        "arr = np.arange(12)\n",
        "print(arr)\n",
        "print(arr.shape)"
      ],
      "execution_count": null,
      "outputs": [
        {
          "output_type": "stream",
          "name": "stdout",
          "text": [
            "[ 0  1  2  3  4  5  6  7  8  9 10 11]\n",
            "(12,)\n"
          ]
        }
      ]
    },
    {
      "cell_type": "code",
      "metadata": {
        "colab": {
          "base_uri": "https://localhost:8080/"
        },
        "id": "UCCPav3T16__",
        "outputId": "c33e3bf1-cdb6-478b-9ebd-1cb7538a94ca"
      },
      "source": [
        "arr_x = arr.reshape(2,6)\n",
        "print(arr_x)\n",
        "arr_x.shape"
      ],
      "execution_count": null,
      "outputs": [
        {
          "output_type": "stream",
          "name": "stdout",
          "text": [
            "[[ 0  1  2  3  4  5]\n",
            " [ 6  7  8  9 10 11]]\n"
          ]
        },
        {
          "output_type": "execute_result",
          "data": {
            "text/plain": [
              "(2, 6)"
            ]
          },
          "metadata": {},
          "execution_count": 51
        }
      ]
    },
    {
      "cell_type": "code",
      "metadata": {
        "colab": {
          "base_uri": "https://localhost:8080/"
        },
        "id": "1otH4nTn2HtX",
        "outputId": "d6e6f129-f134-49c2-9f65-c54ec1f78153"
      },
      "source": [
        "arr_x = arr.reshape(6,2)\n",
        "print(arr_x)\n",
        "arr_x.shape"
      ],
      "execution_count": null,
      "outputs": [
        {
          "output_type": "stream",
          "name": "stdout",
          "text": [
            "[[ 0  1]\n",
            " [ 2  3]\n",
            " [ 4  5]\n",
            " [ 6  7]\n",
            " [ 8  9]\n",
            " [10 11]]\n"
          ]
        },
        {
          "output_type": "execute_result",
          "data": {
            "text/plain": [
              "(6, 2)"
            ]
          },
          "metadata": {},
          "execution_count": 52
        }
      ]
    },
    {
      "cell_type": "code",
      "metadata": {
        "colab": {
          "base_uri": "https://localhost:8080/"
        },
        "id": "STu-aTFb2KWg",
        "outputId": "8e0ae2c4-6534-4c9a-eb97-4000a465a0bb"
      },
      "source": [
        "arr_x = arr.reshape(3,4)\n",
        "print(arr_x)\n",
        "arr_x.shape"
      ],
      "execution_count": null,
      "outputs": [
        {
          "output_type": "stream",
          "name": "stdout",
          "text": [
            "[[ 0  1  2  3]\n",
            " [ 4  5  6  7]\n",
            " [ 8  9 10 11]]\n"
          ]
        },
        {
          "output_type": "execute_result",
          "data": {
            "text/plain": [
              "(3, 4)"
            ]
          },
          "metadata": {},
          "execution_count": 53
        }
      ]
    },
    {
      "cell_type": "markdown",
      "metadata": {
        "id": "FvL1YLPrg1Sg"
      },
      "source": [
        "1D to 1xN 2D"
      ]
    },
    {
      "cell_type": "code",
      "metadata": {
        "colab": {
          "base_uri": "https://localhost:8080/"
        },
        "id": "bjLuLKhcfOM_",
        "outputId": "216c4692-9f7e-4f08-a5da-e7c0f7af41a3"
      },
      "source": [
        "arr_1x9 = arr.reshape(1,9)\n",
        "print(arr_1x9)\n",
        "print(arr_1x9.shape)"
      ],
      "execution_count": null,
      "outputs": [
        {
          "output_type": "stream",
          "name": "stdout",
          "text": [
            "[[0 1 2 3 4 5 6 7 8]]\n",
            "(1, 9)\n"
          ]
        }
      ]
    },
    {
      "cell_type": "markdown",
      "metadata": {
        "id": "GfkfwH5uhBL4"
      },
      "source": [
        "1D to Nx1 2D"
      ]
    },
    {
      "cell_type": "code",
      "metadata": {
        "colab": {
          "base_uri": "https://localhost:8080/"
        },
        "id": "he5MWNmwhDJA",
        "outputId": "4250843c-3d0f-48ba-edaa-9da5239ca98d"
      },
      "source": [
        "arr_9x1 = arr.reshape(9,1)\n",
        "print(arr_9x1)\n",
        "print(arr_9x1.shape)"
      ],
      "execution_count": null,
      "outputs": [
        {
          "output_type": "stream",
          "name": "stdout",
          "text": [
            "[[0]\n",
            " [1]\n",
            " [2]\n",
            " [3]\n",
            " [4]\n",
            " [5]\n",
            " [6]\n",
            " [7]\n",
            " [8]]\n",
            "(9, 1)\n"
          ]
        }
      ]
    },
    {
      "cell_type": "markdown",
      "metadata": {
        "id": "tQPrhoGxg8D1"
      },
      "source": [
        "1D to 3D"
      ]
    },
    {
      "cell_type": "code",
      "metadata": {
        "colab": {
          "base_uri": "https://localhost:8080/"
        },
        "id": "PvQKc3HRhE8L",
        "outputId": "b3cc22a3-63cd-4f7d-b1ee-78df53a0364d"
      },
      "source": [
        "arr2 = np.arange(8)\n",
        "print(arr2)\n",
        "print(arr2.shape)"
      ],
      "execution_count": null,
      "outputs": [
        {
          "output_type": "stream",
          "name": "stdout",
          "text": [
            "[0 1 2 3 4 5 6 7]\n",
            "(8,)\n"
          ]
        }
      ]
    },
    {
      "cell_type": "code",
      "metadata": {
        "colab": {
          "base_uri": "https://localhost:8080/"
        },
        "id": "OF0Zb8wwgU8J",
        "outputId": "1b11997c-5b51-49ac-a237-7c002cb0558b"
      },
      "source": [
        "arr_2x2x2 = arr2.reshape(2,2,2)\n",
        "print(arr_2x2x2)\n",
        "print(arr_2x2x2.shape)"
      ],
      "execution_count": null,
      "outputs": [
        {
          "output_type": "stream",
          "name": "stdout",
          "text": [
            "[[[0 1]\n",
            "  [2 3]]\n",
            "\n",
            " [[4 5]\n",
            "  [6 7]]]\n",
            "(2, 2, 2)\n"
          ]
        }
      ]
    },
    {
      "cell_type": "markdown",
      "metadata": {
        "id": "utSdqcoFglSN"
      },
      "source": [
        "flatten"
      ]
    },
    {
      "cell_type": "code",
      "metadata": {
        "colab": {
          "base_uri": "https://localhost:8080/"
        },
        "id": "eyXkvEfiheBh",
        "outputId": "e1edd1fa-9bc0-44b0-e392-bf9782ff8c53"
      },
      "source": [
        "arr_3x3"
      ],
      "execution_count": null,
      "outputs": [
        {
          "output_type": "execute_result",
          "data": {
            "text/plain": [
              "array([[0, 1, 2],\n",
              "       [3, 4, 5],\n",
              "       [6, 7, 8]])"
            ]
          },
          "metadata": {},
          "execution_count": 57
        }
      ]
    },
    {
      "cell_type": "code",
      "metadata": {
        "colab": {
          "base_uri": "https://localhost:8080/"
        },
        "id": "e5j1HvI1hg1X",
        "outputId": "2676e4d8-e4a0-48cb-f7ed-dace1fde38eb"
      },
      "source": [
        "arr_3x3.reshape(-1)"
      ],
      "execution_count": null,
      "outputs": [
        {
          "output_type": "execute_result",
          "data": {
            "text/plain": [
              "array([0, 1, 2, 3, 4, 5, 6, 7, 8])"
            ]
          },
          "metadata": {},
          "execution_count": 58
        }
      ]
    },
    {
      "cell_type": "code",
      "metadata": {
        "colab": {
          "base_uri": "https://localhost:8080/"
        },
        "id": "HRK__sWnhjDQ",
        "outputId": "c0586bb0-8f72-4161-e637-8fdc60f1efd9"
      },
      "source": [
        "arr_3x3.flatten()"
      ],
      "execution_count": null,
      "outputs": [
        {
          "output_type": "execute_result",
          "data": {
            "text/plain": [
              "array([0, 1, 2, 3, 4, 5, 6, 7, 8])"
            ]
          },
          "metadata": {},
          "execution_count": 59
        }
      ]
    },
    {
      "cell_type": "markdown",
      "metadata": {
        "id": "9z5KLWkGgmcB"
      },
      "source": [
        "transpose"
      ]
    },
    {
      "cell_type": "code",
      "metadata": {
        "colab": {
          "base_uri": "https://localhost:8080/"
        },
        "id": "IjHB8w_wnNzA",
        "outputId": "bf10584b-a6e1-4f82-c31a-29666e397add"
      },
      "source": [
        "arr_3x3"
      ],
      "execution_count": null,
      "outputs": [
        {
          "output_type": "execute_result",
          "data": {
            "text/plain": [
              "array([[0, 1, 2],\n",
              "       [3, 4, 5],\n",
              "       [6, 7, 8]])"
            ]
          },
          "metadata": {},
          "execution_count": 60
        }
      ]
    },
    {
      "cell_type": "code",
      "metadata": {
        "colab": {
          "base_uri": "https://localhost:8080/"
        },
        "id": "kdnMtHhngYde",
        "outputId": "a8c96413-6072-4fa5-f7e4-9c3654f81abd"
      },
      "source": [
        "arr_3x3.T"
      ],
      "execution_count": null,
      "outputs": [
        {
          "output_type": "execute_result",
          "data": {
            "text/plain": [
              "array([[0, 3, 6],\n",
              "       [1, 4, 7],\n",
              "       [2, 5, 8]])"
            ]
          },
          "metadata": {},
          "execution_count": 61
        }
      ]
    },
    {
      "cell_type": "markdown",
      "metadata": {
        "id": "VqJptT2niRc3"
      },
      "source": [
        "# Array Join"
      ]
    },
    {
      "cell_type": "markdown",
      "metadata": {
        "id": "AZfUUSXWkNsP"
      },
      "source": [
        "![image.png](data:image/png;base64,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)\n"
      ]
    },
    {
      "cell_type": "markdown",
      "metadata": {
        "id": "WmrC7Gi4mCbx"
      },
      "source": [
        "concatenate"
      ]
    },
    {
      "cell_type": "code",
      "metadata": {
        "colab": {
          "base_uri": "https://localhost:8080/"
        },
        "id": "LzFMjbdmhvM0",
        "outputId": "0c2a64e2-3080-41cb-e1cc-dfaa96c5a49f"
      },
      "source": [
        "arr_a = np.array([[0,1,3],\n",
        "                  [5,7,9]])\n",
        "arr_b = np.array([[0,2,4],\n",
        "                  [6,8,10]])\n",
        "print(arr_a)\n",
        "print(arr_b)\n",
        "print(arr_a.shape)\n",
        "print(arr_b.shape)"
      ],
      "execution_count": null,
      "outputs": [
        {
          "output_type": "stream",
          "name": "stdout",
          "text": [
            "[[0 1 3]\n",
            " [5 7 9]]\n",
            "[[ 0  2  4]\n",
            " [ 6  8 10]]\n",
            "(2, 3)\n",
            "(2, 3)\n"
          ]
        }
      ]
    },
    {
      "cell_type": "markdown",
      "metadata": {
        "id": "3OjHSVKWlYJ1"
      },
      "source": [
        "![image.png](data:image/png;base64,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)\n",
        "![image.png](data:image/png;base64,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)"
      ]
    },
    {
      "cell_type": "code",
      "metadata": {
        "colab": {
          "base_uri": "https://localhost:8080/"
        },
        "id": "NpwGyv5QpeyH",
        "outputId": "7aa819e4-950a-4c5b-dbc1-446176fdf348"
      },
      "source": [
        "# np.concatenate((array a, array b), axis)\n",
        "np.concatenate((arr_a,arr_b), 1)"
      ],
      "execution_count": null,
      "outputs": [
        {
          "output_type": "execute_result",
          "data": {
            "text/plain": [
              "array([[ 0,  1,  3,  0,  2,  4],\n",
              "       [ 5,  7,  9,  6,  8, 10]])"
            ]
          },
          "metadata": {},
          "execution_count": 63
        }
      ]
    },
    {
      "cell_type": "code",
      "metadata": {
        "colab": {
          "base_uri": "https://localhost:8080/"
        },
        "id": "YnoYZUDMlB94",
        "outputId": "ea532434-7263-401a-a7e4-657079052143"
      },
      "source": [
        "# np.concatenate((array a, array b), axis)\n",
        "np.concatenate((arr_a,arr_b), 0)"
      ],
      "execution_count": null,
      "outputs": [
        {
          "output_type": "execute_result",
          "data": {
            "text/plain": [
              "array([[ 0,  1,  3],\n",
              "       [ 5,  7,  9],\n",
              "       [ 0,  2,  4],\n",
              "       [ 6,  8, 10]])"
            ]
          },
          "metadata": {},
          "execution_count": 64
        }
      ]
    },
    {
      "cell_type": "code",
      "metadata": {
        "id": "bRMucN-X4ENx"
      },
      "source": [
        "arr_a = np.array([[0,1,3],\n",
        "                  [5,7,9]])\n",
        "arr_b = np.array([[0,2,4],\n",
        "                  [6,8,10]])\n",
        "arr_c = np.array([[100,200,400],\n",
        "                  [600,800,1000]])"
      ],
      "execution_count": null,
      "outputs": []
    },
    {
      "cell_type": "code",
      "metadata": {
        "colab": {
          "base_uri": "https://localhost:8080/"
        },
        "id": "Z62xFKqr4PWu",
        "outputId": "e2bf6b7f-960a-4616-e337-6aef7b33d6e9"
      },
      "source": [
        "np.concatenate((arr_a,arr_b,arr_c), 1)"
      ],
      "execution_count": null,
      "outputs": [
        {
          "output_type": "execute_result",
          "data": {
            "text/plain": [
              "array([[   0,    1,    3,    0,    2,    4,  100,  200,  400],\n",
              "       [   5,    7,    9,    6,    8,   10,  600,  800, 1000]])"
            ]
          },
          "metadata": {},
          "execution_count": 56
        }
      ]
    },
    {
      "cell_type": "code",
      "metadata": {
        "colab": {
          "base_uri": "https://localhost:8080/"
        },
        "id": "SlIfWT994Tyu",
        "outputId": "e2278072-f572-4965-9ba1-292f59257fce"
      },
      "source": [
        "np.concatenate((arr_a,arr_b,arr_c), 0)"
      ],
      "execution_count": null,
      "outputs": [
        {
          "output_type": "execute_result",
          "data": {
            "text/plain": [
              "array([[   0,    1,    3],\n",
              "       [   5,    7,    9],\n",
              "       [   0,    2,    4],\n",
              "       [   6,    8,   10],\n",
              "       [ 100,  200,  400],\n",
              "       [ 600,  800, 1000]])"
            ]
          },
          "metadata": {},
          "execution_count": 57
        }
      ]
    },
    {
      "cell_type": "markdown",
      "metadata": {
        "id": "c3LppJJwlvnU"
      },
      "source": [
        "stack"
      ]
    },
    {
      "cell_type": "code",
      "metadata": {
        "colab": {
          "base_uri": "https://localhost:8080/"
        },
        "id": "ViXddl-ulzuz",
        "outputId": "729a5c95-d290-4c66-cc7a-14f0d54f8d70"
      },
      "source": [
        "# Horizontal stack / hstack (np.concatenate(axis = 1))\n",
        "np.hstack((arr_a,arr_b))"
      ],
      "execution_count": null,
      "outputs": [
        {
          "output_type": "execute_result",
          "data": {
            "text/plain": [
              "array([[ 0,  1,  3,  0,  2,  4],\n",
              "       [ 5,  7,  9,  6,  8, 10]])"
            ]
          },
          "metadata": {},
          "execution_count": 65
        }
      ]
    },
    {
      "cell_type": "code",
      "metadata": {
        "colab": {
          "base_uri": "https://localhost:8080/"
        },
        "id": "IuLTXfbFl1qL",
        "outputId": "497b6668-fe9f-4d71-f630-867f9742bb6d"
      },
      "source": [
        "# Vertical stack / vstack (np.concatenate(axis = 0))\n",
        "np.vstack((arr_a,arr_b))"
      ],
      "execution_count": null,
      "outputs": [
        {
          "output_type": "execute_result",
          "data": {
            "text/plain": [
              "array([[ 0,  1,  3],\n",
              "       [ 5,  7,  9],\n",
              "       [ 0,  2,  4],\n",
              "       [ 6,  8, 10]])"
            ]
          },
          "metadata": {},
          "execution_count": 66
        }
      ]
    },
    {
      "cell_type": "markdown",
      "metadata": {
        "id": "DYCK10xplxj_"
      },
      "source": [
        "# Array Splitting"
      ]
    },
    {
      "cell_type": "markdown",
      "metadata": {
        "id": "n-YKUBCHoXMS"
      },
      "source": [
        "![image.png](data:image/png;base64,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)"
      ]
    },
    {
      "cell_type": "code",
      "metadata": {
        "colab": {
          "base_uri": "https://localhost:8080/"
        },
        "id": "6drn8eYsoY9h",
        "outputId": "46a4c0b1-241a-4a10-b380-918ca04d50a9"
      },
      "source": [
        "arr = np.arange(6)\n",
        "print(arr)"
      ],
      "execution_count": null,
      "outputs": [
        {
          "output_type": "stream",
          "name": "stdout",
          "text": [
            "[0 1 2 3 4 5]\n"
          ]
        }
      ]
    },
    {
      "cell_type": "code",
      "metadata": {
        "colab": {
          "base_uri": "https://localhost:8080/"
        },
        "id": "3KuxbyHwofFk",
        "outputId": "90e66b24-2906-4a11-b65f-3f760c687a6d"
      },
      "source": [
        "# np.split(array, n_array, axis (default = 0))\n",
        "a = np.split(arr, 3)\n",
        "print(a)\n",
        "print(a[0])\n",
        "print(a[1])\n",
        "print(a[2])"
      ],
      "execution_count": null,
      "outputs": [
        {
          "output_type": "stream",
          "name": "stdout",
          "text": [
            "[array([0, 1]), array([2, 3]), array([4, 5])]\n",
            "[0 1]\n",
            "[2 3]\n",
            "[4 5]\n"
          ]
        }
      ]
    },
    {
      "cell_type": "code",
      "metadata": {
        "colab": {
          "base_uri": "https://localhost:8080/"
        },
        "id": "l7IPr4Y5oqmS",
        "outputId": "c7eeb7bb-07e8-4569-c000-7d6459555c56"
      },
      "source": [
        "arr = np.arange(16).reshape(4,4)\n",
        "print(arr)"
      ],
      "execution_count": null,
      "outputs": [
        {
          "output_type": "stream",
          "name": "stdout",
          "text": [
            "[[ 0  1  2  3]\n",
            " [ 4  5  6  7]\n",
            " [ 8  9 10 11]\n",
            " [12 13 14 15]]\n"
          ]
        }
      ]
    },
    {
      "cell_type": "code",
      "metadata": {
        "colab": {
          "base_uri": "https://localhost:8080/"
        },
        "id": "WVE2y72Zo58d",
        "outputId": "370ab3d3-9957-4645-946f-f9ece96e623e"
      },
      "source": [
        "b = np.split(arr, 2)\n",
        "print(b[0])\n",
        "print(b[1])"
      ],
      "execution_count": null,
      "outputs": [
        {
          "output_type": "stream",
          "name": "stdout",
          "text": [
            "[[0 1 2 3]\n",
            " [4 5 6 7]]\n",
            "[[ 8  9 10 11]\n",
            " [12 13 14 15]]\n"
          ]
        }
      ]
    },
    {
      "cell_type": "code",
      "metadata": {
        "colab": {
          "base_uri": "https://localhost:8080/"
        },
        "id": "MGbpLxW7pHJL",
        "outputId": "aa476a6a-7eef-47ff-c998-0d8c4b8252c5"
      },
      "source": [
        "# Horizontal split (np.split(axis=1) is the same as np.hsplit())\n",
        "h = np.split(arr, 2, axis = 1)\n",
        "print(h[0])\n",
        "print(h[1])"
      ],
      "execution_count": null,
      "outputs": [
        {
          "output_type": "stream",
          "name": "stdout",
          "text": [
            "[[ 0  1]\n",
            " [ 4  5]\n",
            " [ 8  9]\n",
            " [12 13]]\n",
            "[[ 2  3]\n",
            " [ 6  7]\n",
            " [10 11]\n",
            " [14 15]]\n"
          ]
        }
      ]
    },
    {
      "cell_type": "code",
      "metadata": {
        "colab": {
          "base_uri": "https://localhost:8080/"
        },
        "id": "LSxjxWqJ5UfG",
        "outputId": "5ddb18af-70b7-4054-99f0-d50b07ee1d7d"
      },
      "source": [
        "hor = np.hsplit(arr,2)\n",
        "print(hor[0])\n",
        "print(hor[1])"
      ],
      "execution_count": null,
      "outputs": [
        {
          "output_type": "stream",
          "name": "stdout",
          "text": [
            "[[ 0  1]\n",
            " [ 4  5]\n",
            " [ 8  9]\n",
            " [12 13]]\n",
            "[[ 2  3]\n",
            " [ 6  7]\n",
            " [10 11]\n",
            " [14 15]]\n"
          ]
        }
      ]
    },
    {
      "cell_type": "code",
      "metadata": {
        "colab": {
          "base_uri": "https://localhost:8080/"
        },
        "id": "yH7X1YhJpM23",
        "outputId": "f9f5f8b6-412f-4bf9-fcf3-8e281c06ab93"
      },
      "source": [
        "# Vertical split (np.split(axis=0) is the same as np.vsplit()\n",
        "v = np.split(arr, 2, axis = 0)\n",
        "print(v[0])\n",
        "print(v[1])"
      ],
      "execution_count": null,
      "outputs": [
        {
          "output_type": "stream",
          "name": "stdout",
          "text": [
            "[[0 1 2 3]\n",
            " [4 5 6 7]]\n",
            "[[ 8  9 10 11]\n",
            " [12 13 14 15]]\n"
          ]
        }
      ]
    },
    {
      "cell_type": "code",
      "metadata": {
        "colab": {
          "base_uri": "https://localhost:8080/"
        },
        "id": "Y-xyy0Y-Qrg9",
        "outputId": "ff25e5b3-19c6-4f96-9d2c-da9d4ce68ceb"
      },
      "source": [
        "arr = np.arange(7)\n",
        "print(arr)"
      ],
      "execution_count": null,
      "outputs": [
        {
          "output_type": "stream",
          "name": "stdout",
          "text": [
            "[0 1 2 3 4 5 6]\n"
          ]
        }
      ]
    },
    {
      "cell_type": "code",
      "metadata": {
        "colab": {
          "base_uri": "https://localhost:8080/"
        },
        "id": "HiplJUChtXtw",
        "outputId": "2674a1ef-656b-46ba-c1e4-4f2ddb4c6ce4"
      },
      "source": [
        "# Array split \n",
        "arr = np.arange(9)\n",
        "print(arr)\n",
        "print(np.array_split(arr, 2))"
      ],
      "execution_count": null,
      "outputs": [
        {
          "output_type": "stream",
          "name": "stdout",
          "text": [
            "[0 1 2 3 4 5 6 7 8]\n",
            "[array([0, 1, 2, 3, 4]), array([5, 6, 7, 8])]\n"
          ]
        }
      ]
    },
    {
      "cell_type": "code",
      "metadata": {
        "colab": {
          "base_uri": "https://localhost:8080/"
        },
        "id": "-uF5FukosmB7",
        "outputId": "ebee91f7-d4b5-4ee2-f16e-68d68a54da2b"
      },
      "source": [
        "arr = np.arange(9)\n",
        "print(arr[0:3])\n",
        "print(arr[3:])"
      ],
      "execution_count": null,
      "outputs": [
        {
          "output_type": "stream",
          "name": "stdout",
          "text": [
            "[0 1 2]\n",
            "[3 4 5 6 7 8]\n"
          ]
        }
      ]
    },
    {
      "cell_type": "markdown",
      "metadata": {
        "id": "jkZFoEumkdMY"
      },
      "source": [
        "# Array Sort"
      ]
    },
    {
      "cell_type": "markdown",
      "metadata": {
        "id": "ywfihgC-yqGj"
      },
      "source": [
        "![image.png](data:image/png;base64,iVBORw0KGgoAAAANSUhEUgAAAVgAAADQCAYAAABC+HlBAAAgAElEQVR4Ae2d93sV17Ww82d8935fbpKb4jjJdRLHSRzHNTF2HBtcMb1jqoQQHSQhBJJADVQRqkiodwk1OkhU4U61Y4OxsY1bbMcl98f1Pe/GWx6OVc+Zc2DQOs8zz5wzZ2bP2mvWeveaNXvv+d7//u//ii6qA7UBtQG1Af9tQPr5fE+V6r9SVXeqO7UBtQFsoL+PAlYjeL2DURtQGwjQBhSwASpQIxWNVNQG1Ab6swEFrAJWoxS1AbWBINmAAjZIiu2vRdPtGu2oDYwcG1DAKmA1elEbUBsIkg0oYIOkWI1SRk6Uotdar3V/NqCAVcBq9KI2oDYQJBtQwAZJsf21aLpdox21gZFjAwpYBaxGL2oDagNBsgEFbJAUq1HKyIlS9Frrte7PBkIG2C+//FI++OADOXv2rJw+fVrOnDnjqQW5z5075ymZrY6RncX+9tr63Dl07035re69qH9kfuutt+TTTz/VCNfPQCxkgAWu3d3dsnbtWlm1aqVERa3x1BITEy3r1sVKdHSUp+RGz8geHR3tObmtjcTGrhUW+9s76yhj77GxsRITE+M5+bH3oqIiOX/+vAL2RgfsxYsXpaWlRfILiqWmtkFa23ZJS2uHJ5a2jt2SlZMrc+bOldq6Js/IvrO1U9o790hKSpokbkyW2vomad7Z7gmdYxtW/pi1scJCXdjmBbvZ2dYpjc2tkpGZI+mZOVJSWi6t7di8d+Svq2+W1Wui5ejRYwrYGx2wb7zxhtTV10tZebXs2nNAjh5/Xg4f7fHEcrznRSksKpXpM2bJnr2HPCP7kWMn5UTPS7J5S5YkJafJnn2HpPuIN3SObVj518auFxbqwjYv2A1yHuw6Jrl5RbJ1W6HU1jfLsRMveEJ29It/7t3fJZGRS+VQV5cCVgEbPHAA2KLiHTJz1hwDKa80DhZQXgdsbFy8sHgRsNvyiyQ3z5uA3X/gsCxbvtyk9vp7iKPbB37AF7IcrNcjWAVs8Bqw/iJS20B4GbDA1asRrAJ2YHgOpXFRwA4hTaERbOjh6kwRKGBDr3/u0hSwCtiQ5LQUsKF3cAXs9dG5vZtQwAYOVyLc/j6uv9FAUwShdxh7i6052Ouj+6sPuTRFMJRb6Zt1HwWspghCchdgI6PhrG0DoSmC0DcQGsFqBBsyMGiKIPQOrimC66Nz2wAqYBWwCthBom8bAWqKIPSwQveaInAHUl5OH2iKYBBI0aJrBBt6QGkEe310rhGsu42CAlYBG7I7Aeu8Q13bCFxzsKGHraYI3AGtAlYBq4Adgg0MtVGw+2mKwB1AeTk9gOz9fW74bloYMK0s47v7WviPfazBB7IORorAKb+V1dbH/g5EZo7lHMGai8ApP/pH5kDl9T3eyh+MCJayrdzOurip+1DlYJ1246tDf39Tpg40CLyR8CxgmbRk/8EjUlldJxWVtVJZde3S2NxmHjL4a2DO44IBWCt/fWOr1NQ2SlVNvakLk4Ls2ddlYIXjO+UY7ncLqGA85Oo+ckL2HzwsbR17pamlXTp27XOtQbP1tPK7CVjKRPe79x6SuoYWKauouar32iZpbHLPZjhPqADbvLNDamsbzUxjXBerv0DWCtjA4erZCNZc/INHpKCoVH75q1/Jj370I7nlZz+7Zhk79lkDra7DJwJ2fLcBi/x793dLYdEOefSxMXLPvffLnX+6S373u9vlvvsfkNS0dDlw6GjAUaEFlNuARf5dew4a/YcvipRnx42XqOi1rk/GYuV3E7DIjm7TM7LloYcekh//9Bb57e13yL33PSCPP/GUsRnAyH6BACqUgJ05c5bceecfZdbs51ybjIj6awQbOGQ9GcFy8YlA8gtLZOKkqRIVHSs5W/OvWcoramTfge6AnMQ6mNuAxYGZZWnmrOdkU3KamdKuoKhEcrcVSEpahsxfECax6zYEPL2dBZSbgEX3aZvTJTw8QpYuWy6Jm1Jk4qQpsmTpck8AlrQAukXHKalbJCMrV/IKtktOboFsSNgkEydNlryC4oAb5WADlutw8NBRSU3dLGui1srUaTPk0cdGS8eu/QE3Dti9AjZwuHo6gmVO2fzC7Wa+StID5Bp9c7EYuYVkIGu3AXuo+5iUV9ZK3IZE2dm229yy2nwg6YFFEUtkUURkb6rAX9mDAVjKzMsvkviEjbIlPUuqaxvkuTnzJWLx0hsesKQGSGksW75Clq9YZaJw6oPuudMhZTBx4kRJSk6V9s7AUh6UG6wUAWUjL2mwSZMmSWraZlkXt0Huf+ABae/cq4D1c+7WYDxQ82wEawG7eHGkycHiJDgQMMIAWfwFk+9xbgOW8okQKNfKaWWmoVi/YaOsXBUljc3tpk52H1+5BvvNccF4yIWuKRf5kSF80eIbHrDoAihVVtdLVnau7CirvEb/JiLsOiqJiYmSlJxiGkDqOZiO+/uf8wULsMhKA8CdyZgxj0tBQaFkZGTKPffeI20dexSwCtjA3miAgV0FbIksWbrCPKS46iBXc2c2mu3P+Ie7PRiAdcqA7DgzS8/Jl2Vh2CJ5bs482b33YG+j4dx/qN+DBVjn+YFIWFjEDQ9YKzOQ7Tp8/Dt65Rp0dR+XLenpkpSUJCWlZeZ62OOGuw4mYLFHXr00bvwE2V5aIQcOHZG0zRkK2BsIrDYa9nQEm5ObL2Mef8Lkn8IXRcjCsHCZN3+hxK5bbyIUnGa4jtHX/sEELDLywKippcNEVzzQWbgwTDZuTJIjxwLrYB5swHLH4DXAcn3RC4u91nznOnB7PW78eElI3GTen+Xcx+471DXHBiOCRc7W9j0mf0xqpr1jr2kIUjenK2AVsO68kwvj3XfgsOwor5bpM2ZKWFi4rImKkeiYWFm5OkpWrlwl8fEJUrx9h5DvDMRRcKhgApaotaq6zjjMsuUr5U93/VloLCqra6+5hR2qYzv3o97BSBHYc3gVsFZ+1ugIaNU37DQPv2bMnG2iw0Pdx3sB7Nx/qN8pNxiAxV5IDZBCSs/IMT0iuMYKWHceStnI0621JyNYjJxbPW6ht+XlS2NTq7nlw9BYdpRVyMqVK2X27OdMKuFGBizOXby9VFavWSOTJk+RW3/xSwkLX2zeXhuo3ByvgO3/LgD9oP+29j2yIX6juRui6x8PGtk+VJj2tR9lBwOwvLgyLDxCIiKWCI0A5yEAUMAqYF1/qywRFKC1D7echk7rPnr0GPM2T6JY53/D/R7MCBZZqAPOSL9DOo1PnjJVZsyYad7q2Vfdhiq/AnZwuKIjemxMnjzNdJ3jOrBtqDrubz/KcBOwAP9g11GTH46Li5PCwmLTeNKAkrdXwCpgXQcsxt2XMwBE+jaOmzDJPA1mxFdf+/XnHL7bgw1YZGPBiVhnZuWavr1pWzKNU/krO8dpBPtdyFp98sR9wcIwc8ewJT27t1uc/d/XDobzmzLcBmxH5z4zOGL8+AmyYuUaiU9I6l0mTZ4qt9xyi6yLWy8trZ0BR+DYog40CBzank0RYOz9OQJApI/sxImTpbyi1gyp7W/foTiN24BFlv7kIcfWvLPTjOaKXLLM5Jr9vV3lHArYawGLTrgrYIgs/Y3JuW7JyDYd9NH9UOxhKPtwHjcBS3mduw/I1GkzTYOwNnaD2CV2XbyMHz9JfvrTn5oHvC2tHQrYG+SBl2cBi/HakVoYnwUu31mysrfJk089Zcb5s+9QnKK/fdwG7NWuQldTG1ZeKz9OznwEiZuSJTJyiezb3+23s1B2sABL2ciMbk1O8JuBBjYK70+Xw9lu5XdzqCxlMnfC4silctttv5biknKTy+Qa899Aaafhyu4mYDk3dsPAlIamNmEOC7vQA4XRjHfccYfU1DaY+gxH1r721Qg28OiVB2X9fW7o2bRI7mNIaZu3mF4COAdgYgEoDBdklNTo0Y+brjcWBn0Z0lC2uQlYDJdbOEbhUA/K9pV//YZEkxckCrcPMoYip+8+FlBuDpXlHNQBmdE1v5mPgJFc5ALZxn/s4yvPcH9b+d0CLPBkDoj5Cxaa3idMsAO0kBnZkRt9Mwyb/YYrr3N/ZHcbsM7y7Xf0jN2npmXIAw/81Tywc0P3lKEpgsAh60nAYlx19U1Csp8cWnJyipSVV5lhmwUFxbIwLEzmzJ0vWTnbjJEHanA4XlHxDpk5a07Ak2ngDMyetXJ1tGkANm5KlpIdFUb2wuIdErlkhcydN98MRcXRrSP5s7aAchOw6LKmtt5MlpK4MUXiE5Nk1KiH5eG/PSIpKamycVOK5GzdJvUNzQFD1srvBmApC31iL6PHPG4eJDLcN3FjslCPTUkpsmlTsplfYUN8grGnQOwmWIClXBZkY8BEeUWVGbLMfBA//vGPTdDR6cLMZpSvgB2hgMXAOnfvl/yCInN7GhUdLUk4SFKqJG7cJOHhi2RDfGLvAyL29wdQ9hg3AYvhtrTuMmB66umxsnLVGvOd8e90cJ+/MFzWb0iQqupaE5lYGfxZU2+iM7cBS2NGw7AmKtYsk6dON4M91sbGyZroWElJ2WzkDwRQ1NfK7wZgkYUuTuahVliErFodLVZe6kEf6uiYtaZPNYCtqKoJqIFA9mBGsJRP75iCwmKJT9hk5oN4bPQY08i1tu8KSHZ0r4ANHK6eTRFYAyAaJA9buqNcNiUlS3RMnGTl5Jk8FQYYqINbqLkJWCs7sjHEkRxgQmKycXYm7aitbzGOSd3s+f1dW0C5CVhkYcKU2rpmM0SZ+Xj57vubffyV2x5n5XcDsJRFuTaH6ZSXOjgX9uHaWDn8WXO+YAOWlAf51+raRrPUNewUFgbhBGr7CtgRDlhr9BgZLTlzfLJg1Gyz/7uxdhuwTpnI+RnZDx4xTu2m7BZQbgMW+ZGTyZ2vLt/97ayjv9+t/G4A1leGa+W39bDrq/XxPWY4v4MNWCvL1XpY/Qcuty1XAauA7YUoxoxBsPDdGolb62AC1ld2N+WnLLdTBOiUcoeyBKp/K7+bgA2F3FZHwYxgrW77qo/9L5C1AlYB6zpI+zPIYAK2v3O6sd0CKhgRrBvyDVaGld9NwA52Trf+R/ZQANYteX3LUcAqYBWwg7wN1QJKAetuysgXRn39VsC6Ayi3Jl25XuV4tptWX0YdrG0awYYeUFxL20BoBBt6/WsE604DoYAdJArE0RWwoXdwBez10bkNUhSwClhNEQzSONgIUFMEoYeVpgjcAdT1urV367wawQ4CKY1gQw8nG0XZBkJTBKG/BhrButNAKGAVsCG7E7DgHOpaARt6sNpro4BVwIYMDJqDvT6OroC9PnoHsgpYBawCdpDo2wJKc7ChBxW6136w7kDKrXzo9ShHUwSDQIrWXCPY0AMKvdsGQnOwode/RrDuNA4KWAVsyO4EbH5vqGsFbOjBaq+NAtbjgGW2KC6iFxbfCNZLsl87F0GXgakXdG5lRH5nBGu33+hrbITJvLflF8nWbYVS19DSOxH5jS478iG/zgcbOGRDGsHW1tVJYdF2aWpuM1OqMa2aFxZmu8rOyRMmNeZtBLxE0QtyIyd5QCbBjlufKDvbdpmZ+r0gOzJa+VeuihIW6uIl3TPBd0bWVtmSkSVlFdVm1jQv6Z6XQkYuWSpdXV1yPfKXN8M5QwbYCxcuSF1dnWzZskWKikvNDP7VtQ2eWPOOLGbuf/yJJ2V7SYXU1DZ5Qm7mCSVyYnLpZctXyY7yauE1KV7Ru5V/wcJwYaEuV+c+vfHtBhupqq6XxMSNsmHDesnIzPKQ3huMjfPC0MWRy6Sr+7AC1s+XKIYMsB999JG89NJLUllZKTvKyqSiotI7S2WVlJSWSl5+vpSXV3hH7opKqUT2klLZvr3Ec7JjI8hfVFRsFr57ym4qKqW4GNmLzDXwmuxV1TXS0rJTLl68qIC90QH75ZdfygcffCBnz56VU6dOeW45c+aMnDt3Tk6fPu052dG5V/WOrXhdfi/aOzJj85cuXZLPPvtMAXujA/ZmyKdoHQJP+qsOVYcjyQZCliIYSUrVuipE1AbUBrCB/j7fUwNRA1EbUBtQGwjMBhSwfuZW1PACMzzVn+pvJNiAAlYBqw8w1AbUBoJkAwrYICl2JLTO//vvf8vXX3whX//rc/n688/N+t9ffSVsHxH1V9vR6zyIDShgB1GQgqL/W9l/XbkiL26IkyPTxkv303+XYzMmyIXWnfLp5cvqeGpXagP6kKt/eChYB9fNZ5cvy5F5c6TzD7dJ60/+j+z6w6/kbEmxfHLhgjqXAlZtQAE7OEQUtP3r6PN335Wj4WHS+affKGAVqArUPmxAUwR9KEWh2j9UnbpRwA5NT06d6feRpTMFrALW78hDATuyYKGNw/CvtwJWAauAVRvw2wYUugNDVwGrzuW3c2kEO7BzKXxUPwpYBawCVm3AbxvQRmTgRkQBq87lt3NpBDuwcyl8VD8KWAWsAlZtwG8b0EZk4EZEAavO5bdzaQQ7sHMpfFQ/ClgFrAJWbcBvG9BGZOBGRAGrzuW3c2kEO7BzKXxUPwpYBawCVm3AbxvQRmTgRkQBq87lt3NpBDuwcyl8VD8KWAWsAlZtwG8b0EZk4EZEAavO5bdzaQQ7sHMpfFQ/ClgFrAJWbcBvG9BGZOBGRAGrzuW3c2kEO7BzKXxUPwpYBawCVm3AbxvQRmTgRkQBq87lt3NpBDuwcyl8VD8KWAWsAlZtwG8b0EZk4EZEAavO5bdzaQQ7sHMpfFQ/ClgFrAJWbcBvG9BGZOBGRAGrzuW3c2kEO7Bz+Quff/3rX/LZZ5/Jl19+Kf/+97/N9eH3e++9J1999ZXf18tfefQ4/6+zAlYB67fDKmCH5niXLr0lLEMF1cmTz0tPz8lrYHrp7bflUFe3vPvee/LFF18MWtYHH3wgL774onR0dsrO1jbZu3efvPTSSwK8keOTTz6Rc+fOSUdHhzQ2NUpbW5scO3ZMPvroI/n666/N8uGHH8qevXulrb3dLO0dHXLs+HF5//33DeyPHDki7e0dpnzOsbO1VVpaWuTUqVNy+fJlOX/+vOzl+LY22bV7t/T09Minn37a22hwno8//liOHz9ujkUWu+zdu0dOnDgh1AM5//GPf1xT5wsXLsjuPXtMeTREr7/+ujl3e3u7KcOcc9cuIyv/D1X3bu+ngFXA+m18bgMWh/v8888NQIjYcHZ+sx3Dt//jMCz//Oen8uGH1+4zHAehPECDk//zn/8057URI+XwHZjZfZDF93+2AS0iS/6jHLbZ3xzf2dkh7R3tJiqlXnZ/X1k5nv+Ki0ukpHTHNdfl3LnzUl5ZLUePHpUrV96/5j/fcjjn888/LympKbJk6TIJX7RYoqNjpLS01OgUGYDttm3bZFFEhDw3Z44sWrRINm3aJHv27DFwpA5nzpyR2c/NkXnz5ktk5BKJWLzE7NPV1WXkSE/fIkuXLpfp02fKlCnTZO68+TJ/wQKpra2VAwcOyLa8PFmzZo0sjlwiK1etluzsbANmez3R0dtvvy3ZOTmyMCxMwsLCZMqUKWa9dm2M5OZuldOnT0tFRYU0NjZeU+fW1lYZP2GCOR6dNzQ0yJNPPSURERGybNkyiVi8WFatXm3qQH19dRSq3wpYBazfxucmYHE6HOWVV14x0QrRV3Nzs7z88su9URWg4zfR0dtvX5ZD3ceksbHJREzDdSLOB8D37dtnIqzDhw/LW2+9ZcBtnQ+Is23//v3S2dlpZLMRIPvw/dVXX5WzZ8+aSAkZiOqQkSjPHp+ZmS2paZsN9E6ePCmvvfaaiczseewaMBL1EQUePHjwmutC5Hf27DnJzsmWl1568Zr/7PF2/eabb0pJSYnMmz9fzp47Z6D22muvm4gWmdFtYmKCPPbYoyZqfeedd8x5a2pq5Je//KVs377dNDrsN2nyJKmvr5d3333X6LmsbIckJSVJdXW12YcIMzc3VzZu3CiHDh0SIstLly5JYVGxPPTwI0Y/7PPGG2/ICy+8YBofKydrIGui1PPnTeQ5b948AZ5s45zoNjMz09THeVxRUZH87Gc/M5ErkXZVVZVMnDjRABXdYyOkVNCps1F0lhGK7wpYBeyAzjqQEboJWJzAOmtJyQ7Zs3e/cUic7dSpV00UCYABYUFBgewoK5eXX37VQI/bQYDkvP0cSG7+w3GJjIAIkRq3sLm5efL22+8YMBLVcqtLRMctLHAAnh2du+XiW1dv9wEo4CBiy8vLMyDitpZbbW5rgQfOXlBYKLm52wzEKPPixYsGTr4yfvzxRwLAqA8Qdv5PgwC4lixd8h34OvfjO5DLyso2gDt+4oQAIHRjb/83bNgggGzXrl3mP8q2EevChQtNZItekHXa9OmmcWEfynjttfOyfNkyWb8+rle+HTt2SEZGhrkWlIPusrKz5ac//ZnsP3DAXFcaH3t+X3nttUdvnJ8GjW2UhR5TUlIkJyfH2AA2QvlEwz/4wQ96G6uy8nJ5+pmxvb/RO/sit+/5QvlbAauA9dsA3QQsRo9DpKamSll5pbz40svm98GDBwywgBIOB8CysrLM7S5OBHQBYHt7m1mzz1AcCGBu3rxZuru7DRgAAdAmagKM5Py47eR/otgrV66YaKyktExeeeVVA2GcF2gA/ISEBCH/h5zAkWOABGAhMiTCon5EVRzjjIStvO9fuSJxcXEG9kDEbrdrorIFC8Nk9+49A0ZlnIeGKWJxpNFTZWWViYqJfDkvt+Estly75pzIWVhYZM5BwzNp0mSpq6sz9TfR/IGDsmz5cnOd7HHl5eUGeNzOEzFyDnKps2bNMtEw529oaDTXsb/rw7nJ0VrAUjZlAdhVq1bJovBw0/BQzs6dOyUyMrIXsFevQaH8/g9/EEDb3NzSexcw3DsbWye31gpYBex3HG2oxuU2YHGymppqE10iA6ADKkQ25Aytw3ErSoTllPP5F543t5LAxbm9v+/cRjc1NZroEzACbuAIHADj88+fFHKMzvJIUTQ1NRlZALstu7KyUljsb981t/wsvtt9fwPfFStWy4GDh/oEKP8vXbrCPLAievY93vkb6NCIbNmyRWbOnCmTp0wxt/GX371sfs+YMaO3rvY46kRapqi4xETqRLCjR4+RjMxMOXLkqKnD/AVhsnFTihzqOtx7fl/AUh5g48FTfn6+zJkzR8aNG2/ysei9L9kHAuz8efPkkUf+ZvLIK1etkaioaBkzZkwvYJGbCPc//vM/TQ529ZooWRu7TvLytpkI3dbveqwVsArYXkcZrgFeL8DyZJpoxykvUWVhUYmJDp3b+/uOk+OYAJRbb6BdXFxsIk9A3hdg2Z/IDLhz223LBkos9rfvurGxQVh8t/v+JkomgiUv3FfkRXTNQ5zdu3f3CSlneUTXNBbIyXFEkWOffdbobW1srIkKyXezjz2OxgwYks7gP5a777lPwhZFSkZmtqxdu1Yef/wJ88DJGYn2BVgaKXQMOGkYyGGvXr3apFGIhO057XogwJIi4K6Fa3XlygdmnZ6e3gvY3hzspEnmoZjdh5SLpggUcN8xNmt0N/rabcDiKEQdRF44Bg5KFEQelAiT39y68zS8sLBQeGDELSTAwYHPnX/NRLnoDUARgXHLya2+MxIFlD0nT5pUBOcEMnSN2pZXIOfPv2aOJUdbVlZmcr6kIq4+ZDprcq2cFwjbFICNYCmXBTmd1661rV2aW3aacjkG4AEZokwnAPgN5Kkv0HeWwXeO42k/DQzl+P5vf5ODJSonD8oTfxojHkzdeeefzAM47giSk5Nl7NhnpbqmVrq6D0t9fYOJEBcsmG8aEaBIQ0IEuy0vX15+5RWTG12wYIF54OTsNsUDNSJlHu6hS+qBjOvXbzC9CTg/QHz44YdN3ZzXwsoMYLnGs2fPNvuwHR2TpkBWctx2X9ZExs4c7NbcXLn99ttNdy96WpDaIXVEo+FsRJxlhOK7RrAK+GsMdzhG5yZgAQ0gA544Bg6HYxBFAU8LWIDLQyWiJhwJ5wUmx48fu6YeABZAPPHEE6ZMp1MDy2PHjktOTq55sv/qqVNy+PBRaW3rkEuX3jbnRRbOSTR54kSPvPDCi+YhFykCHmwBOORDHp6oswBlFgDj1OPLr7wqBw91mYaD7wCafKUvYIkK+Y8uSQDCWcann34mp8+cNQ98fKN35358J9VBn1SgSv4XmXkotHLlSqHHAOfhAdfcuXMld1ueiW4BVEzMWtOoAE/qRi6Z3DLXg3K5JpRHg0XKxp6XqJ5rgi6AIvsBWCJethPdE4EuXbrUlNkX8Lhe6C4lNdXogLJpqEgp0ID5plh4EDh58mTTTYvUDed5+umnjV0gH785hjpwva2soV4rYBWwfhufm4DFMYmaeFJPH076R+KIdINiG5EM+wAmIiUgADSJYIlCfR0HYPM/TsY+5HOd+wA34M2tOw+32jt2majRuR/nw0HpRF9bW3/NQxrKByRAnh4MzgWIOc/F93/8AxBXyfbSMpNDBRy++9jfNB4szij1rUtvS+fufSYi7Kt8e6xdE0nT5YsGgoVonvo4ywS0RLPAihQJUbOtP/WjDI6zjRPHUga6d8rPteI3oOM4ZGA/ez3RDdfM+b+V0645DhAis72ebOMYyuYcdl/W6ADZqQMyc0fgvAZ8p8cJjU1f6RZnWcH8roBVwF5juMMxNjcBi/PiKDiDdRq2AVm24bAsAJYoj2gJB2SbdWpf2a2Dsk9f/1E2Dgxs7a29E0AWKJ/885/y8cef9N7i27IoH9kAg3OxkLL7sf7yy6uRHediX980gnNfGhQiWOS28lDfpqZmE+X3Vb7zeL5b3Vi5qKsty+7Lb+Sn7qyRybkP3znOqV+2sZ9TfuTht+9+9noig285VgbnmrJ9rydlUrZvnW3ZVl72sXW1677q5DxfKL4rYBWw34HPUA3PTcAOdk4ciYcW3NoSdTJSiOjE6eiDleGV/0lPEP05gUW0TGriZqyvV66LP3IqYBWwngEs0ebRo0fkwIH9Jj/KwxwFztDmQ/AHDpR4rAIAACAASURBVHpM4LpVwCpgPQFYdfbAnV11GHodKmAVsApYtQG/bUChPTC0FbDqXH47VyhzsOrIAzuy6ufG1I8CVgGrgFUb8NsGFOwDg10Bq87lt3O5GcFe7Wbz2TVPzq3z0nXH2c2Hp+tsozuX7abDvnxnG2U5t/Mf3Xqc3b9s2WynLHsM56GbDw/U7MJv+zDNdg/iqT4LXYHYZsvzXVuZ2Nd20fLdH7nsuVjbcp29CHzLtXKw9q2rc1/+o07U0bndHs852If6URdnWXx3dnVi3/7qa6+J1aMt39bLdgVjP7svcvmejwEVVtdOee139kdfLHYba8qkPM5jz2mvG8ewIJPzf/ajHI51lsV3ZOB4+5+VGT3abfYYzstifzvXClgFbJ+G4TSS/r67CViGqNbVN5pO7b4GzMADOvTTfQknYcgoo5kYUooTWPn4zjYGEAAzu501nejpfE7PAyDBNpyIrk+UxSgitjO0lBmlGLKbk5NtFmaTokzOTYd3ZqpiZFJaWpr53tewVsqnHjgxQ3kzMrNkU1KKKZtz8j9OjwwMBHCeLysr04x+oqsW52Rf34UymFWKta2P7z72/IzEQofO/zmOejCUlOOZhpAZyQCQ3Y/vbOM/wMIAAAYlWPntfqwZjMDoLgaEoHv0zIgqW6/i4iJzLGVQLwYeoGun7OiqrqFJzpw522e9bX3QJ1Ma+p6fkXeMBGR+2vz8AqmprTeDTKgH8nPtmKKS/7m2DLdlxBk6cJaFzhngwggy6sV5bf2Q2w68sMd0Hz4iLPa3c62A7cN4nQrS7991bqsTNwH70ssvGwjZ4ar2HBh7Rka6bNm82cAUKLXs3Hl1CrtFi8woHwshJkthrlNGbwFhWwZr5hpISUk1Q2StgxC9AFdGWOFobE9KTjHj5quqKg2AGOYJCBjRxYgiZt1n2CmgYQgqQ0cZfYQTOs9H2cCGafVSUtOkprZW6urqJS+/QOLj482sYdQF549PSJSIiMXS1tZqFs5JgwKofMvlHES4zB0wbvwESU3dLKdOnb7m3FYO9EKjtG7dOlm+fLkZqmsjLaDOPA2M1AJs/F6xYoWBnz0e8MybN1c6vnkbA/UcN+5Zqays6B1tZfcFetOnTzfDfAEZOuNtCQCvubnJTPLC/BHMI8t/vIYmPHyR0SvwQwbglbhxkxw/fqLPetOAcp7IyMUSF7fumn7Qr7/+DymvqJL0jCwz9Hfnzlapqq6RiMglZvpHri3QZHgwE3ija4bT0khybV516JAGpKioUKZPn2bmZcCWkA9bcc6V8Nlnn8vhI8ekorJK9u7b1+c1UMAqYPs0DOs4A63dBCxGzcTNC8PC5eDBQ0YmHO/c+fMSGxsraampxumAS3p6hkyaPFmYeISBB0REyAkQ5s6bZ+YE9R1aeehQl3nlCRGu3Z/oiQELvJqEqQs5nvlWc3K2GmdiOCaDGXAw4I2Dff/73zdzobIv52DUlXOIqdUXw0kBypNPPin5BUVy/vzrZr9de/YaSEetWWOATUQXvijCnJfzsVAeYCS6BcK2TLtmMpyMjEwZN36iWXbt2t1nxAdgkZPpCu+++24zaQqRJXolKh81apSBLjptaGw0k784o/ELb74p99x9t5SXl5nGjbkdeOPBggULDSStPAxTZUKWW265xUSFXEvmZGWimAMHDpp6codARDtq1IOmUeK6zZkzz0SJyARcN2/eYhovoG/Ltmv0wHXDFpjxa9WqlQaQgI99Xnn1lGRmb5WCou3mOnHduDbPjH3WvLqGEYBE8Y8/8aRUVlUZPbONiWrWRMVI8fbS3nPScEZFRZnrtHLlKjMXBdeCBubxxx+XbdtyjV0gT9z6BNm+vcTA28rqXCtgFbC9huU0jKF8dxOwRGpEfLwGhAmsgQPwycnNk7Kyit7o6ypcMkwUwi0/0ZmdjAQQMtsUkYlvBMvQU97VRKQGvKifBSwzNdmol+kAcTqcj/1wIiInHJlb0FtvvdWkB3j5IFFRfzk8br+ffuZpM+SVejj1yeQ0mZkZUlFRbsAdHRNj5jglmuU8LJTrPMZ+BzSAOys7y0xmw7yu1NdG5XY/1hawQOn++++XRx55xKQegG5jU7OMHv24MNEN5yVqnjRp0jVj/i9evCAPPvhXk9ZAB6++ekoeeeTvcvfd98iG+ITevDiwnj9/voEXujOAbWmRJ558ykTIRM1c3wsXL8iEiRMM4IAqAJwxc6Y0t7QYSP357nvl/Guv9Rm90ijwypxnxo4z9W1qbpbZzz1nGiN0AmBztuYZsANXtqH30tIScz257qQwnpszV3bv2Wt0yz7oOSwsXBZFLDbb0FlMTIxER0eb4dh/+esoqaqq7s3JcqfDHRVzRdAoPPHEk+acTr07vytgFbB9OrLTSPr77iZgOQeOv3jxYgMQJmjBUUY9/IiUlZUbyDHPZ0LiJmPwwJio6J577jF5NRxjIMAym1VERKRJBfgCduvWrebWFpgye/59990nt912m/zxj380a24pAQIQ4/1UyPjoY6Nl9JgnTCToGy1TF95rdesvbjWNBrI5dcitKtF6UtImuXz5HQGSd911l5n9ihTH+vXrjTzOY/gOpIAvs2QxRyopBHKRvLyQBsJ3f85LRExKYk1UlMnZch7SGgB1zONP9EawfQP2ovztb38z+wNY9D19xizTUJG/5G4AnTOd4YqVq0z0CewBLA3Ms+PGmUYAmdEtr+W54w9/lLLyChNFv/XWJWECbe46mOkLnfk2RrZOlFlbWyP5BQUG2pybOxiiahoIAJuVkyvlFRUGjICTvDkTfTMZN99ffPElmTlzlhDxo0tzPRubhQm68/LyjUw0rOTXuT7YW0raFikvrzARKscQ7ROtjx8/XiIWRxjYY6dWTt+1AlYB269x+BqL72+3AWtzbJuSkoxTMBvSrNmzzeuZiWC4dfzLXx40+Upuy3iH1q9//WtJSIg3zj8QYI8ePWaiRHKnQIe6cD4cFedqbW0zEGBKPQAKlAArr7Ah+gVmAAtQkAcsLCoyOeOo6GiTp7PQtjoCNPfdf5+5XeU8djtr+14xIEV55HWfeWasyesCShbfh1JWXiIobtG5va6qqjHv+8LZeXurL8j5DfwBdlJykvlOxM9v3rr6zNixBjwAkCjtwVEPmUbNygrUfvOb35o8KsC6CtgZBoRAGrmZXhBg1tbWmYaOBojjmMLwqaeeMncYmZlZ5qETD57IgwO6b+uzrzfdw3HcitvzO9dct9GjHzNTIKK3xMREmTBhgpmHlsb29Okzkp6RYdIH8QkJkpCQaPKl9q4F2yDFQwND7jc7O0cSEjea1AzXErACXBou8uZMfE40vnr1GqPr3G3beuXiDoSc9rRp08xxNq/tlNd+V8AqYHsNxxrFUNduA5YIgQhmXVyceSUzIODtoeS+iPSYJ/Xvf/+7cQAcZEt6poSHh8vChVcngcaJuN0j+mD2KSIbIg5SAUQwRKpEfzxA4jw4NA7Pg6fjJ3pMNMbxOBYPtezxrIEkxxB9Amh+c/yUqVNNjo+cq1Nvx44fk5WrVhqHBag4LyD7xxtvGDAjB7fIbOfhEg7Leezi67TczhLhsx9gWxsbJ1u3bjPgmjBhvNkGAGmIrBwWsDFrY8zrYoAXetm0Kcno8aGHHjK3zdSFBz1/efAh8zT8vfffN7ogP00UT68KAEvdx40fL61trUJOe9bs58wtPpEp//GEnoYFXQCh0WPGmGh3/YZ489oZ4Eu+1tbNRuS8Fpw6Wbl91+iItNHvf/9789pwHjICwlWrVxl5Ojo6zfkB7NSpU2XZsuWyaFGEjB49WuLi1vfWkekNaZAnT5kq6+LWm4b60UcfNXbFtcHOOJ5Glve12Qb26utuonofOmIbRNJE3lwTX3mdvxWwCtgBDcRpLL7f3QasLT9na67cfc+9Jh/LLSDQIPrYsGG9uc3ldh0ntQu32Lxg7513LktY+CLzAIj5TYl4OZ79cWyAcd+990haWqrJp/Iw4/d/uFPy8vMNPA2gwxdJamqaiWzt8YALaFAW0Oc4tpGTHfvsOBNFUr6VnzUOy9NyHvwARb7TUyK/sFiefuZZc1sKYIiM+T8qas01xzvL4juwJFK74447TERJ3dEL4CXCpjsU3Y+ct9gcQ2MQHR0jCYmJveWzPznTn/zkJwbyQJ1uRosilkhqWrrs2bvPTHLOq7iJAGmQgDD5bx4aMZk3D/1oOGi0aLwAN92agDHfW1p2ytNPjzWNEPX0rQ+/kZ06IN/atbF97sN+XHve9ADwgC0NBQu35g+OelhKSkvlRE+PbMsvNHciXAvk5S6A64MsXA/kJ+pkAnfKRTf0CqBBPn36lHR1dZuIdv/+AyaFYPXLmy14IwPHo3fqR++IJUuWmIaor7rZbQpYBWy/hm2NpL91sADL7RpvCOBV0Nx644gvvfyK5OYVmFdmY+Rsswv5PntrShRFzo0oB+DglDtbO+Tc+dcNFOiew0MtuudQfn1Dg4EnMCLa5VaZY8nD2eN5UMIsXjg3t+8cj8MRRXOrfPbcuWsiR/Rl4QlYcUbOR9RVVFRsHrS9eeGCkZ/IkKfrdGXqT89sRzYeqhDREy3autv/jh47JoVF2w2wbTnIgMw0CNyy2+2URWODPMACfTLfLQ+xdpSVGb3wIAe5aWSAE/vQTY3bc4AK4NhOBAfMWFNXokTSHjRGOVtz5N333jW6sOd2rqkDEKMHR0tL/+80I9IHikSOFnocS8NAbwV6nfB6ct4MDIyBv617dU2NkYtGFvl5QIj+kIM6IaftcseDMMqwKSTOwX7oiAeqpGeoK/WjceHao0tnnXy/K2AVsAMaiK/BOH8HC7AYMd2FeNCFQ3HO99+/YiCLUzhl4DsOQTRD9IYzELkQdbEcPtwtp0+flSvfdBjH+XAqIlxgQNRqzwE0iFR9j8dpeaLO/zgqvzme8vnt7CzvlA0HRV6iXeDDAymeZAM9ux8guHDhTVO+3dbXGhDj2KQlAJvvPn3px54fGZ3drzgWGSw8aVzYhh5o3AAaC9+tbtiH81IXp/xWDnTAdUBGZGUfokK2W1DZfZ3rodQf2akDunSWhUycj/OSa2ZNg8z5OYe9XvyHbfjKb/WDTtEFAEZuW2crJ+VhJ9gGZfr+tvv1tVbAKmC/46x9GUpf24IF2L7Opdv6H/ChurlxdaOAVcAqYNUG/LYBhfvAcFfAqnP57VwawQ7sXAof1Y8CVgHrKmDP7SiVTwboeK3QUeiMJBtQwCpgBwXsFx9/LP+8dEk+fu21b5fXX5f3e3qke9YM6fzDbdL60/+UzjtulVfSN8vlo0fk49df7933o/PnzfFf8fChj7H1I8nhtK4jq4FRwCpgBwXsey+8IGd27JCTGxN7l+eTNsnJ9etk76i/SPttv5C2W/5L2v/nv+XQ5InSExMtLyQn9e7bsz5OTGR76ZJ87TNsVIEzsoAz0q63AlYBOyhgP7l0Sc7mb5Xdd9/+7XLP72T3n2+Xjtt+Lm2/+LG0/fyH0nbrD6Xj9ltl912/kT38/83+ex96QF5J3iRf0cVKI9hB9T3SIHQz11cBq4Ad1OG//PRTebO+Vvb85S5pu/X70vqz/yttt3z/6gJYf/6jb5Yffrv9Fvb7f9L6k/+Qw1PHy5v1dYOe52Z2NK3byIzUFbAK2CGB74MXXpCeNauk47c/M+mAb6Fq4eq7Brw/kLZf/becztysD77UzoZkZzdbQ6SAVcMfkuF/+fnn8v4LL8jee24fGmBv+S8T7e66/2651No6pHPcbM6l9RmZUavzuitgFbBDgt+/v/7a9AQ4uihMdt3122/SA75Rq+P3Lf8lu+74hbyakS70InAanX5X8IwUG1DAKmCHDL8vmW6vqUkOjR19NQ/bm3t1gJVtRK+/+rHsf+Sv8t7x4/LFJ9++SG+kOJbWUxsRbKC/z/fUQNRAfG3g3199JZ++956cXBkpHb/5ubTd8gPHA65vIctDsN1//p30LFsqn3/zvizfsvS32tdIsAEFrEawQ45grUOcLS2V/U+NNj0ETPcsn0gWwB6eNk4uHz8hZnCB6njYOra61rW3GyIFrDr/sJ3/gzNn5KWEdX0A9ocmddDxu1/JC9Gr5V8ffSTkbhUS3oaEXj//r58CVgE7bAD29ot98B5p+yU5V5sq+KGBbveU8fJmnfZ7VTD5D6abRXcKWAXssAGL8V958UU5EbXa0S+Wfq8/lPb/+bGcykiTjy9c8Kvcm8WxtB4KV2ygv48+5FLwDghIJoC53N0le/78m6u9Bky/1/+SPQ89IJfa23RIrNrPgPYzUhogBaw6gl+OQI+CTy68KUfC5kvnn35zzWxaH50751eZI8XptJ4jJ7pVwCpg/YYh/WJfr6uTg08/Jm2/+pHsf/RBeffYUfmij3dGKVRGDlT0Wn97rRWwCli/AdvbL3ZZuOwdda/0rFim/V7Vnvy2p5sRzApYdYiAHII3c57Nz5Pn4zfI24ePyFeffRZQeTejk2mdvo3oRpouFLAK2ICB+MHpM3LlxZfkXx98qP1e1Z4CtqebCcIKWHWIgB3iq8//JSw3k2NoXUZu1OnmtVfAKmAVjGoDagNBsgEFbJAU62YrqGVpNKU24E0bUMAqYDV6URtQGwiSDShgg6RYjTi8GXHoddPr5qYNhAywXzGX6KefyrvvviuXL1/23ILcKvv1uW6q++un9w8//FC++OILjXD9DMRCBtiPPvpITp48KRkZGZKSkiwpKSmeWtLS0iQjI11SU70lN3resmWLWbymcyuvV+XHVrAZbMfWxTvrZCN3Y2OjXLx4UQF7owP20qVL0tbWLltz86RkR4XU1jZ4ZqlraJb0zCwJCwuT8opqqa1v8obsdY1S39AsiRuTZP2GRCmvrJEaD+m99hv518auExbqwjZP2E59k9F1RlaOpG5Ol235hd6Sv65RKqtqJW59vPT09Chgb3TAvvHGG1JXVy/bS8ultX2PdB0+IYe6j3tiOXy0R/IKimXa9JnSsWu/dB/p8YTc6Pjo8eclOWWzxCckSefuA56Q29qFlT967TphoS5esRts5MChI5KbVyRZOXlSVVMvR46d9JT8u/celMWRS+XQoS4FrCcAW18vZeXVsmvPAeMsgMsLy/GeF6WoeIfMnDVH9uw75BnZcegTPS/J5i1ZkpScJnv3dxknZ7sX9G7lj42LFxbq4iXZD3Ydk235xQaytfXNcuzEC57QO7ZBY7b/wGFZtny5dHd3K2AVsMGD9c0CWBoHIisvwBUZbwbA5uYVytZthaKAHZm9E0L2kMukCDSCDSncLKBsBKuADV3jgu6JYBWwIxOstquXAnYIaQqNYEMHJmd0bRsIL6cIFLAK2L4g6/orYzSCDT2kLKA0gr0+utcIdmTDlSi2v48C1hHZagQbekBpDvb66NzeQehDLncaBwWsA6TWuHzXCtjr4+w2AtcUQej1r4BVwIbsgZECNvQOrhHs9dG5DS4UsApYBewg0beNADUHG3pYoXvNwboDKftE3otrTREMAiladI1gQw8ojWCvj841gnW3UVDAKmBDdidgnXeoaxuBaw429LDVFIE7oPU8YHFCjMEuQ3Xe4ewXrAjWV3ZbB7YPR77+9rWACkaKINiyUycrf7ABy3lsfVj3p8/hbKecYKUIrKzWXpxrt+SnTB0qGzhkPQ1Ya0xMALL/4BHZs68rKENBgwVYhq0i8+49B838DMzRsO/AYek6fNw1J3fOReDmSK7uIyfMZCbIvMvITx0OGqi4NRyX64v8wQYs9rPvQLd0dO4zk+EMB6T97YvswQAsumVOic7d+69ddl39zUQ5/ck0nO0K2MDh6ul+sLbVZmaujMxsWbBgoYwbN8HMGMV/wzGmwfZ1G7DGeA8ekbKKWnnmmWflwQdHyb333muW6TNmSUlppSvyW0C5HcEif3VtvURELJYH7r9f/vKXv5pl1KhRkro5Qzp27XNlYhMrfzABS11q65pkYdgiue3Xv5H0zK2u2FAwAEtDQCM2b/5C+dOdd16z3PG7O+SuP98tmdm5rshvbFQnewl4khtPRrBc/IbGVolbnyCRS5bJurgNMnPWc/L7P9xppkLk/8GgOZz/3QYsUQazLE2dPkvWRK2VhMQk2bgp2czZunpNjKxaHSU5W/MChpQFlJuAZUao4pIy2bAhXmJiYmRDfKJsSkoxC9dh3vwFkp2zzYAg0Otg5Q8mYDnHurh4eWbsszJh4kRJSUuX1vbdAc+Y5jZgKY/odWfbbglfFClTpk6T+ISNvQu+EJ+YJA1NrXLg0NGAZx1TwI7gCJaLX1vXLKujYmTJ0uWSvTVPli5fJbf9+rfGAAN1bF/4uglYHKWppc3AdNyEyVLfsNM4DufAgaprG2T+goWybPmKgNMdnMvtFAGAzS8slpSUNCkrq5DuwydMLwvk37e/W5YuWyFR0bGyvbTCbPfV5XB+W/mDAVjK7uo+LlXV9bJo8RKZM2euJCenyJaMLGlp3XVDAhbdNbV0SHTMOtm4KUV6Tr7cq3v0z4LtU7fh6LmvfRWwIxiwGAQGgIHZJSk5Ve743e9ciT58DQ7DdWs+WOTOyy+UlJRUKauoMflW6xAWKKvXRMniJUulvXOfmaDZV56h/rbluRnBcm4ga53ZymLr0NDUJstXrJZ16xMCnr/Vyh8MwHIdyH8vDIuQuA2Jkp6ZLUnJyZ4A7JqoGElI2BSwfu2162utgB3hgMUocEAWnN0rgEVuHlIwWzwPQZzGbYGSsDFZVketFWBFVMt2535D/W7LcxuwlOuUCWfkGiBrYXGZrFy1xkS4gU6QbeUPBmBJ09Q37pQnnnxatmRkS01tvSQkJMjm9Bs/go1ZGycbk1J6AYv+baPnvC5DtZO+9lPAKmB7oeM1wFqDdjoD31lw/LDwCFm4MNxEWHZff9aU53aKwCkHQOW1KPQkaGxqlYLCYpkzb4HEbUgwwMJJnfsP97uV323AIldldZ1ELl0ua6Jjpa6hRRqbdkp8fLxsTs+84VMECxaGycSJk837slasXGPuGMjB5hVsdyX/ynVSwCpge53Xq4C1wAEkfKcbVUrKZpk1+zmJjom9IR9yWZlZ01WLB0L5hSUSs3adTJs2XR5/4knJytnmSnenYACWMunSl7YlU556eqzJefN0vqGxxROAbevYK+GLImTs2LESsXiJzF8YJnPnLzSNMqmD/MLt0rlr/zV3GM5rNtTvClgF7E0FWPq/FhaVyv/8z22yNna9iUTcigDdThHgpIAKMPFQjijqwQcfkp///FZZvDjSvE31yLHARx8FA7DcSldW1ZmeA3Qzo/8rDTRvrI1PIILNkp1tN95DrqsNWo9JK5HDz92W3ys78je3tElCQqKMffZZyS8oDrhxVsAqYG8KwGLI5GKTUjbLfQ88aLra8KTYTUAFA7A2EkJ2Or3TPYg3Bq9YuVri1m+QHWWVBlxA0u473HWwABsWtkiee26OtHXsMSDiQSk9O5KSkiU9I8d09QPEw5XXuT+yB2ugAY3C3v3dpoHjPCwMTmlo2iljxz4raZszzIAVpzzD/a6AVcD2OoAXUwQ4BUa/e+8h05d0ztz5smzFamne2dnrOMN1Ct/9OUcwc7Ccj3PgjACJiLa8slbCwxdJdMzaGwqwyEnOuHlnh4wfP0HGjHlcsrK3SVb2VtNvd/2GBJk1e7ZwHbbmFpjrYq+Rr16H8ptjgwFYq3Nf2bgGpJhmzZ4jKWkM9ggsTaCAVcB6FrDW2cmnJWxMkWnTZ8iyZSuMU1gHGooTD7YP5wkGYCnX18Gt3JyPHPLMWbMNeAeTcaD/rfxuPOSiLJvSIHfJiLmo6HWyZk206VcaFr5YnnjySXnqqadMjxSiWyAzkHwD/cf5ggHYvvSOHMhKVMuItNTNmYJtBRKFK2AVsL3G77UIFsMncmVY5q2/+IXQ7YbRN2zvz4EGcub+/qOsUAOWa8HDrilTpvVen/7kG2y7ld8NwHIuIli6yDW1tEtVTYPph0xfZL5nZm8zI6SWLFkqO8qrAn5Ih+zBAOzhfl67DhDp+kfDkZKaHvBwWQXsCAcsBgyQcGhyaM5+sECF7RjJYE48lP8py82BBp27D0hScpp5ik0fzPbOvUZe5GYBBDhnoBN3WEC5lYNFLvJ/DICgkz564RqgZ7tmFNTM2XOEPCf/I8NQdNzXPlZ+twDLOYhi0Sv6pVFjIX9ZW9co8fEJkpySJs0tHQHbDrK7CVh0z6RAWVk50rKzo9e+0T165n8ainvuvV+SU7YYnQeiewXsCAYshoODV9XUSe62Atmamy+zZ8+VH/7gB5KUlGJ+5+UVSnlFtRzqPhaQk+OUbgIW2Zl/YPSYx+XZceONQ2dvzZet2wp7FyJa5idgoAFA8NdROM7NCBYn3n/wsGxISJLFkcslbXOm6U/a2NxuJkzJzsmVadNnSsTipZJXUOwKpJDfTcByPdGLXbCP6po6iY9PlOkzZpqGoWh7mQGvv3q353ATsJR5tRtfqkRFxxi7YZIacvY0DgydHTd+ooQtipSqmnrT4HGMv4sCdgQDlotPjoz+lvQXpf/f1Gkz5M4775LlyxkLHyNrY9fJlvQM0+cxEEfBQN0ELOXNmbtA/v7oY7J6dZTp6M7YfecyZep006+xprbxhgIsshP90Tl/0uRpBqQ0BFvSsyQlbbOsWr1aHn1stPkNXPx1bnsc1y0YgLXl02AArazsXFkUESkTJk6W2XPmmrktmLUKO7P7DneN7G4ClvJoDEpKy2Tx4iWmIdi8JdN0K2PYNbPJPfy3R6Smtikgm7H1VMCOcMCS0K+ubTR5tB3l1dLXUlldb4zcGo2/a7cB29jc1qe8zjowjBMHBQL+ym0B5VaKwMqBPui3i7xRUdGybNkyiV0XZ2YIQ2abLrD7+7u28rsdwVp50C05WSK+4pLy3mtCTwMidbufP2u3AYsMVh/omKg7XPkxrAAABD1JREFUMXGjzF8QZnpsFG8vNfYCGNnPH5mdxyhgRzBgMQScA0O7mkc7YoZsMmzz2uVoQICyBuc2YIlErpXTV+4jAcMV2a1Dug1YykX/6J65X9s795jRQzR6bHfDwZ3yBwuwnIMUDPUAqPaacH0YpWavvz9rdIB95uZdTf3U1jcHfNtudYKOGY1G/2MGRZDDZyYztvsja1/HKGBHOGAx4KEsfRnPcLe5DdihyM0+w5XTd3/KcDMH6yyfsnFColUbsbohs+85gpkisOdCbt/F/ufvmvKCAVgrD+Vb/bPmt/3PjbUCdoQD1g0jGmoZbgN2qOcNdD+cLliADVS2oRxv5Q9mBDsUOfzZB9mDCVh/ZBrOMQpYBayrLfZAxqeAde/WcyA9+/6ngL0+euc6KGAVsArYQbrhWEC5nYP1BWGwflv5NYINPWgVsApYBawCNmQ2MNxGRFME7gCKN7N6efHkSw+Ha+yB7q8pgtBHUFwzjWCvj97RvUaw7oBdATtIFIixKWCvj6MrYK+P3hWw7sCVyLu/z/fcDsvfeOMNqauvl7LyavOKEVpILqQXFgXs9blOCtjro3cFrAI2pGBWwF4fR1fAXh+9K2AVsArYIUT/FlDaiyD0oEL32g/WPVC5fUcdqvI0RTAEUGkEG3pAEUXZBkK7aYVe//qQy53GQQGrgA3p3cBwcu4K2NCD1V4fBexNAFgcyAuLbwTL2HsvyI2TXDtUtsvA1AuyI6OV3xnBss0L8mMjTO2Ym1dk5vm1k714Sf79Bw7LsuXLpbu729N9UUOVDujrPKGNYOvqzZtHW9t3G+PDAL2w0Krn5RebyaQ7OveZWYu8ILedrDslZYuZwJtZl8gLekF2ZLTyR8esM+/NAqxs84L8yMmUjtk5eWa+2crqOk/IbXWL/MzWtWTpMunqUsD2Bc+hbAspYGtra81kxrwHidn6vbLsbNstKalb5OmnnzGv5WAWeS/IzpsGePldzNp1smLlKimrqBXmmfWC7Mho5Y9YHCks1IVtXpG/urZBEhISJTExUXJz8zwjt9UvbwjmJYoHDx7SCNbPEWUhA+yVK1fk2LFjUlJSIsXbS2THjjLPLGXl5ZKXny8pKSlSUrpDysrKvSF7WZmUl1fI1q25kp2dLdu3l0iph/S+4xv5MzOzhIW6sM0rtlNSUio5OTmydWuOFBQUeEZuq9/SHTukuHi7nD17TgF7owP2888/l3feeUd6enoMaIGtl5YTJ44b2Y8f95bc6Lin54RZvKRvp6xel99ZFy99x+ZPnTolH374oQL2RgfsUPIVuo87Ty5Vj6pHtYEbwwZCliLQC35jXHC9Dnod1AZCZwMKWD9DfzXS0Bmp6lp17VUbUMAqYDW/pjagNhAkG1DABkmxXm1xVW6NFtUG3LMBBawCVqMXtQG1gSDZgAI2SIrVKMC9KEB1qbr0qg30B9j/D7Ty7ylScYouAAAAAElFTkSuQmCC)"
      ]
    },
    {
      "cell_type": "code",
      "metadata": {
        "colab": {
          "base_uri": "https://localhost:8080/"
        },
        "id": "wFCAkl2PuPtm",
        "outputId": "a8302232-08e9-4f34-97e2-af54c22febcf"
      },
      "source": [
        "arr = np.array([6,2,5,4,1,3])\n",
        "print(arr)\n",
        "print(np.sort(arr))"
      ],
      "execution_count": null,
      "outputs": [
        {
          "output_type": "stream",
          "name": "stdout",
          "text": [
            "[6 2 5 4 1 3]\n",
            "[1 2 3 4 5 6]\n"
          ]
        }
      ]
    },
    {
      "cell_type": "code",
      "metadata": {
        "colab": {
          "base_uri": "https://localhost:8080/"
        },
        "id": "x3fUP7QPuaOV",
        "outputId": "192ee4d2-ed10-472e-d486-51a391f0ca59"
      },
      "source": [
        "arr = np.array([[3, 2, 4], \n",
        "                [5, 0, 1]])\n",
        "print(arr)\n",
        "print()\n",
        "print(np.sort(arr))"
      ],
      "execution_count": null,
      "outputs": [
        {
          "output_type": "stream",
          "name": "stdout",
          "text": [
            "[[3 2 4]\n",
            " [5 0 1]]\n",
            "\n",
            "[[2 3 4]\n",
            " [0 1 5]]\n"
          ]
        }
      ]
    },
    {
      "cell_type": "code",
      "metadata": {
        "colab": {
          "base_uri": "https://localhost:8080/"
        },
        "id": "Al53Q1g_vDLQ",
        "outputId": "5a2327c5-95f0-4829-893b-14bfa842e148"
      },
      "source": [
        "print(np.sort(arr, axis = 0))"
      ],
      "execution_count": null,
      "outputs": [
        {
          "output_type": "stream",
          "name": "stdout",
          "text": [
            "[[3 0 1]\n",
            " [5 2 4]]\n"
          ]
        }
      ]
    },
    {
      "cell_type": "code",
      "metadata": {
        "colab": {
          "base_uri": "https://localhost:8080/"
        },
        "id": "d8CTyop8vTlq",
        "outputId": "366e418e-41c3-4dd4-b0fa-13c10ab73294"
      },
      "source": [
        "print(np.sort(arr, axis = None))"
      ],
      "execution_count": null,
      "outputs": [
        {
          "output_type": "stream",
          "name": "stdout",
          "text": [
            "[0 1 2 3 4 5]\n"
          ]
        }
      ]
    },
    {
      "cell_type": "code",
      "metadata": {
        "colab": {
          "base_uri": "https://localhost:8080/"
        },
        "id": "UYwOz5jcSMey",
        "outputId": "7ee1b36a-b9d3-4198-d784-e13741018794"
      },
      "source": [
        "# Descending Sort\n",
        "arr = np.array([6,2,5,4,1,3])\n",
        "np.sort(arr)[::-1]"
      ],
      "execution_count": null,
      "outputs": [
        {
          "output_type": "execute_result",
          "data": {
            "text/plain": [
              "array([6, 5, 4, 3, 2, 1])"
            ]
          },
          "metadata": {},
          "execution_count": 80
        }
      ]
    },
    {
      "cell_type": "code",
      "metadata": {
        "colab": {
          "base_uri": "https://localhost:8080/"
        },
        "id": "9UcWaQw56V1A",
        "outputId": "5c90ae32-54d7-42da-9fca-2d47a9ad2708"
      },
      "source": [
        "arr = np.array([[3, 2, 4], \n",
        "                [5, 0, 1]])\n",
        "print(arr)\n",
        "print()\n",
        "print(np.sort(arr)[::-1])"
      ],
      "execution_count": null,
      "outputs": [
        {
          "output_type": "stream",
          "name": "stdout",
          "text": [
            "[[3 2 4]\n",
            " [5 0 1]]\n",
            "\n",
            "[[0 1 5]\n",
            " [2 3 4]]\n"
          ]
        }
      ]
    },
    {
      "cell_type": "code",
      "metadata": {
        "colab": {
          "base_uri": "https://localhost:8080/"
        },
        "id": "9w-VkR-W6750",
        "outputId": "cd385808-f6c5-4260-f54e-6919e3bc6407"
      },
      "source": [
        "arr = np.array([[3, 2, 4], \n",
        "                [5, 0, 1]])\n",
        "print(arr)\n",
        "print()\n",
        "print(np.sort(arr)[::-1, ::-1])"
      ],
      "execution_count": null,
      "outputs": [
        {
          "output_type": "stream",
          "name": "stdout",
          "text": [
            "[[3 2 4]\n",
            " [5 0 1]]\n",
            "\n",
            "[[5 1 0]\n",
            " [4 3 2]]\n"
          ]
        }
      ]
    },
    {
      "cell_type": "markdown",
      "metadata": {
        "id": "Yt-Fw7DDvWwZ"
      },
      "source": [
        "#Array Search and Filter"
      ]
    },
    {
      "cell_type": "markdown",
      "metadata": {
        "id": "a-UD-GAmzvK6"
      },
      "source": [
        "Search"
      ]
    },
    {
      "cell_type": "markdown",
      "metadata": {
        "id": "_nSe1tmi0XAw"
      },
      "source": [
        "![image.png](data:image/png;base64,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)"
      ]
    },
    {
      "cell_type": "code",
      "metadata": {
        "colab": {
          "base_uri": "https://localhost:8080/"
        },
        "id": "1OQbwRJGvVw1",
        "outputId": "981624db-51b2-4757-f6e9-59b25f375a23"
      },
      "source": [
        "arr = np.arange(1, 21, 3)\n",
        "arr"
      ],
      "execution_count": null,
      "outputs": [
        {
          "output_type": "execute_result",
          "data": {
            "text/plain": [
              "array([ 1,  4,  7, 10, 13, 16, 19])"
            ]
          },
          "metadata": {},
          "execution_count": 83
        }
      ]
    },
    {
      "cell_type": "code",
      "metadata": {
        "colab": {
          "base_uri": "https://localhost:8080/"
        },
        "id": "xWhumV3i7VDO",
        "outputId": "32fc83e1-6883-40f7-c72f-e6cae62b39d3"
      },
      "source": [
        "# mencari angka 7 ada di index keberapa\n",
        "abc = np.where(arr == 7)\n",
        "abc"
      ],
      "execution_count": null,
      "outputs": [
        {
          "output_type": "execute_result",
          "data": {
            "text/plain": [
              "(array([2]),)"
            ]
          },
          "metadata": {},
          "execution_count": 86
        }
      ]
    },
    {
      "cell_type": "code",
      "metadata": {
        "colab": {
          "base_uri": "https://localhost:8080/"
        },
        "id": "_2Equawhzfre",
        "outputId": "1bf5e09a-c481-4f23-bee5-53ff562279c2"
      },
      "source": [
        "# np.where without using output\n",
        "\n",
        "# Search\n",
        "search = np.where(arr < 10)\n",
        "print(search)"
      ],
      "execution_count": null,
      "outputs": [
        {
          "output_type": "stream",
          "name": "stdout",
          "text": [
            "(array([0, 1, 2]),)\n"
          ]
        }
      ]
    },
    {
      "cell_type": "code",
      "metadata": {
        "colab": {
          "base_uri": "https://localhost:8080/"
        },
        "id": "thp3R_Zo8LiH",
        "outputId": "01da3dd6-40df-435b-d5be-c08e1b6415dc"
      },
      "source": [
        "# Filter\n",
        "# memanggil angka-angka yang sesuai index yang kita cari sebelumnya\n",
        "filter = arr[ search[0] ]\n",
        "print(filter)"
      ],
      "execution_count": null,
      "outputs": [
        {
          "output_type": "stream",
          "name": "stdout",
          "text": [
            "[1 4 7]\n"
          ]
        }
      ]
    },
    {
      "cell_type": "code",
      "metadata": {
        "colab": {
          "base_uri": "https://localhost:8080/"
        },
        "id": "Hta3on6n8cpq",
        "outputId": "df581f22-5cfe-4e79-b0cf-ea7cfcba76e4"
      },
      "source": [
        "search_x = arr[ np.where(arr < 10)[0]   ]\n",
        "print(search_x)"
      ],
      "execution_count": null,
      "outputs": [
        {
          "output_type": "stream",
          "name": "stdout",
          "text": [
            "[1 4 7]\n"
          ]
        }
      ]
    },
    {
      "cell_type": "code",
      "metadata": {
        "colab": {
          "base_uri": "https://localhost:8080/"
        },
        "id": "Z-FAwNfK0fNF",
        "outputId": "dcb05996-b1e5-4b88-c495-e3c26ad39ad8"
      },
      "source": [
        "# np.where(conditions, output-if-true, output-if-false)\n",
        "search = np.where(arr < 10, 'kurang dari 10', '10 atau lebih')\n",
        "print(search)"
      ],
      "execution_count": null,
      "outputs": [
        {
          "output_type": "stream",
          "name": "stdout",
          "text": [
            "['kurang dari 10' 'kurang dari 10' 'kurang dari 10' '10 atau lebih'\n",
            " '10 atau lebih' '10 atau lebih' '10 atau lebih']\n"
          ]
        }
      ]
    },
    {
      "cell_type": "code",
      "metadata": {
        "colab": {
          "base_uri": "https://localhost:8080/"
        },
        "id": "wdlHtsFwzmcq",
        "outputId": "1395279e-f1fa-4435-f33e-566222c842c7"
      },
      "source": [
        "# without np.where\n",
        "search = arr < 10\n",
        "print(search)\n",
        "\n",
        "# Filter\n",
        "filter = arr[search]\n",
        "print(filter)"
      ],
      "execution_count": null,
      "outputs": [
        {
          "output_type": "stream",
          "name": "stdout",
          "text": [
            "[ True  True  True False False False False]\n",
            "[1 4 7]\n"
          ]
        }
      ]
    },
    {
      "cell_type": "markdown",
      "metadata": {
        "id": "2ti6VleR1VS_"
      },
      "source": [
        "# Numpy Random"
      ]
    },
    {
      "cell_type": "markdown",
      "metadata": {
        "id": "VEBEPExo1m0_"
      },
      "source": [
        "Random"
      ]
    },
    {
      "cell_type": "code",
      "metadata": {
        "colab": {
          "base_uri": "https://localhost:8080/"
        },
        "id": "vcKUb6-L1qrt",
        "outputId": "8c584efa-9bea-49fc-e7df-57d7dfcac050"
      },
      "source": [
        "# Integer\n",
        "print(np.random.randint(0,13)) # 0 - 99"
      ],
      "execution_count": null,
      "outputs": [
        {
          "output_type": "stream",
          "name": "stdout",
          "text": [
            "4\n"
          ]
        }
      ]
    },
    {
      "cell_type": "code",
      "metadata": {
        "colab": {
          "base_uri": "https://localhost:8080/"
        },
        "id": "z3Z4FXWMUbz3",
        "outputId": "982f4e25-15a3-4f77-d944-639b4778c759"
      },
      "source": [
        "print(np.random.randint(10, size = 5)) # 0 - 9"
      ],
      "execution_count": null,
      "outputs": [
        {
          "output_type": "stream",
          "name": "stdout",
          "text": [
            "[5 8 0 4 2]\n"
          ]
        }
      ]
    },
    {
      "cell_type": "code",
      "metadata": {
        "colab": {
          "base_uri": "https://localhost:8080/"
        },
        "id": "DvLEiotm1sKm",
        "outputId": "d4de1275-1f67-47f3-9e15-a3c4bba9c8bf"
      },
      "source": [
        "# Float [0,1]\n",
        "print(np.random.rand()) # Generate 1 random float\n",
        "print()\n",
        "print(np.random.rand(10)) # Generate 10 random float"
      ],
      "execution_count": null,
      "outputs": [
        {
          "output_type": "stream",
          "name": "stdout",
          "text": [
            "0.8898668892121753\n",
            "\n",
            "[0.59869421 0.07277606 0.89468101 0.23370172 0.03473499 0.75444141\n",
            " 0.35863575 0.29852507 0.94770757 0.99273633]\n"
          ]
        }
      ]
    },
    {
      "cell_type": "code",
      "metadata": {
        "colab": {
          "base_uri": "https://localhost:8080/"
        },
        "id": "qhhL4jDDzPdy",
        "outputId": "2d02aced-e470-487a-f7f0-f1b1a0a9b8ff"
      },
      "source": [
        "# Pembulatan ke n angka dibelakang koma\n",
        "np.round(np.random.rand(10), 3)"
      ],
      "execution_count": null,
      "outputs": [
        {
          "output_type": "execute_result",
          "data": {
            "text/plain": [
              "array([0.83 , 0.989, 0.393, 0.235, 0.766, 0.305, 0.498, 0.106, 0.718,\n",
              "       0.573])"
            ]
          },
          "metadata": {},
          "execution_count": 88
        }
      ]
    },
    {
      "cell_type": "code",
      "metadata": {
        "colab": {
          "base_uri": "https://localhost:8080/"
        },
        "id": "F-KqD1cg3cUD",
        "outputId": "2943e760-29b3-42a3-8e53-69aec81235fa"
      },
      "source": [
        "# Random Choice\n",
        "arr = np.array([1,3,5,7])\n",
        "print(arr)\n",
        "print(np.random.choice(arr, size = 10))"
      ],
      "execution_count": null,
      "outputs": [
        {
          "output_type": "stream",
          "name": "stdout",
          "text": [
            "[1 3 5 7]\n",
            "[1 3 5 3 7 1 3 5 5 3]\n"
          ]
        }
      ]
    },
    {
      "cell_type": "code",
      "metadata": {
        "colab": {
          "base_uri": "https://localhost:8080/"
        },
        "id": "s6be3B8S3t50",
        "outputId": "f7c293d2-fd75-4102-c113-5fa2eabddf85"
      },
      "source": [
        "# Random Choice with probability\n",
        "arr = np.array([1, 3, 5, 7])\n",
        "prob = np.array([0, 0.2, 0.5, 0.3]) # Harus bernilai 1 jika ditambahkan\n",
        "print(arr)\n",
        "print(np.random.choice(arr, p = prob, size = 10))"
      ],
      "execution_count": null,
      "outputs": [
        {
          "output_type": "stream",
          "name": "stdout",
          "text": [
            "[1 3 5 7]\n",
            "[7 5 5 5 5 3 3 3 5 3]\n"
          ]
        }
      ]
    },
    {
      "cell_type": "code",
      "metadata": {
        "colab": {
          "base_uri": "https://localhost:8080/"
        },
        "id": "ZeRM34Ns4OSS",
        "outputId": "d1420fcd-58cc-434b-9205-0ecf7e903ff9"
      },
      "source": [
        "# Shuffle\n",
        "arr = [1,3,5,7,9,11]\n",
        "print(np.random.shuffle(arr))\n",
        "print(arr)"
      ],
      "execution_count": null,
      "outputs": [
        {
          "output_type": "stream",
          "name": "stdout",
          "text": [
            "None\n",
            "[5, 9, 1, 7, 3, 11]\n"
          ]
        }
      ]
    },
    {
      "cell_type": "code",
      "metadata": {
        "colab": {
          "base_uri": "https://localhost:8080/"
        },
        "id": "StxGg-Ur4aBC",
        "outputId": "aa84c7f6-290f-4a48-9961-3f321683ae8d"
      },
      "source": [
        "# Permutation\n",
        "arr = [1,3,5,7,9,11]\n",
        "new_arr = np.random.permutation(arr)\n",
        "print(new_arr)"
      ],
      "execution_count": null,
      "outputs": [
        {
          "output_type": "stream",
          "name": "stdout",
          "text": [
            "[11  9  7  1  3  5]\n"
          ]
        }
      ]
    },
    {
      "cell_type": "markdown",
      "metadata": {
        "id": "fE1qbma65TVD"
      },
      "source": [
        "# Array Arithmetics"
      ]
    },
    {
      "cell_type": "code",
      "metadata": {
        "id": "-d3Xpmc15CSi"
      },
      "source": [
        "arr1 = np.array([10, 11, 12, 13, 14, 15])\n",
        "arr2 = np.array([20, 21, 22, 23, 24, 25])"
      ],
      "execution_count": null,
      "outputs": []
    },
    {
      "cell_type": "code",
      "metadata": {
        "colab": {
          "base_uri": "https://localhost:8080/"
        },
        "id": "IjpO42oY6GDB",
        "outputId": "d71d2ef3-c1cc-4aaa-f688-1410742c816d"
      },
      "source": [
        "# Array on constanta\n",
        "# Broadcasting\n",
        "print(\"add: \", arr1 + 5)\n",
        "print(\"subtract:\", arr1 - 3)\n",
        "print(\"multiply:\",arr1 * 2)\n",
        "print(\"divide:\",arr1 / 2)\n",
        "print(\"power:\",arr1 ** 2)\n",
        "print(\"mod:\",arr1 % 3)"
      ],
      "execution_count": null,
      "outputs": [
        {
          "output_type": "stream",
          "name": "stdout",
          "text": [
            "add:  [15 16 17 18 19 20]\n",
            "subtract: [ 7  8  9 10 11 12]\n",
            "multiply: [20 22 24 26 28 30]\n",
            "divide: [5.  5.5 6.  6.5 7.  7.5]\n",
            "power: [100 121 144 169 196 225]\n",
            "mod: [1 2 0 1 2 0]\n"
          ]
        }
      ]
    },
    {
      "cell_type": "code",
      "metadata": {
        "colab": {
          "base_uri": "https://localhost:8080/"
        },
        "id": "snKk_nQa4dTh",
        "outputId": "6d3baccc-2445-4f19-919c-04d4cbf678f5"
      },
      "source": [
        "# Array on array\n",
        "print(\"add: \", np.add(arr1, arr2))\n",
        "print(\"subtract:\", np.subtract(arr1, arr2))\n",
        "print(\"multiply:\",np.multiply(arr1, arr2))\n",
        "print(\"divide:\",np.divide(arr1, arr2))\n",
        "print(\"power:\",np.power(arr1, arr2))\n",
        "print(\"mod:\",np.mod(arr1, arr2))"
      ],
      "execution_count": null,
      "outputs": [
        {
          "output_type": "stream",
          "name": "stdout",
          "text": [
            "add:  [30 32 34 36 38 40]\n",
            "subtract: [-10 -10 -10 -10 -10 -10]\n",
            "multiply: [200 231 264 299 336 375]\n",
            "divide: [0.5        0.52380952 0.54545455 0.56521739 0.58333333 0.6       ]\n",
            "power: [ 7766279631452241920  3105570700629903195  5729018530666381312\n",
            " -4649523274362944347 -1849127232522420224  1824414961309619599]\n",
            "mod: [10 11 12 13 14 15]\n"
          ]
        }
      ]
    },
    {
      "cell_type": "code",
      "metadata": {
        "colab": {
          "base_uri": "https://localhost:8080/"
        },
        "id": "2RT4W8iN7WJ5",
        "outputId": "5bb72b9f-652b-4721-a7f5-f2c53830cde9"
      },
      "source": [
        "print(\"add: \", arr1 + arr2)\n",
        "print(\"subtract:\", arr1 - arr2)\n",
        "print(\"multiply:\",arr1 * arr2)\n",
        "print(\"divide:\",arr1 / arr2)\n",
        "print(\"power:\",arr1 ** arr2)\n",
        "print(\"mod:\",arr1 % arr2)"
      ],
      "execution_count": null,
      "outputs": [
        {
          "output_type": "stream",
          "name": "stdout",
          "text": [
            "add:  [30 32 34 36 38 40]\n",
            "subtract: [-10 -10 -10 -10 -10 -10]\n",
            "multiply: [200 231 264 299 336 375]\n",
            "divide: [0.5        0.52380952 0.54545455 0.56521739 0.58333333 0.6       ]\n",
            "power: [ 7766279631452241920  3105570700629903195  5729018530666381312\n",
            " -4649523274362944347 -1849127232522420224  1824414961309619599]\n",
            "mod: [10 11 12 13 14 15]\n"
          ]
        }
      ]
    },
    {
      "cell_type": "code",
      "metadata": {
        "colab": {
          "base_uri": "https://localhost:8080/"
        },
        "id": "fPHW_N3v68Q4",
        "outputId": "7125ba5b-2a2e-4a62-f6c0-2f59674ce5b1"
      },
      "source": [
        "# Special functions\n",
        "arr1 = [1,2,3,5,7,11,13]\n",
        "print(arr1)\n",
        "print(\"sum:\", np.sum(arr1))\n",
        "print(\"cumsum:\", np.cumsum(arr1))\n",
        "print(\"prod:\", np.prod(arr1))\n",
        "print(\"cumprod:\", np.cumprod(arr1))\n",
        "print(\"diff:\", np.diff(arr1))"
      ],
      "execution_count": null,
      "outputs": [
        {
          "output_type": "stream",
          "name": "stdout",
          "text": [
            "[1, 2, 3, 5, 7, 11, 13]\n",
            "sum: 42\n",
            "cumsum: [ 1  3  6 11 18 29 42]\n",
            "prod: 30030\n",
            "cumprod: [    1     2     6    30   210  2310 30030]\n",
            "diff: [1 1 2 2 4 2]\n"
          ]
        }
      ]
    },
    {
      "cell_type": "markdown",
      "metadata": {
        "id": "DQr_ePgv7zc9"
      },
      "source": [
        "# Matrix Operations"
      ]
    },
    {
      "cell_type": "code",
      "metadata": {
        "id": "m7G6q4FL73Ke"
      },
      "source": [
        "# Two matrices are initialized by value\n",
        "x = np.array([[1, 2], \n",
        "              [4, 5]])\n",
        "\n",
        "y = np.array([[7, 8], \n",
        "              [9, 10]])"
      ],
      "execution_count": null,
      "outputs": []
    },
    {
      "cell_type": "code",
      "metadata": {
        "colab": {
          "base_uri": "https://localhost:8080/"
        },
        "id": "eM3bUICy69Pm",
        "outputId": "afed2005-759f-4af6-813a-0069b407e366"
      },
      "source": [
        "#  add()is used to add matrices\n",
        "print (\"Addition of two matrices: \")\n",
        "print (np.add(x,y))"
      ],
      "execution_count": null,
      "outputs": [
        {
          "output_type": "stream",
          "name": "stdout",
          "text": [
            "Addition of two matrices: \n",
            "[[ 8 10]\n",
            " [13 15]]\n"
          ]
        }
      ]
    },
    {
      "cell_type": "markdown",
      "metadata": {
        "id": "XiGbO8zGye5d"
      },
      "source": [
        "Product of matrix"
      ]
    },
    {
      "cell_type": "markdown",
      "metadata": {
        "id": "FDhDL4pQ8N5_"
      },
      "source": [
        "![image.png](data:image/png;base64,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)"
      ]
    },
    {
      "cell_type": "code",
      "metadata": {
        "colab": {
          "base_uri": "https://localhost:8080/"
        },
        "id": "RM3Za8irXB91",
        "outputId": "377ccf61-08f0-4073-fda4-b93297c00384"
      },
      "source": [
        "print (\"The product of two matrices : \")\n",
        "print (np.dot(x,y))"
      ],
      "execution_count": null,
      "outputs": [
        {
          "output_type": "stream",
          "name": "stdout",
          "text": [
            "The product of two matrices : \n",
            "[[25 28]\n",
            " [73 82]]\n"
          ]
        }
      ]
    }
  ]
}