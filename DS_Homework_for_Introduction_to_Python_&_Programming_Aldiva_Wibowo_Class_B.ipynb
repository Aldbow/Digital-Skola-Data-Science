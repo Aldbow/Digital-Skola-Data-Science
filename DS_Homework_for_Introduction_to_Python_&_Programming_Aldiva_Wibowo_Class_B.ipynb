{
  "nbformat": 4,
  "nbformat_minor": 0,
  "metadata": {
    "colab": {
      "name": "DS_Homework_for_Introduction_to_Python_&_Programming Aldiva Wibowo Class B.ipynb",
      "provenance": [],
      "include_colab_link": true
    },
    "kernelspec": {
      "name": "python3",
      "display_name": "Python 3"
    },
    "language_info": {
      "name": "python"
    }
  },
  "cells": [
    {
      "cell_type": "markdown",
      "metadata": {
        "id": "view-in-github",
        "colab_type": "text"
      },
      "source": [
        "<a href=\"https://colab.research.google.com/github/Aldbow/kmb_aldiva/blob/main/DS_Homework_for_Introduction_to_Python_%26_Programming_Aldiva_Wibowo_Class_B.ipynb\" target=\"_parent\"><img src=\"https://colab.research.google.com/assets/colab-badge.svg\" alt=\"Open In Colab\"/></a>"
      ]
    },
    {
      "cell_type": "markdown",
      "metadata": {
        "id": "3_p9uZKex54G"
      },
      "source": [
        "# Soal 1 : Hello World\n",
        "Print Hello World to Python"
      ]
    },
    {
      "cell_type": "code",
      "metadata": {
        "id": "q00BMgzmxHAC",
        "colab": {
          "base_uri": "https://localhost:8080/"
        },
        "outputId": "0087199b-3c52-4b7b-a84f-8a335aacf6fa"
      },
      "source": [
        "# type your code here\n",
        "print(\"Hello World, Python!\")\n"
      ],
      "execution_count": null,
      "outputs": [
        {
          "output_type": "stream",
          "name": "stdout",
          "text": [
            "Hello World, Python!\n"
          ]
        }
      ]
    },
    {
      "cell_type": "markdown",
      "metadata": {
        "id": "7sAjzbnNyGQM"
      },
      "source": [
        "Expected output :\n",
        "\n",
        "Hello World, Python!"
      ]
    },
    {
      "cell_type": "markdown",
      "metadata": {
        "id": "2P52iIr2yQL0"
      },
      "source": [
        "# Soal 2 : Arithmetic in Python\n",
        "\n",
        "\n",
        "*   Buat statement penjumlahan antara 2 angka\n",
        "*   Buat statement perkalian antara 2 angka\n",
        "\n"
      ]
    },
    {
      "cell_type": "code",
      "metadata": {
        "id": "8DQCisz8nMOW"
      },
      "source": [
        "A = 12\n",
        "B = 10"
      ],
      "execution_count": null,
      "outputs": []
    },
    {
      "cell_type": "code",
      "metadata": {
        "id": "0Pwuk0LGylRE",
        "colab": {
          "base_uri": "https://localhost:8080/"
        },
        "outputId": "7b4d470f-4aca-4d6a-965f-cde169a4a615"
      },
      "source": [
        "print(\"A + B = \", A+B)"
      ],
      "execution_count": null,
      "outputs": [
        {
          "output_type": "stream",
          "name": "stdout",
          "text": [
            "A + B =  22\n"
          ]
        }
      ]
    },
    {
      "cell_type": "code",
      "metadata": {
        "id": "GgBt28PHyl0t",
        "colab": {
          "base_uri": "https://localhost:8080/"
        },
        "outputId": "d8d4df16-4985-4070-a8fb-232f678f78b2"
      },
      "source": [
        "print(\"A x B = \", A*B)"
      ],
      "execution_count": null,
      "outputs": [
        {
          "output_type": "stream",
          "name": "stdout",
          "text": [
            "A x B =  120\n"
          ]
        }
      ]
    },
    {
      "cell_type": "markdown",
      "metadata": {
        "id": "kRoliGCMynXT"
      },
      "source": [
        "# Soal 3 : Variable & String\n",
        "\n",
        "\n",
        "*   Masukkan nama depan kamu ke dalam sebuah variable bernama 'firstname'\n",
        "*   Masukkan nama belakang kamu ke dalam sebuah variable bernama 'lastname'\n",
        "*   Tampilkan suatu kalimat 'Hello DigitalSkola, saya firstname lastname dan saya siap belajar Python untuk Data Science!\n",
        "\n"
      ]
    },
    {
      "cell_type": "code",
      "metadata": {
        "id": "NRBfWjvEzIIc",
        "colab": {
          "base_uri": "https://localhost:8080/"
        },
        "outputId": "33b22002-d0ee-4a12-ec5d-d8da41960a91"
      },
      "source": [
        "# your code here\n",
        "firstname = \"Aldiva\"\n",
        "lastname = \" Wibowo\"\n",
        "\n",
        "print(\"Hello DigitalSkola, saya\", firstname+lastname, \"dan saya siap belajar Python untuk Data Science!\")"
      ],
      "execution_count": null,
      "outputs": [
        {
          "output_type": "stream",
          "name": "stdout",
          "text": [
            "Hello DigitalSkola, saya Aldiva Wibowo dan saya siap belajar Python untuk Data Science!\n"
          ]
        }
      ]
    },
    {
      "cell_type": "markdown",
      "metadata": {
        "id": "RYXjW7XGzOZ7"
      },
      "source": [
        "Expected output :\n",
        "\n",
        "Hello DigitalSkola, saya Romansya Setyo dan saya siap belajar Python untuk Data Science!"
      ]
    }
  ]
}