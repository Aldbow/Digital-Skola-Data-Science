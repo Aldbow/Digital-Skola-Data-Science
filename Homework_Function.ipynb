{
  "nbformat": 4,
  "nbformat_minor": 0,
  "metadata": {
    "colab": {
      "name": "Homework Function.ipynb",
      "provenance": [],
      "collapsed_sections": [],
      "include_colab_link": true
    },
    "kernelspec": {
      "name": "python3",
      "display_name": "Python 3"
    },
    "language_info": {
      "name": "python"
    }
  },
  "cells": [
    {
      "cell_type": "markdown",
      "metadata": {
        "id": "view-in-github",
        "colab_type": "text"
      },
      "source": [
        "<a href=\"https://colab.research.google.com/github/Aldbow/kmb_aldiva/blob/main/Homework_Function.ipynb\" target=\"_parent\"><img src=\"https://colab.research.google.com/assets/colab-badge.svg\" alt=\"Open In Colab\"/></a>"
      ]
    },
    {
      "cell_type": "code",
      "metadata": {
        "colab": {
          "base_uri": "https://localhost:8080/"
        },
        "id": "tUJ8UkR60Gh2",
        "outputId": "27e1b315-800f-4e08-a074-94925346fa7c"
      },
      "source": [
        "tulisan = \"Mamamia Pizaria\"\n",
        "potongan_text = tulisan[3:10]\n",
        "print(potongan_text)"
      ],
      "execution_count": null,
      "outputs": [
        {
          "output_type": "stream",
          "name": "stdout",
          "text": [
            "amia Pi\n"
          ]
        }
      ]
    },
    {
      "cell_type": "code",
      "metadata": {
        "colab": {
          "base_uri": "https://localhost:8080/"
        },
        "id": "76vBwzpP04eF",
        "outputId": "93312297-e100-4e98-b4bf-99c112f11cb1"
      },
      "source": [
        "def aldiva_calc_function(a, b, c):\n",
        "  if a > b and a > c:\n",
        "    hasil = a + b + c\n",
        "  elif b > a and b > c:\n",
        "    hasil = (a + c) / b\n",
        "  elif c > a and c > b:\n",
        "    hasil = (b / c) + a\n",
        "  else:\n",
        "    hasil = (a - b) * c\n",
        "  return hasil\n",
        "\n",
        "print(\"Masukkan nilai ke-1:\")\n",
        "nilai1 = int(input())\n",
        "print(\"Masukkan nilai ke-2:\")\n",
        "nilai2 = int(input())\n",
        "print(\"Masukkan nilai ke-3:\")\n",
        "nilai3 = int(input())\n",
        "\n",
        "result = aldiva_calc_function(nilai1,nilai2,nilai3)\n",
        "print(\"\\n\")\n",
        "print(\"Hasil dari perhitungan anda adalah\", result)"
      ],
      "execution_count": 4,
      "outputs": [
        {
          "output_type": "stream",
          "name": "stdout",
          "text": [
            "Masukkan nilai ke-1:\n",
            "100\n",
            "Masukkan nilai ke-2:\n",
            "50\n",
            "Masukkan nilai ke-3:\n",
            "20\n",
            "\n",
            "\n",
            "Hasil dari perhitungan anda adalah 170\n"
          ]
        }
      ]
    }
  ]
}