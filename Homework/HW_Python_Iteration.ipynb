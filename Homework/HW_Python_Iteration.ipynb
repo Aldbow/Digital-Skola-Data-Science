{
  "nbformat": 4,
  "nbformat_minor": 0,
  "metadata": {
    "colab": {
      "name": "HW Python Iteration.ipynb",
      "provenance": [],
      "collapsed_sections": [],
      "include_colab_link": true
    },
    "kernelspec": {
      "name": "python3",
      "display_name": "Python 3"
    },
    "language_info": {
      "name": "python"
    }
  },
  "cells": [
    {
      "cell_type": "markdown",
      "metadata": {
        "id": "view-in-github",
        "colab_type": "text"
      },
      "source": [
        "<a href=\"https://colab.research.google.com/github/Aldbow/kmb_aldiva/blob/main/HW_Python_Iteration.ipynb\" target=\"_parent\"><img src=\"https://colab.research.google.com/assets/colab-badge.svg\" alt=\"Open In Colab\"/></a>"
      ]
    },
    {
      "cell_type": "markdown",
      "metadata": {
        "id": "1p8GFtV0B4vG"
      },
      "source": [
        "# Homework, Python Iteration\n",
        "\n",
        "Name  : Aldiva Wibowo\n",
        "\n",
        "Class : Data Science B"
      ]
    },
    {
      "cell_type": "code",
      "metadata": {
        "colab": {
          "base_uri": "https://localhost:8080/"
        },
        "id": "pc2uaoqI_eZL",
        "outputId": "517eb0af-fc8f-48c6-c2e4-c993ad699b95"
      },
      "source": [
        "n = 5;\n",
        "\n",
        "for i in range(0, n):\n",
        "  for j in range(0, i + 1):\n",
        "    print ('*', end = ' ')\n",
        "  print('\\r')\n",
        "\n",
        "for i in range(n, 0, -1):\n",
        "  for j in range(0, i - 1):\n",
        "    print('*', end=' ')\n",
        "  print('\\r')"
      ],
      "execution_count": null,
      "outputs": [
        {
          "output_type": "stream",
          "name": "stdout",
          "text": [
            "* \r\n",
            "* * \r\n",
            "* * * \r\n",
            "* * * * \r\n",
            "* * * * * \r\n",
            "* * * * \r\n",
            "* * * \r\n",
            "* * \r\n",
            "* \r\n",
            "\r\n"
          ]
        }
      ]
    },
    {
      "cell_type": "markdown",
      "metadata": {
        "id": "3hQTa84lGGHa"
      },
      "source": [
        "# Homework, Python Iteration\n",
        "\n",
        "Name  : Aldiva Wibowo\n",
        "\n",
        "Class : Data Science B"
      ]
    },
    {
      "cell_type": "code",
      "metadata": {
        "colab": {
          "base_uri": "https://localhost:8080/"
        },
        "id": "yeRlPf3sDzxn",
        "outputId": "b883391b-4649-4b15-c05e-8e817bc57383"
      },
      "source": [
        "minimum = int(input(\" Masukkan Minimum Value: \"))\n",
        "maximum = int(input(\" Masukkan Maximum Value: \"))\n",
        "print(\"\\n\")\n",
        "\n",
        "for n in range (minimum, maximum + 1):\n",
        "    count = 0\n",
        "    for i in range(2, (n//2 + 1)):\n",
        "        if(n % i == 0):\n",
        "            count = count + 1\n",
        "            break\n",
        "\n",
        "    if (count == 0 and n != 1):\n",
        "        print(\" |%d|\" %n, end = '  ')"
      ],
      "execution_count": null,
      "outputs": [
        {
          "output_type": "stream",
          "name": "stdout",
          "text": [
            " Masukkan Minimum Value: 37\n",
            " Masukkan Maximum Value: 63\n",
            "\n",
            "\n",
            " |37|   |41|   |43|   |47|   |53|   |59|   |61|  "
          ]
        }
      ]
    }
  ]
}
