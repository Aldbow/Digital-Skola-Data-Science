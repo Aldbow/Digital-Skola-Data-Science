{
 "cells": [
  {
   "cell_type": "markdown",
   "id": "95bb1fc2",
   "metadata": {},
   "source": [
    "## Homework DS Numpy Inverse"
   ]
  },
  {
   "cell_type": "code",
   "execution_count": 2,
   "id": "5d3534b6",
   "metadata": {},
   "outputs": [],
   "source": [
    "import numpy as np"
   ]
  },
  {
   "cell_type": "code",
   "execution_count": 96,
   "id": "195e8140",
   "metadata": {},
   "outputs": [
    {
     "data": {
      "text/plain": [
       "array([[ 0.6, -0.7],\n",
       "       [-0.2,  0.4]])"
      ]
     },
     "execution_count": 96,
     "metadata": {},
     "output_type": "execute_result"
    }
   ],
   "source": [
    "def get_inverse_matrix_2d(M):\n",
    "    adj_M = np.linalg.det(M)\n",
    "    if(adj_M):\n",
    "        return np.linalg.inv(M)\n",
    "    else:\n",
    "        return print(\"Matriks tidak memiliki invers\")\n",
    "\n",
    "M = np.array([[4, 7],\n",
    "              [2, 6]])\n",
    "\n",
    "get_inverse_matrix_2d(M)"
   ]
  },
  {
   "cell_type": "code",
   "execution_count": 15,
   "id": "12f19329",
   "metadata": {},
   "outputs": [
    {
     "name": "stdout",
     "output_type": "stream",
     "text": [
      "[[ 0.6 -0.7]\n",
      " [ 0.2  0.4]]\n"
     ]
    }
   ],
   "source": [
    "def get_inverse_matrix_2d(M):\n",
    "    det = 1 / (M[0,0] * M[1,1] - M[1,0] * M[0,1])\n",
    "    if (M[0,0] * M[1,1] - M[1,0] * M[0,1]) == 0:\n",
    "        return \"Matriks tidak ada invers\"\n",
    "    else:\n",
    "        adjoint = np.array([[M[1,1], -(M[0,1])], [M[1,0], M[0,0]]])\n",
    "        adj_M = det * adjoint\n",
    "        return adj_M\n",
    "\n",
    "M = np.array([[4,7],\n",
    "              [2,6]])\n",
    "\n",
    "print(get_inverse_matrix_2d(M))"
   ]
  }
 ],
 "metadata": {
  "kernelspec": {
   "display_name": "Python 3 (ipykernel)",
   "language": "python",
   "name": "python3"
  },
  "language_info": {
   "codemirror_mode": {
    "name": "ipython",
    "version": 3
   },
   "file_extension": ".py",
   "mimetype": "text/x-python",
   "name": "python",
   "nbconvert_exporter": "python",
   "pygments_lexer": "ipython3",
   "version": "3.9.2"
  }
 },
 "nbformat": 4,
 "nbformat_minor": 5
}
