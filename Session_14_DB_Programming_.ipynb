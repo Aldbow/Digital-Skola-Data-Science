{
  "nbformat": 4,
  "nbformat_minor": 0,
  "metadata": {
    "colab": {
      "name": "Session_14_DB_Programming .ipynb",
      "provenance": [],
      "toc_visible": true,
      "include_colab_link": true
    },
    "kernelspec": {
      "display_name": "Python 3",
      "language": "python",
      "name": "python3"
    },
    "language_info": {
      "codemirror_mode": {
        "name": "ipython",
        "version": 3
      },
      "file_extension": ".py",
      "mimetype": "text/x-python",
      "name": "python",
      "nbconvert_exporter": "python",
      "pygments_lexer": "ipython3",
      "version": "3.7.6"
    }
  },
  "cells": [
    {
      "cell_type": "markdown",
      "metadata": {
        "id": "view-in-github",
        "colab_type": "text"
      },
      "source": [
        "<a href=\"https://colab.research.google.com/github/Aldbow/kmb_aldiva/blob/main/Session_14_DB_Programming_.ipynb\" target=\"_parent\"><img src=\"https://colab.research.google.com/assets/colab-badge.svg\" alt=\"Open In Colab\"/></a>"
      ]
    },
    {
      "cell_type": "markdown",
      "metadata": {
        "id": "rDuIlmD1bEvV"
      },
      "source": [
        "# **Write and Read File in Python**"
      ]
    },
    {
      "cell_type": "code",
      "metadata": {
        "id": "4Rl18biebNEg"
      },
      "source": [
        "import os"
      ],
      "execution_count": null,
      "outputs": []
    },
    {
      "cell_type": "code",
      "metadata": {
        "colab": {
          "base_uri": "https://localhost:8080/"
        },
        "id": "ua7cJ19ibSO2",
        "outputId": "f94541df-e5ff-4fcf-c739-ab54492f5a62"
      },
      "source": [
        "print(os.getcwd())"
      ],
      "execution_count": null,
      "outputs": [
        {
          "name": "stdout",
          "output_type": "stream",
          "text": [
            "/Users/farhanrezagumay/Downloads/Data Science/Digital Skola/Course Material/Script\n"
          ]
        }
      ]
    },
    {
      "cell_type": "code",
      "metadata": {
        "id": "2CJkIKr7bbVy"
      },
      "source": [
        "writefile = open('example.txt','w')\n",
        "writefile.write(\"Welcome to Digital Skola\")\n",
        "writefile.close()"
      ],
      "execution_count": null,
      "outputs": []
    },
    {
      "cell_type": "code",
      "metadata": {
        "colab": {
          "base_uri": "https://localhost:8080/"
        },
        "id": "p_R_0fQlb5XP",
        "outputId": "ac745cc7-6e3e-4bc7-bff6-e42088a02291"
      },
      "source": [
        "readfile = open('example.txt','r')\n",
        "print(readfile.read())\n",
        "readfile.close()"
      ],
      "execution_count": null,
      "outputs": [
        {
          "name": "stdout",
          "output_type": "stream",
          "text": [
            "Welcome to Digital Skola\n"
          ]
        }
      ]
    },
    {
      "cell_type": "code",
      "metadata": {
        "colab": {
          "base_uri": "https://localhost:8080/"
        },
        "id": "G9wciOTEcNCL",
        "outputId": "e7663929-183e-499e-dff4-6d89437be363"
      },
      "source": [
        "with open('example.txt','r') as readfile:\n",
        "  print(readfile.read())"
      ],
      "execution_count": null,
      "outputs": [
        {
          "name": "stdout",
          "output_type": "stream",
          "text": [
            "Welcome to Digital Skola\n"
          ]
        }
      ]
    },
    {
      "cell_type": "code",
      "metadata": {
        "id": "H5XuHsBvcgdt"
      },
      "source": [
        "with open('example.txt','w') as writefile:\n",
        "  writefile.write('Ini baris 1\\n')\n",
        "  writefile.write('Ini baris 2\\n')"
      ],
      "execution_count": null,
      "outputs": []
    },
    {
      "cell_type": "code",
      "metadata": {
        "colab": {
          "base_uri": "https://localhost:8080/"
        },
        "id": "JPPkEPDUc9Aq",
        "outputId": "2117435b-eaf5-40d4-cda8-5426730d4ee5"
      },
      "source": [
        "with open('example.txt','r') as readfile:\n",
        "  print(readfile.read())"
      ],
      "execution_count": null,
      "outputs": [
        {
          "name": "stdout",
          "output_type": "stream",
          "text": [
            "Ini baris 1\n",
            "Ini baris 2\n",
            "\n"
          ]
        }
      ]
    },
    {
      "cell_type": "code",
      "metadata": {
        "id": "3qgtk6Cuc_Gq"
      },
      "source": [
        "with open('example.txt','a') as appendfile:\n",
        "  appendfile.write('Ini barus 3\\n')"
      ],
      "execution_count": null,
      "outputs": []
    },
    {
      "cell_type": "markdown",
      "metadata": {
        "id": "KFU7fZ75kq5k"
      },
      "source": [
        "# **Database Connection**"
      ]
    },
    {
      "cell_type": "code",
      "metadata": {
        "colab": {
          "base_uri": "https://localhost:8080/"
        },
        "id": "96MTsUg1kuP1",
        "outputId": "c5292b62-b9fb-493c-9d37-b02558bd82c4"
      },
      "source": [
        "pip install psycopg2"
      ],
      "execution_count": null,
      "outputs": [
        {
          "name": "stdout",
          "output_type": "stream",
          "text": [
            "Collecting psycopg2\n",
            "  Downloading psycopg2-2.9.1.tar.gz (379 kB)\n",
            "\u001b[K     |████████████████████████████████| 379 kB 1.0 MB/s eta 0:00:01\n",
            "\u001b[31m    ERROR: Command errored out with exit status 1:\n",
            "     command: /Users/farhanrezagumay/opt/anaconda3/bin/python -c 'import sys, setuptools, tokenize; sys.argv[0] = '\"'\"'/private/var/folders/ty/y5kprs3n3xsbfb4c52x2jw1h0000gn/T/pip-install-cj0p2i8a/psycopg2/setup.py'\"'\"'; __file__='\"'\"'/private/var/folders/ty/y5kprs3n3xsbfb4c52x2jw1h0000gn/T/pip-install-cj0p2i8a/psycopg2/setup.py'\"'\"';f=getattr(tokenize, '\"'\"'open'\"'\"', open)(__file__);code=f.read().replace('\"'\"'\\r\\n'\"'\"', '\"'\"'\\n'\"'\"');f.close();exec(compile(code, __file__, '\"'\"'exec'\"'\"'))' egg_info --egg-base /private/var/folders/ty/y5kprs3n3xsbfb4c52x2jw1h0000gn/T/pip-install-cj0p2i8a/psycopg2/pip-egg-info\n",
            "         cwd: /private/var/folders/ty/y5kprs3n3xsbfb4c52x2jw1h0000gn/T/pip-install-cj0p2i8a/psycopg2/\n",
            "    Complete output (23 lines):\n",
            "    running egg_info\n",
            "    creating /private/var/folders/ty/y5kprs3n3xsbfb4c52x2jw1h0000gn/T/pip-install-cj0p2i8a/psycopg2/pip-egg-info/psycopg2.egg-info\n",
            "    writing /private/var/folders/ty/y5kprs3n3xsbfb4c52x2jw1h0000gn/T/pip-install-cj0p2i8a/psycopg2/pip-egg-info/psycopg2.egg-info/PKG-INFO\n",
            "    writing dependency_links to /private/var/folders/ty/y5kprs3n3xsbfb4c52x2jw1h0000gn/T/pip-install-cj0p2i8a/psycopg2/pip-egg-info/psycopg2.egg-info/dependency_links.txt\n",
            "    writing top-level names to /private/var/folders/ty/y5kprs3n3xsbfb4c52x2jw1h0000gn/T/pip-install-cj0p2i8a/psycopg2/pip-egg-info/psycopg2.egg-info/top_level.txt\n",
            "    writing manifest file '/private/var/folders/ty/y5kprs3n3xsbfb4c52x2jw1h0000gn/T/pip-install-cj0p2i8a/psycopg2/pip-egg-info/psycopg2.egg-info/SOURCES.txt'\n",
            "    \n",
            "    Error: pg_config executable not found.\n",
            "    \n",
            "    pg_config is required to build psycopg2 from source.  Please add the directory\n",
            "    containing pg_config to the $PATH or specify the full executable path with the\n",
            "    option:\n",
            "    \n",
            "        python setup.py build_ext --pg-config /path/to/pg_config build ...\n",
            "    \n",
            "    or with the pg_config option in 'setup.cfg'.\n",
            "    \n",
            "    If you prefer to avoid building psycopg2 from source, please install the PyPI\n",
            "    'psycopg2-binary' package instead.\n",
            "    \n",
            "    For further information please check the 'doc/src/install.rst' file (also at\n",
            "    <https://www.psycopg.org/docs/install.html>).\n",
            "    \n",
            "    ----------------------------------------\u001b[0m\n",
            "\u001b[31mERROR: Command errored out with exit status 1: python setup.py egg_info Check the logs for full command output.\u001b[0m\n",
            "\u001b[?25hNote: you may need to restart the kernel to use updated packages.\n"
          ]
        }
      ]
    },
    {
      "cell_type": "code",
      "metadata": {
        "id": "ZFLj-4ul3fKK",
        "outputId": "63ab058f-a063-4074-ceb3-53e55a3d912a"
      },
      "source": [
        "import sys\n",
        "!conda install --yes --prefix {sys.prefix} <psycopg2>"
      ],
      "execution_count": null,
      "outputs": [
        {
          "name": "stdout",
          "output_type": "stream",
          "text": [
            "/bin/sh: -c: line 0: syntax error near unexpected token `newline'\r\n",
            "/bin/sh: -c: line 0: `conda install --yes --prefix /Users/farhanrezagumay/opt/anaconda3 <psycopg2>'\r\n"
          ]
        }
      ]
    },
    {
      "cell_type": "code",
      "metadata": {
        "id": "geYpOQQdk2C8",
        "outputId": "2db26ff7-19a1-41cf-aee9-d0f686b040d8"
      },
      "source": [
        "import psycopg2\n",
        "\n",
        "#connection database\n",
        "conn = psycopg2.connect(\n",
        "        host = \"digitalskoladb.c04me33o8tni.ap-southeast-1.rds.amazonaws.com\",\n",
        "        port = 5432,\n",
        "        database= \"sandbox\",\n",
        "        user = \"group_a\",\n",
        "        password = \"hZrJQJ8RMttts9VZnUYZX93pr\")\n",
        "\n",
        "#creating object using the cursor method\n",
        "cursor = conn.cursor()"
      ],
      "execution_count": null,
      "outputs": [
        {
          "ename": "ModuleNotFoundError",
          "evalue": "No module named 'psycopg2'",
          "output_type": "error",
          "traceback": [
            "\u001b[0;31m---------------------------------------------------------------------------\u001b[0m",
            "\u001b[0;31mModuleNotFoundError\u001b[0m                       Traceback (most recent call last)",
            "\u001b[0;32m<ipython-input-1-db33495212a1>\u001b[0m in \u001b[0;36m<module>\u001b[0;34m\u001b[0m\n\u001b[0;32m----> 1\u001b[0;31m \u001b[0;32mimport\u001b[0m \u001b[0mpsycopg2\u001b[0m\u001b[0;34m\u001b[0m\u001b[0;34m\u001b[0m\u001b[0m\n\u001b[0m\u001b[1;32m      2\u001b[0m \u001b[0;34m\u001b[0m\u001b[0m\n\u001b[1;32m      3\u001b[0m \u001b[0;31m#connection database\u001b[0m\u001b[0;34m\u001b[0m\u001b[0;34m\u001b[0m\u001b[0;34m\u001b[0m\u001b[0m\n\u001b[1;32m      4\u001b[0m conn = psycopg2.connect(\n\u001b[1;32m      5\u001b[0m         \u001b[0mhost\u001b[0m \u001b[0;34m=\u001b[0m \u001b[0;34m\"digitalskoladb.c04me33o8tni.ap-southeast-1.rds.amazonaws.com\"\u001b[0m\u001b[0;34m,\u001b[0m\u001b[0;34m\u001b[0m\u001b[0;34m\u001b[0m\u001b[0m\n",
            "\u001b[0;31mModuleNotFoundError\u001b[0m: No module named 'psycopg2'"
          ]
        }
      ]
    },
    {
      "cell_type": "markdown",
      "metadata": {
        "id": "SmSTTlbnmJTa"
      },
      "source": [
        "# **Create Table**"
      ]
    },
    {
      "cell_type": "code",
      "metadata": {
        "colab": {
          "base_uri": "https://localhost:8080/"
        },
        "id": "EqrffDR0k43B",
        "outputId": "6ac4df75-73c7-4d96-bb97-3580852fde59"
      },
      "source": [
        "conn = psycopg2.connect(\n",
        "        host = \"digitalskoladb.c04me33o8tni.ap-southeast-1.rds.amazonaws.com\",\n",
        "        port = 5432,\n",
        "        database= \"sandbox\",\n",
        "        user = \"group_a\",\n",
        "        password = \"hZrJQJ8RMttts9VZnUYZX93pr\")\n",
        "\n",
        "#creating object using the cursor method\n",
        "cursor = conn.cursor()\n",
        "\n",
        "cursor.execute(\"DROP TABLE IF EXISTS sandbox.batch_2.bus\")\n",
        "\n",
        "sql = '''\n",
        "      create table sandbox.batch_2.bus (\n",
        "      id int,\n",
        "      origin varchar,\n",
        "      destination varchar,\n",
        "      time time\n",
        ")'''\n",
        "\n",
        "cursor.execute(sql)\n",
        "print(\"Table created successfully..\")\n",
        "\n",
        "conn.commit()\n",
        "\n",
        "conn.close()"
      ],
      "execution_count": null,
      "outputs": [
        {
          "name": "stdout",
          "output_type": "stream",
          "text": [
            "Table created successfully..\n"
          ]
        }
      ]
    },
    {
      "cell_type": "markdown",
      "metadata": {
        "id": "0IlAkV-Mnhgk"
      },
      "source": [
        "# **Insert Data**"
      ]
    },
    {
      "cell_type": "code",
      "metadata": {
        "colab": {
          "base_uri": "https://localhost:8080/"
        },
        "id": "yMriXKQTm3Rz",
        "outputId": "a033f4cf-b09c-4f6c-8a3d-f9ac043f6b3a"
      },
      "source": [
        "conn = psycopg2.connect(\n",
        "        host = \"digitalskoladb.c04me33o8tni.ap-southeast-1.rds.amazonaws.com\",\n",
        "        port = 5432,\n",
        "        database= \"sandbox\",\n",
        "        user = \"group_a\",\n",
        "        password = \"hZrJQJ8RMttts9VZnUYZX93pr\")\n",
        "\n",
        "#creating object using the cursor method\n",
        "cursor = conn.cursor()\n",
        "\n",
        "sql ='''insert into sandbox.batch_2.bus values \n",
        "        (100, 'Jakarta', 'Bandung', '10:00'),\n",
        "        (200, 'Jakarta', 'Palembang', '11:00'),\n",
        "        (300, 'Jakarta', 'Jogja', '12:00')'''\n",
        "\n",
        "cursor.execute(sql)\n",
        "\n",
        "conn.commit()\n",
        "print(\"Data inserted successfully..\")\n",
        "\n",
        "conn.close()"
      ],
      "execution_count": null,
      "outputs": [
        {
          "name": "stdout",
          "output_type": "stream",
          "text": [
            "Data inserted successfully..\n"
          ]
        }
      ]
    },
    {
      "cell_type": "markdown",
      "metadata": {
        "id": "oOTsRx8rq_jm"
      },
      "source": [
        "# **Select Data**"
      ]
    },
    {
      "cell_type": "code",
      "metadata": {
        "colab": {
          "base_uri": "https://localhost:8080/"
        },
        "id": "vlGIWSQ8oIyc",
        "outputId": "7b7b376c-aed9-4d88-f494-c44099192654"
      },
      "source": [
        "conn = psycopg2.connect(\n",
        "        host = \"digitalskoladb.c04me33o8tni.ap-southeast-1.rds.amazonaws.com\",\n",
        "        port = 5432,\n",
        "        database= \"sandbox\",\n",
        "        user = \"group_a\",\n",
        "        password = \"hZrJQJ8RMttts9VZnUYZX93pr\")\n",
        "\n",
        "#creating object using the cursor method\n",
        "cursor = conn.cursor()\n",
        "\n",
        "sql ='''select * from sandbox.batch_2.bus'''\n",
        "\n",
        "cursor.execute(sql)\n",
        "\n",
        "result = cursor.fetchall();\n",
        "print(result)\n",
        "\n",
        "conn.commit()\n",
        "\n",
        "conn.close()"
      ],
      "execution_count": null,
      "outputs": [
        {
          "name": "stdout",
          "output_type": "stream",
          "text": [
            "[(100, 'Jakarta', 'Bandung', datetime.time(10, 0)), (200, 'Jakarta', 'Palembang', datetime.time(11, 0)), (300, 'Jakarta', 'Jogja', datetime.time(12, 0))]\n"
          ]
        }
      ]
    },
    {
      "cell_type": "markdown",
      "metadata": {
        "id": "Vh82RLcUr3iL"
      },
      "source": [
        "Or We can select data using pandas"
      ]
    },
    {
      "cell_type": "code",
      "metadata": {
        "id": "N7oQBpbOrbM4"
      },
      "source": [
        "import pandas as pd"
      ],
      "execution_count": null,
      "outputs": []
    },
    {
      "cell_type": "code",
      "metadata": {
        "id": "Eg_tv1v0sArp"
      },
      "source": [
        "conn = psycopg2.connect(\n",
        "        host = \"digitalskoladb.c04me33o8tni.ap-southeast-1.rds.amazonaws.com\",\n",
        "        port = 5432,\n",
        "        database= \"sandbox\",\n",
        "        user = \"group_a\",\n",
        "        password = \"hZrJQJ8RMttts9VZnUYZX93pr\")\n"
      ],
      "execution_count": null,
      "outputs": []
    },
    {
      "cell_type": "code",
      "metadata": {
        "id": "YUfyJaxls3Mq"
      },
      "source": [
        "sql = '''\n",
        "      select * \n",
        "      from sandbox.datasource.employees e\n",
        "      join sandbox.datasource.departments d on e.department_id = d.department_id\n",
        "\n",
        "'''"
      ],
      "execution_count": null,
      "outputs": []
    },
    {
      "cell_type": "code",
      "metadata": {
        "id": "eHS9oJq5sLav"
      },
      "source": [
        "df = pd.read_sql(sql, con=conn)"
      ],
      "execution_count": null,
      "outputs": []
    },
    {
      "cell_type": "code",
      "metadata": {
        "colab": {
          "base_uri": "https://localhost:8080/",
          "height": 204
        },
        "id": "NhBCid6EsSt0",
        "outputId": "4b81b467-3696-4451-898c-6703b1eaf596"
      },
      "source": [
        "df.head()"
      ],
      "execution_count": null,
      "outputs": [
        {
          "data": {
            "text/html": [
              "<div>\n",
              "<style scoped>\n",
              "    .dataframe tbody tr th:only-of-type {\n",
              "        vertical-align: middle;\n",
              "    }\n",
              "\n",
              "    .dataframe tbody tr th {\n",
              "        vertical-align: top;\n",
              "    }\n",
              "\n",
              "    .dataframe thead th {\n",
              "        text-align: right;\n",
              "    }\n",
              "</style>\n",
              "<table border=\"1\" class=\"dataframe\">\n",
              "  <thead>\n",
              "    <tr style=\"text-align: right;\">\n",
              "      <th></th>\n",
              "      <th>employee_id</th>\n",
              "      <th>first_name</th>\n",
              "      <th>last_name</th>\n",
              "      <th>email</th>\n",
              "      <th>phone_number</th>\n",
              "      <th>hire_date</th>\n",
              "      <th>job_id</th>\n",
              "      <th>salary</th>\n",
              "      <th>commission_pct</th>\n",
              "      <th>manager_id</th>\n",
              "      <th>department_id</th>\n",
              "      <th>department_id</th>\n",
              "      <th>department_name</th>\n",
              "      <th>manager_id</th>\n",
              "      <th>location_id</th>\n",
              "    </tr>\n",
              "  </thead>\n",
              "  <tbody>\n",
              "    <tr>\n",
              "      <th>0</th>\n",
              "      <td>100.0</td>\n",
              "      <td>Steven</td>\n",
              "      <td>King</td>\n",
              "      <td>SKING</td>\n",
              "      <td>515.123.4567</td>\n",
              "      <td>1987-06-17</td>\n",
              "      <td>AD_PRES</td>\n",
              "      <td>24000.0</td>\n",
              "      <td>0.0</td>\n",
              "      <td>0.0</td>\n",
              "      <td>90.0</td>\n",
              "      <td>90.0</td>\n",
              "      <td>Executive</td>\n",
              "      <td>100.0</td>\n",
              "      <td>1700.0</td>\n",
              "    </tr>\n",
              "    <tr>\n",
              "      <th>1</th>\n",
              "      <td>101.0</td>\n",
              "      <td>Neena</td>\n",
              "      <td>Kochhar</td>\n",
              "      <td>NKOCHHAR</td>\n",
              "      <td>515.123.4568</td>\n",
              "      <td>1987-06-18</td>\n",
              "      <td>AD_VP</td>\n",
              "      <td>17000.0</td>\n",
              "      <td>0.0</td>\n",
              "      <td>100.0</td>\n",
              "      <td>90.0</td>\n",
              "      <td>90.0</td>\n",
              "      <td>Executive</td>\n",
              "      <td>100.0</td>\n",
              "      <td>1700.0</td>\n",
              "    </tr>\n",
              "    <tr>\n",
              "      <th>2</th>\n",
              "      <td>102.0</td>\n",
              "      <td>Lex</td>\n",
              "      <td>De Haan</td>\n",
              "      <td>LDEHAAN</td>\n",
              "      <td>515.123.4569</td>\n",
              "      <td>1987-06-19</td>\n",
              "      <td>AD_VP</td>\n",
              "      <td>17000.0</td>\n",
              "      <td>0.0</td>\n",
              "      <td>100.0</td>\n",
              "      <td>90.0</td>\n",
              "      <td>90.0</td>\n",
              "      <td>Executive</td>\n",
              "      <td>100.0</td>\n",
              "      <td>1700.0</td>\n",
              "    </tr>\n",
              "    <tr>\n",
              "      <th>3</th>\n",
              "      <td>103.0</td>\n",
              "      <td>Alexander</td>\n",
              "      <td>Hunold</td>\n",
              "      <td>AHUNOLD</td>\n",
              "      <td>590.423.4567</td>\n",
              "      <td>1987-06-20</td>\n",
              "      <td>IT_PROG</td>\n",
              "      <td>9000.0</td>\n",
              "      <td>0.0</td>\n",
              "      <td>102.0</td>\n",
              "      <td>60.0</td>\n",
              "      <td>60.0</td>\n",
              "      <td>IT</td>\n",
              "      <td>103.0</td>\n",
              "      <td>1400.0</td>\n",
              "    </tr>\n",
              "    <tr>\n",
              "      <th>4</th>\n",
              "      <td>104.0</td>\n",
              "      <td>Bruce</td>\n",
              "      <td>Ernst</td>\n",
              "      <td>BERNST</td>\n",
              "      <td>590.423.4568</td>\n",
              "      <td>1987-06-21</td>\n",
              "      <td>IT_PROG</td>\n",
              "      <td>6000.0</td>\n",
              "      <td>0.0</td>\n",
              "      <td>103.0</td>\n",
              "      <td>60.0</td>\n",
              "      <td>60.0</td>\n",
              "      <td>IT</td>\n",
              "      <td>103.0</td>\n",
              "      <td>1400.0</td>\n",
              "    </tr>\n",
              "  </tbody>\n",
              "</table>\n",
              "</div>"
            ],
            "text/plain": [
              "   employee_id first_name last_name  ... department_name manager_id location_id\n",
              "0        100.0     Steven      King  ...       Executive      100.0      1700.0\n",
              "1        101.0      Neena   Kochhar  ...       Executive      100.0      1700.0\n",
              "2        102.0        Lex   De Haan  ...       Executive      100.0      1700.0\n",
              "3        103.0  Alexander    Hunold  ...              IT      103.0      1400.0\n",
              "4        104.0      Bruce     Ernst  ...              IT      103.0      1400.0\n",
              "\n",
              "[5 rows x 15 columns]"
            ]
          },
          "execution_count": 76,
          "metadata": {
            "tags": []
          },
          "output_type": "execute_result"
        }
      ]
    },
    {
      "cell_type": "markdown",
      "metadata": {
        "id": "D-z56MKatXcG"
      },
      "source": [
        "# **Update Table**"
      ]
    },
    {
      "cell_type": "code",
      "metadata": {
        "colab": {
          "base_uri": "https://localhost:8080/"
        },
        "id": "JvWWVVwDsbqv",
        "outputId": "b10c51d1-619c-44c2-bd26-72db9cbaff8c"
      },
      "source": [
        "conn = psycopg2.connect(\n",
        "        host = \"digitalskoladb.c04me33o8tni.ap-southeast-1.rds.amazonaws.com\",\n",
        "        port = 5432,\n",
        "        database= \"sandbox\",\n",
        "        user = \"group_a\",\n",
        "        password = \"hZrJQJ8RMttts9VZnUYZX93pr\")\n",
        "\n",
        "#creating object using the cursor method\n",
        "cursor = conn.cursor()\n",
        "\n",
        "print('Data sebelum diupdate')\n",
        "sql = '''\n",
        "      select * from sandbox.batch_2.bus\n",
        "'''\n",
        "cursor.execute(sql)\n",
        "print(cursor.fetchall())\n",
        "\n",
        "\n",
        "print('Data sesudah diupdate')\n",
        "sql = '''\n",
        "      update sandbox.batch_2.bus\n",
        "      set id = 100, origin = 'Medan', destination = 'Bandung', time = '10:00'\n",
        "      where id = 100 \n",
        "    '''\n",
        "cursor.execute(sql)\n",
        "\n",
        "sql = '''\n",
        "      select * from sandbox.batch_2.bus\n",
        "'''\n",
        "cursor.execute(sql)\n",
        "print(cursor.fetchall())\n",
        "\n",
        "conn.commit()\n",
        "\n",
        "conn.close()"
      ],
      "execution_count": null,
      "outputs": [
        {
          "name": "stdout",
          "output_type": "stream",
          "text": [
            "Data sebelum diupdate\n",
            "[(200, 'Jakarta', 'Palembang', datetime.time(11, 0)), (300, 'Jakarta', 'Jogja', datetime.time(12, 0)), (100, 'Aceh', 'Bandung', datetime.time(10, 0))]\n",
            "Data sesudah diupdate\n",
            "[(200, 'Jakarta', 'Palembang', datetime.time(11, 0)), (300, 'Jakarta', 'Jogja', datetime.time(12, 0)), (100, 'Medan', 'Bandung', datetime.time(10, 0))]\n"
          ]
        }
      ]
    },
    {
      "cell_type": "markdown",
      "metadata": {
        "id": "UbJBHxTkvRkb"
      },
      "source": [
        "# **Delete Data**"
      ]
    },
    {
      "cell_type": "code",
      "metadata": {
        "colab": {
          "base_uri": "https://localhost:8080/"
        },
        "id": "O7vR-7--uvMQ",
        "outputId": "3c94cf6b-26a4-4747-94e4-ef64a7bac82d"
      },
      "source": [
        "conn = psycopg2.connect(\n",
        "        host = \"digitalskoladb.c04me33o8tni.ap-southeast-1.rds.amazonaws.com\",\n",
        "        port = 5432,\n",
        "        database= \"sandbox\",\n",
        "        user = \"group_a\",\n",
        "        password = \"hZrJQJ8RMttts9VZnUYZX93pr\")\n",
        "\n",
        "#creating object using the cursor method\n",
        "cursor = conn.cursor()\n",
        "\n",
        "print('Data sebelum didelete')\n",
        "sql = '''\n",
        "      select * from sandbox.batch_2.bus\n",
        "'''\n",
        "cursor.execute(sql)\n",
        "print(cursor.fetchall())\n",
        "\n",
        "print('Data sesudah didelete')\n",
        "sql = '''\n",
        "      delete from sandbox.batch_2.bus where id = 100\n",
        "    '''\n",
        "cursor.execute(sql)\n",
        "\n",
        "sql = '''\n",
        "      select * from sandbox.batch_2.bus\n",
        "'''\n",
        "cursor.execute(sql)\n",
        "print(cursor.fetchall())\n",
        "\n",
        "conn.commit()\n",
        "\n",
        "conn.close()"
      ],
      "execution_count": null,
      "outputs": [
        {
          "name": "stdout",
          "output_type": "stream",
          "text": [
            "Data sebelum didelete\n",
            "[(200, 'Jakarta', 'Palembang', datetime.time(11, 0)), (300, 'Jakarta', 'Jogja', datetime.time(12, 0)), (100, 'Medan', 'Bandung', datetime.time(10, 0))]\n",
            "Data sesudah didelete\n",
            "[(200, 'Jakarta', 'Palembang', datetime.time(11, 0)), (300, 'Jakarta', 'Jogja', datetime.time(12, 0))]\n"
          ]
        }
      ]
    },
    {
      "cell_type": "markdown",
      "metadata": {
        "id": "DegPQH8CvQvE"
      },
      "source": [
        "# **Drop Table**"
      ]
    },
    {
      "cell_type": "code",
      "metadata": {
        "colab": {
          "base_uri": "https://localhost:8080/"
        },
        "id": "0gj6m9zPv68z",
        "outputId": "df485d28-1f6d-4cfd-9487-01dafe45c758"
      },
      "source": [
        "conn = psycopg2.connect(\n",
        "        host = \"digitalskoladb.c04me33o8tni.ap-southeast-1.rds.amazonaws.com\",\n",
        "        port = 5432,\n",
        "        database= \"sandbox\",\n",
        "        user = \"group_a\",\n",
        "        password = \"hZrJQJ8RMttts9VZnUYZX93pr\")\n",
        "\n",
        "#creating object using the cursor method\n",
        "cursor = conn.cursor()\n",
        "\n",
        "sql = '''\n",
        "      drop table sandbox.batch_2.bus\n",
        "'''\n",
        "\n",
        "cursor.execute(sql)\n",
        "print(\"Table sudah dihapus\")\n",
        "\n",
        "conn.commit()\n",
        "\n",
        "conn.close()"
      ],
      "execution_count": null,
      "outputs": [
        {
          "name": "stdout",
          "output_type": "stream",
          "text": [
            "Table sudah dihapus\n"
          ]
        }
      ]
    },
    {
      "cell_type": "markdown",
      "metadata": {
        "id": "eZJJNhMzxgby"
      },
      "source": [
        "# **How to Query from CSV**"
      ]
    },
    {
      "cell_type": "code",
      "metadata": {
        "colab": {
          "base_uri": "https://localhost:8080/"
        },
        "id": "RRZzjEWPwSij",
        "outputId": "f5ece8bb-e7f2-49c6-fd65-0a580669f830"
      },
      "source": [
        "!pip install sqldf\n",
        "import sqldf\n",
        "import pandas as pd"
      ],
      "execution_count": null,
      "outputs": [
        {
          "name": "stdout",
          "output_type": "stream",
          "text": [
            "Requirement already satisfied: sqldf in /usr/local/lib/python3.7/dist-packages (0.4.2)\n"
          ]
        }
      ]
    },
    {
      "cell_type": "code",
      "metadata": {
        "id": "HTDiBxirxqHu"
      },
      "source": [
        "california_housing = pd.read_csv('sample_data/california_housing_test.csv')\n",
        "california_train = pd.read_csv('sample_data/california_housing_train.csv')"
      ],
      "execution_count": null,
      "outputs": []
    },
    {
      "cell_type": "code",
      "metadata": {
        "colab": {
          "base_uri": "https://localhost:8080/",
          "height": 419
        },
        "id": "7gSGSEj3x4wZ",
        "outputId": "89b2346a-3b6e-4e09-c30f-a9509ecd28f0"
      },
      "source": [
        "california_housing"
      ],
      "execution_count": null,
      "outputs": [
        {
          "data": {
            "text/html": [
              "<div>\n",
              "<style scoped>\n",
              "    .dataframe tbody tr th:only-of-type {\n",
              "        vertical-align: middle;\n",
              "    }\n",
              "\n",
              "    .dataframe tbody tr th {\n",
              "        vertical-align: top;\n",
              "    }\n",
              "\n",
              "    .dataframe thead th {\n",
              "        text-align: right;\n",
              "    }\n",
              "</style>\n",
              "<table border=\"1\" class=\"dataframe\">\n",
              "  <thead>\n",
              "    <tr style=\"text-align: right;\">\n",
              "      <th></th>\n",
              "      <th>longitude</th>\n",
              "      <th>latitude</th>\n",
              "      <th>housing_median_age</th>\n",
              "      <th>total_rooms</th>\n",
              "      <th>total_bedrooms</th>\n",
              "      <th>population</th>\n",
              "      <th>households</th>\n",
              "      <th>median_income</th>\n",
              "      <th>median_house_value</th>\n",
              "    </tr>\n",
              "  </thead>\n",
              "  <tbody>\n",
              "    <tr>\n",
              "      <th>0</th>\n",
              "      <td>-122.05</td>\n",
              "      <td>37.37</td>\n",
              "      <td>27.0</td>\n",
              "      <td>3885.0</td>\n",
              "      <td>661.0</td>\n",
              "      <td>1537.0</td>\n",
              "      <td>606.0</td>\n",
              "      <td>6.6085</td>\n",
              "      <td>344700.0</td>\n",
              "    </tr>\n",
              "    <tr>\n",
              "      <th>1</th>\n",
              "      <td>-118.30</td>\n",
              "      <td>34.26</td>\n",
              "      <td>43.0</td>\n",
              "      <td>1510.0</td>\n",
              "      <td>310.0</td>\n",
              "      <td>809.0</td>\n",
              "      <td>277.0</td>\n",
              "      <td>3.5990</td>\n",
              "      <td>176500.0</td>\n",
              "    </tr>\n",
              "    <tr>\n",
              "      <th>2</th>\n",
              "      <td>-117.81</td>\n",
              "      <td>33.78</td>\n",
              "      <td>27.0</td>\n",
              "      <td>3589.0</td>\n",
              "      <td>507.0</td>\n",
              "      <td>1484.0</td>\n",
              "      <td>495.0</td>\n",
              "      <td>5.7934</td>\n",
              "      <td>270500.0</td>\n",
              "    </tr>\n",
              "    <tr>\n",
              "      <th>3</th>\n",
              "      <td>-118.36</td>\n",
              "      <td>33.82</td>\n",
              "      <td>28.0</td>\n",
              "      <td>67.0</td>\n",
              "      <td>15.0</td>\n",
              "      <td>49.0</td>\n",
              "      <td>11.0</td>\n",
              "      <td>6.1359</td>\n",
              "      <td>330000.0</td>\n",
              "    </tr>\n",
              "    <tr>\n",
              "      <th>4</th>\n",
              "      <td>-119.67</td>\n",
              "      <td>36.33</td>\n",
              "      <td>19.0</td>\n",
              "      <td>1241.0</td>\n",
              "      <td>244.0</td>\n",
              "      <td>850.0</td>\n",
              "      <td>237.0</td>\n",
              "      <td>2.9375</td>\n",
              "      <td>81700.0</td>\n",
              "    </tr>\n",
              "    <tr>\n",
              "      <th>...</th>\n",
              "      <td>...</td>\n",
              "      <td>...</td>\n",
              "      <td>...</td>\n",
              "      <td>...</td>\n",
              "      <td>...</td>\n",
              "      <td>...</td>\n",
              "      <td>...</td>\n",
              "      <td>...</td>\n",
              "      <td>...</td>\n",
              "    </tr>\n",
              "    <tr>\n",
              "      <th>2995</th>\n",
              "      <td>-119.86</td>\n",
              "      <td>34.42</td>\n",
              "      <td>23.0</td>\n",
              "      <td>1450.0</td>\n",
              "      <td>642.0</td>\n",
              "      <td>1258.0</td>\n",
              "      <td>607.0</td>\n",
              "      <td>1.1790</td>\n",
              "      <td>225000.0</td>\n",
              "    </tr>\n",
              "    <tr>\n",
              "      <th>2996</th>\n",
              "      <td>-118.14</td>\n",
              "      <td>34.06</td>\n",
              "      <td>27.0</td>\n",
              "      <td>5257.0</td>\n",
              "      <td>1082.0</td>\n",
              "      <td>3496.0</td>\n",
              "      <td>1036.0</td>\n",
              "      <td>3.3906</td>\n",
              "      <td>237200.0</td>\n",
              "    </tr>\n",
              "    <tr>\n",
              "      <th>2997</th>\n",
              "      <td>-119.70</td>\n",
              "      <td>36.30</td>\n",
              "      <td>10.0</td>\n",
              "      <td>956.0</td>\n",
              "      <td>201.0</td>\n",
              "      <td>693.0</td>\n",
              "      <td>220.0</td>\n",
              "      <td>2.2895</td>\n",
              "      <td>62000.0</td>\n",
              "    </tr>\n",
              "    <tr>\n",
              "      <th>2998</th>\n",
              "      <td>-117.12</td>\n",
              "      <td>34.10</td>\n",
              "      <td>40.0</td>\n",
              "      <td>96.0</td>\n",
              "      <td>14.0</td>\n",
              "      <td>46.0</td>\n",
              "      <td>14.0</td>\n",
              "      <td>3.2708</td>\n",
              "      <td>162500.0</td>\n",
              "    </tr>\n",
              "    <tr>\n",
              "      <th>2999</th>\n",
              "      <td>-119.63</td>\n",
              "      <td>34.42</td>\n",
              "      <td>42.0</td>\n",
              "      <td>1765.0</td>\n",
              "      <td>263.0</td>\n",
              "      <td>753.0</td>\n",
              "      <td>260.0</td>\n",
              "      <td>8.5608</td>\n",
              "      <td>500001.0</td>\n",
              "    </tr>\n",
              "  </tbody>\n",
              "</table>\n",
              "<p>3000 rows × 9 columns</p>\n",
              "</div>"
            ],
            "text/plain": [
              "      longitude  latitude  ...  median_income  median_house_value\n",
              "0       -122.05     37.37  ...         6.6085            344700.0\n",
              "1       -118.30     34.26  ...         3.5990            176500.0\n",
              "2       -117.81     33.78  ...         5.7934            270500.0\n",
              "3       -118.36     33.82  ...         6.1359            330000.0\n",
              "4       -119.67     36.33  ...         2.9375             81700.0\n",
              "...         ...       ...  ...            ...                 ...\n",
              "2995    -119.86     34.42  ...         1.1790            225000.0\n",
              "2996    -118.14     34.06  ...         3.3906            237200.0\n",
              "2997    -119.70     36.30  ...         2.2895             62000.0\n",
              "2998    -117.12     34.10  ...         3.2708            162500.0\n",
              "2999    -119.63     34.42  ...         8.5608            500001.0\n",
              "\n",
              "[3000 rows x 9 columns]"
            ]
          },
          "execution_count": 79,
          "metadata": {
            "tags": []
          },
          "output_type": "execute_result"
        }
      ]
    },
    {
      "cell_type": "code",
      "metadata": {
        "id": "9OCbZRpyx6iD"
      },
      "source": [
        "sql = '''\n",
        "      select a.longitude, a.latitude, b.longitude\n",
        "      from california_housing as a\n",
        "      join california_train as b on a.longitude = b.longitude\n",
        "'''"
      ],
      "execution_count": null,
      "outputs": []
    },
    {
      "cell_type": "code",
      "metadata": {
        "id": "E40luaGOyId6"
      },
      "source": [
        "df = sqldf.run(sql)"
      ],
      "execution_count": null,
      "outputs": []
    },
    {
      "cell_type": "code",
      "metadata": {
        "colab": {
          "base_uri": "https://localhost:8080/",
          "height": 419
        },
        "id": "EXIQAG2myOFU",
        "outputId": "0ee05dad-aec9-4c22-e7ed-89f1a9fe6196"
      },
      "source": [
        "df"
      ],
      "execution_count": null,
      "outputs": [
        {
          "data": {
            "text/html": [
              "<div>\n",
              "<style scoped>\n",
              "    .dataframe tbody tr th:only-of-type {\n",
              "        vertical-align: middle;\n",
              "    }\n",
              "\n",
              "    .dataframe tbody tr th {\n",
              "        vertical-align: top;\n",
              "    }\n",
              "\n",
              "    .dataframe thead th {\n",
              "        text-align: right;\n",
              "    }\n",
              "</style>\n",
              "<table border=\"1\" class=\"dataframe\">\n",
              "  <thead>\n",
              "    <tr style=\"text-align: right;\">\n",
              "      <th></th>\n",
              "      <th>longitude</th>\n",
              "      <th>latitude</th>\n",
              "      <th>longitude</th>\n",
              "    </tr>\n",
              "  </thead>\n",
              "  <tbody>\n",
              "    <tr>\n",
              "      <th>0</th>\n",
              "      <td>-122.05</td>\n",
              "      <td>37.37</td>\n",
              "      <td>-122.05</td>\n",
              "    </tr>\n",
              "    <tr>\n",
              "      <th>1</th>\n",
              "      <td>-122.05</td>\n",
              "      <td>37.37</td>\n",
              "      <td>-122.05</td>\n",
              "    </tr>\n",
              "    <tr>\n",
              "      <th>2</th>\n",
              "      <td>-122.05</td>\n",
              "      <td>37.37</td>\n",
              "      <td>-122.05</td>\n",
              "    </tr>\n",
              "    <tr>\n",
              "      <th>3</th>\n",
              "      <td>-122.05</td>\n",
              "      <td>37.37</td>\n",
              "      <td>-122.05</td>\n",
              "    </tr>\n",
              "    <tr>\n",
              "      <th>4</th>\n",
              "      <td>-122.05</td>\n",
              "      <td>37.37</td>\n",
              "      <td>-122.05</td>\n",
              "    </tr>\n",
              "    <tr>\n",
              "      <th>...</th>\n",
              "      <td>...</td>\n",
              "      <td>...</td>\n",
              "      <td>...</td>\n",
              "    </tr>\n",
              "    <tr>\n",
              "      <th>152545</th>\n",
              "      <td>-119.63</td>\n",
              "      <td>34.42</td>\n",
              "      <td>-119.63</td>\n",
              "    </tr>\n",
              "    <tr>\n",
              "      <th>152546</th>\n",
              "      <td>-119.63</td>\n",
              "      <td>34.42</td>\n",
              "      <td>-119.63</td>\n",
              "    </tr>\n",
              "    <tr>\n",
              "      <th>152547</th>\n",
              "      <td>-119.63</td>\n",
              "      <td>34.42</td>\n",
              "      <td>-119.63</td>\n",
              "    </tr>\n",
              "    <tr>\n",
              "      <th>152548</th>\n",
              "      <td>-119.63</td>\n",
              "      <td>34.42</td>\n",
              "      <td>-119.63</td>\n",
              "    </tr>\n",
              "    <tr>\n",
              "      <th>152549</th>\n",
              "      <td>-119.63</td>\n",
              "      <td>34.42</td>\n",
              "      <td>-119.63</td>\n",
              "    </tr>\n",
              "  </tbody>\n",
              "</table>\n",
              "<p>152550 rows × 3 columns</p>\n",
              "</div>"
            ],
            "text/plain": [
              "        longitude  latitude  longitude\n",
              "0         -122.05     37.37    -122.05\n",
              "1         -122.05     37.37    -122.05\n",
              "2         -122.05     37.37    -122.05\n",
              "3         -122.05     37.37    -122.05\n",
              "4         -122.05     37.37    -122.05\n",
              "...           ...       ...        ...\n",
              "152545    -119.63     34.42    -119.63\n",
              "152546    -119.63     34.42    -119.63\n",
              "152547    -119.63     34.42    -119.63\n",
              "152548    -119.63     34.42    -119.63\n",
              "152549    -119.63     34.42    -119.63\n",
              "\n",
              "[152550 rows x 3 columns]"
            ]
          },
          "execution_count": 88,
          "metadata": {
            "tags": []
          },
          "output_type": "execute_result"
        }
      ]
    },
    {
      "cell_type": "code",
      "metadata": {
        "id": "vxBikOYIyPi-"
      },
      "source": [
        ""
      ],
      "execution_count": null,
      "outputs": []
    }
  ]
}