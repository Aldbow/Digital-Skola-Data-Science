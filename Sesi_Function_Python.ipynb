{
  "nbformat": 4,
  "nbformat_minor": 0,
  "metadata": {
    "colab": {
      "name": "Sesi Function Python.ipynb",
      "provenance": [],
      "include_colab_link": true
    },
    "kernelspec": {
      "name": "python3",
      "display_name": "Python 3"
    },
    "language_info": {
      "name": "python"
    }
  },
  "cells": [
    {
      "cell_type": "markdown",
      "metadata": {
        "id": "view-in-github",
        "colab_type": "text"
      },
      "source": [
        "<a href=\"https://colab.research.google.com/github/Aldbow/kmb_aldiva/blob/main/Sesi_Function_Python.ipynb\" target=\"_parent\"><img src=\"https://colab.research.google.com/assets/colab-badge.svg\" alt=\"Open In Colab\"/></a>"
      ]
    },
    {
      "cell_type": "markdown",
      "metadata": {
        "id": "I1X__tV6lqls"
      },
      "source": [
        "Functions"
      ]
    },
    {
      "cell_type": "code",
      "metadata": {
        "colab": {
          "base_uri": "https://localhost:8080/"
        },
        "id": "u83ff6GNZiKf",
        "outputId": "d6605a1c-d116-4d16-8d16-f04269a93c24"
      },
      "source": [
        "def penjumlahan():\n",
        "  a = 2\n",
        "  b = 4\n",
        "  c = a + b\n",
        "  print(\"Result is\", c)\n",
        "\n",
        "penjumlahan()"
      ],
      "execution_count": null,
      "outputs": [
        {
          "output_type": "stream",
          "name": "stdout",
          "text": [
            "Result is 6\n"
          ]
        }
      ]
    },
    {
      "cell_type": "code",
      "metadata": {
        "colab": {
          "base_uri": "https://localhost:8080/"
        },
        "id": "mvg6pdaRZ2Hh",
        "outputId": "91a549e2-a994-4e89-8ddc-f73a4d433f23"
      },
      "source": [
        "def perkalian(a, b):\n",
        "  c = a * b\n",
        "  return c\n",
        "\n",
        "d = perkalian(10,2)\n",
        "\n",
        "print(\"Hasil perkalian adalah:\", d)"
      ],
      "execution_count": null,
      "outputs": [
        {
          "output_type": "stream",
          "name": "stdout",
          "text": [
            "Hasil perkalian adalah: 20\n"
          ]
        }
      ]
    },
    {
      "cell_type": "code",
      "metadata": {
        "colab": {
          "base_uri": "https://localhost:8080/"
        },
        "id": "AhJcFnbgaPaB",
        "outputId": "57cd1bac-3b11-46cf-e6a6-cc95beeff979"
      },
      "source": [
        "def pembagian(a, b, c):\n",
        "  d = a / b / c\n",
        "  print(\"Proses Selesai\") \n",
        "  return d\n",
        "\n",
        "angka_pertama = 10\n",
        "angka_kedua = 5\n",
        "angka_ketiga = 2\n",
        "\n",
        "e = pembagian(angka_pertama, angka_kedua, angka_ketiga)\n",
        "\n",
        "print(\"Hasil pembagian adalah:\", e)"
      ],
      "execution_count": null,
      "outputs": [
        {
          "output_type": "stream",
          "name": "stdout",
          "text": [
            "Proses Selesai\n",
            "Hasil pembagian adalah: 1.0\n"
          ]
        }
      ]
    },
    {
      "cell_type": "code",
      "metadata": {
        "colab": {
          "base_uri": "https://localhost:8080/"
        },
        "id": "jm2b4ykzce4F",
        "outputId": "88f451cf-7283-42d1-f0cf-f8c150243af9"
      },
      "source": [
        "def nilaiUjian(nilai, th_atas = 80, th_bwh = 60):\n",
        "  if nilai > th_atas:\n",
        "    keputusan = 'sangat baik'\n",
        "  elif nilai < th_bwh:\n",
        "    keputusan = 'remidi'\n",
        "  else:\n",
        "    keputusan = 'oke'\n",
        "\n",
        "  return keputusan\n",
        "\n",
        "print(nilaiUjian(90))"
      ],
      "execution_count": null,
      "outputs": [
        {
          "output_type": "stream",
          "name": "stdout",
          "text": [
            "sangat baik\n"
          ]
        }
      ]
    },
    {
      "cell_type": "code",
      "metadata": {
        "colab": {
          "base_uri": "https://localhost:8080/"
        },
        "id": "9EdWt8C2eizf",
        "outputId": "0406e3c9-0360-43cc-ddb8-0860f01b1fc6"
      },
      "source": [
        "list_nilai = [90,80,30,50,20,10,52,49,80,75]\n",
        "\n",
        "def koreksiNilai(kumpulan):\n",
        "    for i in kumpulan:\n",
        "        keputusan = nilaiUjian(i)\n",
        "        print('Nilai', i, keputusan)\n",
        "\n",
        "koreksiNilai(list_nilai)"
      ],
      "execution_count": null,
      "outputs": [
        {
          "output_type": "stream",
          "name": "stdout",
          "text": [
            "Nilai 90 sangat baik\n",
            "Nilai 80 oke\n",
            "Nilai 30 remidi\n",
            "Nilai 50 remidi\n",
            "Nilai 20 remidi\n",
            "Nilai 10 remidi\n",
            "Nilai 52 remidi\n",
            "Nilai 49 remidi\n",
            "Nilai 80 oke\n",
            "Nilai 75 oke\n"
          ]
        }
      ]
    },
    {
      "cell_type": "code",
      "metadata": {
        "colab": {
          "base_uri": "https://localhost:8080/"
        },
        "id": "guDJKT2HhJ7f",
        "outputId": "9c0e9e90-b269-4fc3-802e-8d8631c2539d"
      },
      "source": [
        "def perhitungan(a, b, c, d):\n",
        "  z = a / d\n",
        "  y = c + b\n",
        "  x = z * y\n",
        "\n",
        "  return z, y, x\n",
        "\n",
        "i, j, k = perhitungan(4,5,2,6)\n",
        "\n",
        "print(i, j, k)"
      ],
      "execution_count": null,
      "outputs": [
        {
          "output_type": "stream",
          "name": "stdout",
          "text": [
            "0.6666666666666666 7 4.666666666666666\n"
          ]
        }
      ]
    },
    {
      "cell_type": "markdown",
      "metadata": {
        "id": "JYn8TFW6ltxu"
      },
      "source": [
        "Libraries"
      ]
    },
    {
      "cell_type": "code",
      "metadata": {
        "id": "1dFszQpWkogU"
      },
      "source": [
        "import pandas as pd\n",
        "import matplotlib as plt"
      ],
      "execution_count": null,
      "outputs": []
    },
    {
      "cell_type": "markdown",
      "metadata": {
        "id": "sazd7uc3lyDl"
      },
      "source": [
        "String Manipulation"
      ]
    },
    {
      "cell_type": "code",
      "metadata": {
        "colab": {
          "base_uri": "https://localhost:8080/"
        },
        "id": "qq9g2H__k0L6",
        "outputId": "a7f34ce2-a600-4de4-c54b-4e2cf9a53b0b"
      },
      "source": [
        "#concatenate\n",
        "message = 'Aldiva' + ' ' + 'Wibowo'\n",
        "print(message)"
      ],
      "execution_count": null,
      "outputs": [
        {
          "output_type": "stream",
          "name": "stdout",
          "text": [
            "Aldiva Wibowo\n"
          ]
        }
      ]
    },
    {
      "cell_type": "code",
      "metadata": {
        "colab": {
          "base_uri": "https://localhost:8080/"
        },
        "id": "-zkoWZFOlA_V",
        "outputId": "4a263161-8f3a-4c73-db80-bd234557701d"
      },
      "source": [
        "def nama(depan, belakang):\n",
        "  lengkap = depan + ' ' + belakang\n",
        "  return lengkap\n",
        "\n",
        "print(nama(\"Aldiva\", \"Wibowo\"))"
      ],
      "execution_count": null,
      "outputs": [
        {
          "output_type": "stream",
          "name": "stdout",
          "text": [
            "Aldiva Wibowo\n"
          ]
        }
      ]
    },
    {
      "cell_type": "code",
      "metadata": {
        "colab": {
          "base_uri": "https://localhost:8080/"
        },
        "id": "NurULsCLlh1k",
        "outputId": "9ae9e8fb-c267-42b8-e09e-4e4343ec262a"
      },
      "source": [
        "star = '*' * 10\n",
        "\n",
        "print(star)"
      ],
      "execution_count": null,
      "outputs": [
        {
          "output_type": "stream",
          "name": "stdout",
          "text": [
            "**********\n"
          ]
        }
      ]
    },
    {
      "cell_type": "code",
      "metadata": {
        "colab": {
          "base_uri": "https://localhost:8080/"
        },
        "id": "_ZSv1oLOl3GC",
        "outputId": "4c71acc2-a853-4cc7-83dd-754104f837a3"
      },
      "source": [
        "message2 = 'awdakwdadjal wajkwldjawldjalwk alwkdjalkwdjalwkdjalkwj klajdklaj lakwjd lakjdw jkwalwdjwlawkd awjkwakd'\n",
        "\n",
        "len(message2)"
      ],
      "execution_count": null,
      "outputs": [
        {
          "output_type": "execute_result",
          "data": {
            "text/plain": [
              "102"
            ]
          },
          "metadata": {},
          "execution_count": 34
        }
      ]
    },
    {
      "cell_type": "code",
      "metadata": {
        "colab": {
          "base_uri": "https://localhost:8080/"
        },
        "id": "UTZokyoAmspg",
        "outputId": "2c75d278-b237-4360-d73a-3aed0d5d7e17"
      },
      "source": [
        "# String length\n",
        "message2 = 'lalalalala~12412312312f12f12f11212f121we12f11we212f21we1f12f21e'\n",
        "if len(message2) > 30:\n",
        "    print('kepanjangan!')\n",
        "else:\n",
        "    print('cukup')\n"
      ],
      "execution_count": null,
      "outputs": [
        {
          "output_type": "stream",
          "name": "stdout",
          "text": [
            "kepanjangan!\n"
          ]
        }
      ]
    },
    {
      "cell_type": "code",
      "metadata": {
        "colab": {
          "base_uri": "https://localhost:8080/"
        },
        "id": "Bint7DWbnN1C",
        "outputId": "2570f571-6a31-4e2a-c4e1-b925eea184a4"
      },
      "source": [
        "text = 'AldIvA wIbOwO'\n",
        "\n",
        "# lower case\n",
        "lower = text.lower()\n",
        "print(lower)\n",
        "\n",
        "# upper case\n",
        "upper = text.upper()\n",
        "print(upper)\n",
        "\n",
        "#Capitalized\n",
        "capitalize = text.capitalize()\n",
        "print(capitalize)\n",
        "\n",
        "#Title\n",
        "title = text.title()\n",
        "print(title)"
      ],
      "execution_count": null,
      "outputs": [
        {
          "output_type": "stream",
          "name": "stdout",
          "text": [
            "aldiva wibowo\n",
            "ALDIVA WIBOWO\n",
            "Aldiva wibowo\n",
            "Aldiva Wibowo\n"
          ]
        }
      ]
    },
    {
      "cell_type": "code",
      "metadata": {
        "colab": {
          "base_uri": "https://localhost:8080/"
        },
        "id": "BY4j7tkBpqZb",
        "outputId": "65dda380-99c7-4380-bb29-40115e1d68e7"
      },
      "source": [
        "#Replace\n",
        "message3 = 'Hello World'\n",
        "message4 = message3.replace('l', 'r')\n",
        "print(message4)"
      ],
      "execution_count": null,
      "outputs": [
        {
          "output_type": "stream",
          "name": "stdout",
          "text": [
            "Herro Worrd\n"
          ]
        }
      ]
    },
    {
      "cell_type": "code",
      "metadata": {
        "colab": {
          "base_uri": "https://localhost:8080/"
        },
        "id": "vJeaE7oKp4NX",
        "outputId": "894484ca-a137-40a0-b151-12c983debf66"
      },
      "source": [
        "#Slice\n",
        "print(message3[3:7])"
      ],
      "execution_count": null,
      "outputs": [
        {
          "output_type": "stream",
          "name": "stdout",
          "text": [
            "lo W\n"
          ]
        }
      ]
    },
    {
      "cell_type": "code",
      "metadata": {
        "id": "s25F8aCasku6"
      },
      "source": [
        "for i in message3.split():\n",
        "  if i == 'hello':\n",
        "    print(i)"
      ],
      "execution_count": null,
      "outputs": []
    }
  ]
}